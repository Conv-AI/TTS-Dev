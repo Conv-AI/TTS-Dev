{
  "cells": [
    {
      "cell_type": "code",
      "execution_count": null,
      "metadata": {
        "colab": {
          "base_uri": "https://localhost:8080/"
        },
        "id": "_YfXfqrKvNwo",
        "outputId": "24dac991-7a4b-417f-ea69-8f23ee549a2f"
      },
      "outputs": [
        {
          "name": "stdout",
          "output_type": "stream",
          "text": [
            "Drive already mounted at /content/drive; to attempt to forcibly remount, call drive.mount(\"/content/drive\", force_remount=True).\n"
          ]
        }
      ],
      "source": [
        "from google.colab import drive\n",
        "drive.mount('/content/drive')"
      ]
    },
    {
      "cell_type": "code",
      "execution_count": null,
      "metadata": {
        "id": "uOJEUaxBa-5q"
      },
      "outputs": [],
      "source": [
        "!pip install hydra-core==1.1"
      ]
    },
    {
      "cell_type": "code",
      "execution_count": null,
      "metadata": {
        "id": "pcHJA-9Fby4Z"
      },
      "outputs": [],
      "source": [
        "!pip install scipy==1.7.3\n",
        "\n",
        "BRANCH = 'main'\n",
        "# If you're using Google Colab and not running locally, uncomment and run this cell.\n",
        "!apt-get install sox libsndfile1 ffmpeg\n",
        "!pip install wget unidecode pynini==2.1.4\n",
        "!python -m pip install git+https://github.com/NVIDIA/NeMo.git@$BRANCH#egg=nemo_toolkit[all]"
      ]
    },
    {
      "cell_type": "code",
      "execution_count": null,
      "metadata": {
        "colab": {
          "base_uri": "https://localhost:8080/"
        },
        "id": "JC_ikpyUb1cF",
        "outputId": "12474a3d-29aa-4d5d-cb4a-a4013e9f1196"
      },
      "outputs": [
        {
          "name": "stderr",
          "output_type": "stream",
          "text": [
            "/usr/local/lib/python3.7/dist-packages/resampy/interpn.py:114: NumbaWarning: \u001b[1m\u001b[1mThe TBB threading layer requires TBB version 2019.5 or later i.e., TBB_INTERFACE_VERSION >= 11005. Found TBB_INTERFACE_VERSION = 9107. The TBB threading layer is disabled.\u001b[0m\u001b[0m\n",
            "  _resample_loop_p(x, t_out, interp_win, interp_delta, num_table, scale, y)\n",
            "[NeMo W 2022-07-31 14:58:08 optimizers:55] Apex was not found. Using the lamb or fused_adam optimizer will error out.\n",
            "[NeMo W 2022-07-31 14:58:08 experimental:28] Module <class 'nemo.collections.tts.torch.tts_tokenizers.IPATokenizer'> is experimental, not ready for production and is not fully supported. Use at your own risk.\n"
          ]
        }
      ],
      "source": [
        "from nemo.collections.tts.models import FastPitchModel"
      ]
    },
    {
      "cell_type": "code",
      "execution_count": null,
      "metadata": {
        "id": "KjJ44OKqkOv8"
      },
      "outputs": [],
      "source": [
        "!mkdir -p tts_dataset_files && cd tts_dataset_files \\\n",
        "&& wget https://raw.githubusercontent.com/NVIDIA/NeMo/main/scripts/tts_dataset_files/cmudict-0.7b_nv22.07 \\\n",
        "&& wget https://raw.githubusercontent.com/NVIDIA/NeMo/main/scripts/tts_dataset_files/heteronyms-030921 \\\n",
        "&& wget wget https://raw.githubusercontent.com/NVIDIA/NeMo/$BRANCH/nemo_text_processing/text_normalization/en/data/whitelist/lj_speech.tsv \\\n",
        "&& cd ..\n"
      ]
    },
    {
      "cell_type": "markdown",
      "metadata": {
        "id": "MOreadKG1GmT"
      },
      "source": [
        "Twilight Sparkle"
      ]
    },
    {
      "cell_type": "code",
      "execution_count": null,
      "metadata": {
        "id": "LwAxq-ywjxk6"
      },
      "outputs": [],
      "source": [
        "!cp /content/drive/MyDrive/TTS_finetuning/Twilight_sparkle/FastPitch--v_loss=1.2314-epoch=356-last.ckpt .\n",
        "checkpoint = '/content/FastPitch--v_loss=1.2314-epoch=356-last.ckpt'\n",
        "spec_model = FastPitchModel.load_from_checkpoint(checkpoint)\n",
        "spec_model.save_to('twilight_sparkle_FastPitch_model.nemo')"
      ]
    },
    {
      "cell_type": "markdown",
      "metadata": {
        "id": "Ao_j48Kb1VWA"
      },
      "source": [
        "Celestia"
      ]
    },
    {
      "cell_type": "code",
      "execution_count": null,
      "metadata": {
        "id": "DeuAn7dgtedU"
      },
      "outputs": [],
      "source": [
        "!cp /content/drive/MyDrive/TTS_finetuning/Celestia/FastPitch--v_loss=1.2484-epoch=853-last.ckpt .\n",
        "checkpoint = '/content/FastPitch--v_loss=1.2484-epoch=853-last.ckpt'\n",
        "spec_model = FastPitchModel.load_from_checkpoint(checkpoint)\n",
        "spec_model.save_to('celestia_FastPitch_model.nemo')"
      ]
    },
    {
      "cell_type": "markdown",
      "metadata": {
        "id": "mv1vTKQA1YcQ"
      },
      "source": [
        "Applejack"
      ]
    },
    {
      "cell_type": "code",
      "execution_count": null,
      "metadata": {
        "id": "BTTqx8AT1YKv"
      },
      "outputs": [],
      "source": [
        "!cp /content/drive/MyDrive/TTS_finetuning/apple_jack/FastPitch--v_loss=1.1907-epoch=132-last.ckpt .\n",
        "checkpoint = '/content/FastPitch--v_loss=1.1907-epoch=132-last.ckpt'\n",
        "spec_model = FastPitchModel.load_from_checkpoint(checkpoint)\n",
        "spec_model.save_to('applejack_FastPitch_model.nemo')"
      ]
    },
    {
      "cell_type": "markdown",
      "metadata": {
        "id": "Rx8EDTt01aew"
      },
      "source": [
        "Spike"
      ]
    },
    {
      "cell_type": "code",
      "execution_count": null,
      "metadata": {
        "id": "WM0ezv5T1aQh"
      },
      "outputs": [],
      "source": [
        "# !cp /content/drive/MyDrive/TTS_finetuning/Twilight_sparkle/FastPitch--v_loss=1.2314-epoch=356-last.ckpt .\n",
        "# checkpoint = '/content/FastPitch--v_loss=1.2314-epoch=356-last.ckpt'\n",
        "# spec_model = FastPitchModel.load_from_checkpoint(checkpoint)\n",
        "# spec_model.save_to('spike_FastPitch_model.nemo')"
      ]
    },
    {
      "cell_type": "markdown",
      "metadata": {
        "id": "sV6Q6tvE1df5"
      },
      "source": [
        "Trixie"
      ]
    },
    {
      "cell_type": "code",
      "source": [
        "!cp /content/tts_dataset_files/cmudict-0.7b_nv22.07 /content/tts_dataset_files/cmudict-0.7b_nv22.01"
      ],
      "metadata": {
        "id": "6rciGXss5_-6"
      },
      "execution_count": 12,
      "outputs": []
    },
    {
      "cell_type": "code",
      "execution_count": null,
      "metadata": {
        "id": "fr_4H5f_1dWz"
      },
      "outputs": [],
      "source": [
        "!cp /content/drive/MyDrive/TTS_finetuning/trixie_02/FastPitch--v_loss=1.4934-epoch=496-last.ckpt .\n",
        "checkpoint = '/content/FastPitch--v_loss=1.4934-epoch=496-last.ckpt'\n",
        "spec_model = FastPitchModel.load_from_checkpoint(checkpoint)\n",
        "spec_model.save_to('trixie_FastPitch_model.nemo')"
      ]
    },
    {
      "cell_type": "markdown",
      "metadata": {
        "id": "F8GtIIro1tff"
      },
      "source": [
        "HiFiGAN"
      ]
    },
    {
      "cell_type": "code",
      "execution_count": null,
      "metadata": {
        "id": "505czl1p1dLp"
      },
      "outputs": [],
      "source": [
        "from nemo.collections.tts.models import HifiGanModel\n",
        "from pathlib import Path\n",
        "\n",
        "home_path = !(echo $HOME)\n",
        "home_path = home_path[0]\n",
        "\n",
        "HifiGanModel.from_pretrained(\"tts_hifigan\")\n",
        "nemo_files = [p for p in Path(f\"{home_path}/.cache/torch/NeMo/\").glob(\"**/tts_hifigan.nemo\")]\n",
        "print(f\"Copying {nemo_files[0]} to ./\")\n",
        "Path(\"./tts_hifigan.nemo\").write_bytes(nemo_files[0].read_bytes())"
      ]
    },
    {
      "cell_type": "code",
      "source": [
        "!rm *.ckpt"
      ],
      "metadata": {
        "id": "HbEHR-vI7q-K"
      },
      "execution_count": 16,
      "outputs": []
    },
    {
      "cell_type": "markdown",
      "source": [
        "Uploading to the GCP bucket for easy access"
      ],
      "metadata": {
        "id": "v8iXiBKN8o8k"
      }
    },
    {
      "cell_type": "code",
      "source": [
        "from google.colab import auth\n",
        "auth.authenticate_user()\n",
        "\n",
        "# https://cloud.google.com/resource-manager/docs/creating-managing-projects\n",
        "project_id = 'convai-services-tech'\n",
        "!gcloud config set project {project_id}"
      ],
      "metadata": {
        "colab": {
          "base_uri": "https://localhost:8080/"
        },
        "id": "K1Mnh4qz8ttk",
        "outputId": "2768488f-ea79-4971-e518-7cb2dce66403"
      },
      "execution_count": 22,
      "outputs": [
        {
          "output_type": "stream",
          "name": "stdout",
          "text": [
            "Updated property [core/project].\n"
          ]
        }
      ]
    },
    {
      "cell_type": "code",
      "source": [
        "bucket_name = 'tts-voices-mlp'\n",
        "\n",
        "# Full reference: https://cloud.google.com/storage/docs/gsutil/commands/mb\n",
        "!gsutil mb gs://{bucket_name}"
      ],
      "metadata": {
        "colab": {
          "base_uri": "https://localhost:8080/"
        },
        "id": "sLxdb1Yw-GWb",
        "outputId": "9aa6a85d-985a-4514-d47e-413e3b57a5e3"
      },
      "execution_count": 24,
      "outputs": [
        {
          "output_type": "stream",
          "name": "stdout",
          "text": [
            "Creating gs://tts-voices-mlp/...\n"
          ]
        }
      ]
    },
    {
      "cell_type": "code",
      "source": [
        "# Copy the file to our new bucket.\n",
        "# Full reference: https://cloud.google.com/storage/docs/gsutil/commands/cp\n",
        "!gsutil cp /content/applejack_FastPitch_model.nemo gs://{bucket_name}/\n",
        "!gsutil cp /content/celestia_FastPitch_model.nemo gs://{bucket_name}/\n",
        "!gsutil cp /content/trixie_FastPitch_model.nemo gs://{bucket_name}/\n",
        "!gsutil cp /content/twilight_sparkle_FastPitch_model.nemo gs://{bucket_name}/\n",
        "!gsutil cp /content/tts_hifigan.nemo gs://{bucket_name}/"
      ],
      "metadata": {
        "colab": {
          "base_uri": "https://localhost:8080/"
        },
        "id": "p8WLOQI-86KG",
        "outputId": "93c721a1-2ce9-485a-9e7f-6d913deaf2ba"
      },
      "execution_count": 25,
      "outputs": [
        {
          "output_type": "stream",
          "name": "stdout",
          "text": [
            "Copying file:///content/applejack_FastPitch_model.nemo [Content-Type=application/octet-stream]...\n",
            "/ [0 files][    0.0 B/178.4 MiB]                                                \r==> NOTE: You are uploading one or more large file(s), which would run\n",
            "significantly faster if you enable parallel composite uploads. This\n",
            "feature can be enabled by editing the\n",
            "\"parallel_composite_upload_threshold\" value in your .boto\n",
            "configuration file. However, note that if you do this large files will\n",
            "be uploaded as `composite objects\n",
            "<https://cloud.google.com/storage/docs/composite-objects>`_,which\n",
            "means that any user who downloads such objects will need to have a\n",
            "compiled crcmod installed (see \"gsutil help crcmod\"). This is because\n",
            "without a compiled crcmod, computing checksums on composite objects is\n",
            "so slow that gsutil disables downloads of composite objects.\n",
            "\n",
            "/\n",
            "Operation completed over 1 objects/178.4 MiB.                                    \n",
            "Copying file:///content/celestia_FastPitch_model.nemo [Content-Type=application/octet-stream]...\n",
            "==> NOTE: You are uploading one or more large file(s), which would run\n",
            "significantly faster if you enable parallel composite uploads. This\n",
            "feature can be enabled by editing the\n",
            "\"parallel_composite_upload_threshold\" value in your .boto\n",
            "configuration file. However, note that if you do this large files will\n",
            "be uploaded as `composite objects\n",
            "<https://cloud.google.com/storage/docs/composite-objects>`_,which\n",
            "means that any user who downloads such objects will need to have a\n",
            "compiled crcmod installed (see \"gsutil help crcmod\"). This is because\n",
            "without a compiled crcmod, computing checksums on composite objects is\n",
            "so slow that gsutil disables downloads of composite objects.\n",
            "\n",
            "|\n",
            "Operation completed over 1 objects/178.4 MiB.                                    \n",
            "Copying file:///content/trixie_FastPitch_model.nemo [Content-Type=application/octet-stream]...\n",
            "==> NOTE: You are uploading one or more large file(s), which would run\n",
            "significantly faster if you enable parallel composite uploads. This\n",
            "feature can be enabled by editing the\n",
            "\"parallel_composite_upload_threshold\" value in your .boto\n",
            "configuration file. However, note that if you do this large files will\n",
            "be uploaded as `composite objects\n",
            "<https://cloud.google.com/storage/docs/composite-objects>`_,which\n",
            "means that any user who downloads such objects will need to have a\n",
            "compiled crcmod installed (see \"gsutil help crcmod\"). This is because\n",
            "without a compiled crcmod, computing checksums on composite objects is\n",
            "so slow that gsutil disables downloads of composite objects.\n",
            "\n",
            "|\n",
            "Operation completed over 1 objects/178.4 MiB.                                    \n",
            "Copying file:///content/twilight_sparkle_FastPitch_model.nemo [Content-Type=application/octet-stream]...\n",
            "==> NOTE: You are uploading one or more large file(s), which would run\n",
            "significantly faster if you enable parallel composite uploads. This\n",
            "feature can be enabled by editing the\n",
            "\"parallel_composite_upload_threshold\" value in your .boto\n",
            "configuration file. However, note that if you do this large files will\n",
            "be uploaded as `composite objects\n",
            "<https://cloud.google.com/storage/docs/composite-objects>`_,which\n",
            "means that any user who downloads such objects will need to have a\n",
            "compiled crcmod installed (see \"gsutil help crcmod\"). This is because\n",
            "without a compiled crcmod, computing checksums on composite objects is\n",
            "so slow that gsutil disables downloads of composite objects.\n",
            "\n",
            "/\n",
            "Operation completed over 1 objects/178.4 MiB.                                    \n",
            "Copying file:///content/tts_hifigan.nemo [Content-Type=application/octet-stream]...\n",
            "==> NOTE: You are uploading one or more large file(s), which would run\n",
            "significantly faster if you enable parallel composite uploads. This\n",
            "feature can be enabled by editing the\n",
            "\"parallel_composite_upload_threshold\" value in your .boto\n",
            "configuration file. However, note that if you do this large files will\n",
            "be uploaded as `composite objects\n",
            "<https://cloud.google.com/storage/docs/composite-objects>`_,which\n",
            "means that any user who downloads such objects will need to have a\n",
            "compiled crcmod installed (see \"gsutil help crcmod\"). This is because\n",
            "without a compiled crcmod, computing checksums on composite objects is\n",
            "so slow that gsutil disables downloads of composite objects.\n",
            "\n",
            "/\n",
            "Operation completed over 1 objects/300.8 MiB.                                    \n"
          ]
        }
      ]
    },
    {
      "cell_type": "code",
      "source": [
        ""
      ],
      "metadata": {
        "id": "JOuLd92RAh9w"
      },
      "execution_count": null,
      "outputs": []
    }
  ],
  "metadata": {
    "accelerator": "GPU",
    "colab": {
      "name": "riva_deployment.ipynb",
      "provenance": [],
      "collapsed_sections": []
    },
    "gpuClass": "standard",
    "kernelspec": {
      "display_name": "Python 3",
      "name": "python3"
    },
    "language_info": {
      "name": "python"
    }
  },
  "nbformat": 4,
  "nbformat_minor": 0
}