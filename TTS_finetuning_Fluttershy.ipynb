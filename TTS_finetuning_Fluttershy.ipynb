{
  "nbformat": 4,
  "nbformat_minor": 0,
  "metadata": {
    "colab": {
      "name": "TTS-finetuning_Fluttershy.ipynb",
      "provenance": [],
      "collapsed_sections": [],
      "machine_shape": "hm",
      "authorship_tag": "ABX9TyPOFndxKA6Upi59F0osuyAg",
      "include_colab_link": true
    },
    "kernelspec": {
      "name": "python3",
      "display_name": "Python 3"
    },
    "language_info": {
      "name": "python"
    },
    "accelerator": "GPU",
    "gpuClass": "standard"
  },
  "cells": [
    {
      "cell_type": "markdown",
      "metadata": {
        "id": "view-in-github",
        "colab_type": "text"
      },
      "source": [
        "<a href=\"https://colab.research.google.com/github/Conv-AI/TTS-Dev/blob/main/TTS_finetuning_Fluttershy.ipynb\" target=\"_parent\"><img src=\"https://colab.research.google.com/assets/colab-badge.svg\" alt=\"Open In Colab\"/></a>"
      ]
    },
    {
      "cell_type": "markdown",
      "source": [
        "## Setting up the environment"
      ],
      "metadata": {
        "id": "50T0jskpkv2h"
      }
    },
    {
      "cell_type": "code",
      "source": [
        "!pip install wandb\n",
        "!wandb login"
      ],
      "metadata": {
        "colab": {
          "base_uri": "https://localhost:8080/"
        },
        "id": "1I75xDmxQu96",
        "outputId": "6bc28611-ab27-4046-f1c2-d11189ef9a8d"
      },
      "execution_count": 7,
      "outputs": [
        {
          "output_type": "stream",
          "name": "stdout",
          "text": [
            "Looking in indexes: https://pypi.org/simple, https://us-python.pkg.dev/colab-wheels/public/simple/\n",
            "Requirement already satisfied: wandb in /usr/local/lib/python3.7/dist-packages (0.12.18)\n",
            "Requirement already satisfied: protobuf<4.0dev,>=3.12.0 in /usr/local/lib/python3.7/dist-packages (from wandb) (3.17.3)\n",
            "Requirement already satisfied: psutil>=5.0.0 in /usr/local/lib/python3.7/dist-packages (from wandb) (5.4.8)\n",
            "Requirement already satisfied: sentry-sdk>=1.0.0 in /usr/local/lib/python3.7/dist-packages (from wandb) (1.5.12)\n",
            "Requirement already satisfied: setproctitle in /usr/local/lib/python3.7/dist-packages (from wandb) (1.2.3)\n",
            "Requirement already satisfied: six>=1.13.0 in /usr/local/lib/python3.7/dist-packages (from wandb) (1.15.0)\n",
            "Requirement already satisfied: shortuuid>=0.5.0 in /usr/local/lib/python3.7/dist-packages (from wandb) (1.0.9)\n",
            "Requirement already satisfied: requests<3,>=2.0.0 in /usr/local/lib/python3.7/dist-packages (from wandb) (2.23.0)\n",
            "Requirement already satisfied: GitPython>=1.0.0 in /usr/local/lib/python3.7/dist-packages (from wandb) (3.1.27)\n",
            "Requirement already satisfied: setuptools in /usr/local/lib/python3.7/dist-packages (from wandb) (59.5.0)\n",
            "Requirement already satisfied: docker-pycreds>=0.4.0 in /usr/local/lib/python3.7/dist-packages (from wandb) (0.4.0)\n",
            "Requirement already satisfied: pathtools in /usr/local/lib/python3.7/dist-packages (from wandb) (0.1.2)\n",
            "Requirement already satisfied: promise<3,>=2.0 in /usr/local/lib/python3.7/dist-packages (from wandb) (2.3)\n",
            "Requirement already satisfied: Click!=8.0.0,>=7.0 in /usr/local/lib/python3.7/dist-packages (from wandb) (7.1.2)\n",
            "Requirement already satisfied: PyYAML in /usr/local/lib/python3.7/dist-packages (from wandb) (5.4.1)\n",
            "Requirement already satisfied: gitdb<5,>=4.0.1 in /usr/local/lib/python3.7/dist-packages (from GitPython>=1.0.0->wandb) (4.0.9)\n",
            "Requirement already satisfied: typing-extensions>=3.7.4.3 in /usr/local/lib/python3.7/dist-packages (from GitPython>=1.0.0->wandb) (4.2.0)\n",
            "Requirement already satisfied: smmap<6,>=3.0.1 in /usr/local/lib/python3.7/dist-packages (from gitdb<5,>=4.0.1->GitPython>=1.0.0->wandb) (5.0.0)\n",
            "Requirement already satisfied: chardet<4,>=3.0.2 in /usr/local/lib/python3.7/dist-packages (from requests<3,>=2.0.0->wandb) (3.0.4)\n",
            "Requirement already satisfied: urllib3!=1.25.0,!=1.25.1,<1.26,>=1.21.1 in /usr/local/lib/python3.7/dist-packages (from requests<3,>=2.0.0->wandb) (1.25.11)\n",
            "Requirement already satisfied: idna<3,>=2.5 in /usr/local/lib/python3.7/dist-packages (from requests<3,>=2.0.0->wandb) (2.10)\n",
            "Requirement already satisfied: certifi>=2017.4.17 in /usr/local/lib/python3.7/dist-packages (from requests<3,>=2.0.0->wandb) (2022.5.18.1)\n",
            "\u001b[34m\u001b[1mwandb\u001b[0m: Logging into wandb.ai. (Learn how to deploy a W&B server locally: https://wandb.me/wandb-server)\n",
            "\u001b[34m\u001b[1mwandb\u001b[0m: You can find your API key in your browser here: https://wandb.ai/authorize\n",
            "\u001b[34m\u001b[1mwandb\u001b[0m: Paste an API key from your profile and hit enter, or press ctrl+c to quit: \n",
            "\u001b[34m\u001b[1mwandb\u001b[0m: Appending key for api.wandb.ai to your netrc file: /root/.netrc\n"
          ]
        }
      ]
    },
    {
      "cell_type": "code",
      "source": [
        "BRANCH = 'main'\n",
        "# If you're using Google Colab and not running locally, uncomment and run this cell.\n",
        "!apt-get install sox libsndfile1 ffmpeg\n",
        "!pip install wget unidecode pynini==2.1.4\n",
        "!python -m pip install git+https://github.com/NVIDIA/NeMo.git@$BRANCH#egg=nemo_toolkit[all]"
      ],
      "metadata": {
        "colab": {
          "base_uri": "https://localhost:8080/"
        },
        "id": "vsAenBDSh5uQ",
        "outputId": "1e7332bf-ecc8-4971-8099-f6632e5bfa4d"
      },
      "execution_count": 1,
      "outputs": [
        {
          "output_type": "stream",
          "name": "stdout",
          "text": [
            "Reading package lists... Done\n",
            "Building dependency tree       \n",
            "Reading state information... Done\n",
            "libsndfile1 is already the newest version (1.0.28-4ubuntu0.18.04.2).\n",
            "ffmpeg is already the newest version (7:3.4.11-0ubuntu0.1).\n",
            "sox is already the newest version (14.4.2-3ubuntu0.18.04.1).\n",
            "The following package was automatically installed and is no longer required:\n",
            "  libnvidia-common-460\n",
            "Use 'apt autoremove' to remove it.\n",
            "0 upgraded, 0 newly installed, 0 to remove and 49 not upgraded.\n",
            "Looking in indexes: https://pypi.org/simple, https://us-python.pkg.dev/colab-wheels/public/simple/\n",
            "Requirement already satisfied: wget in /usr/local/lib/python3.7/dist-packages (3.2)\n",
            "Requirement already satisfied: unidecode in /usr/local/lib/python3.7/dist-packages (1.3.4)\n",
            "Requirement already satisfied: pynini==2.1.4 in /usr/local/lib/python3.7/dist-packages (2.1.4)\n",
            "Requirement already satisfied: Cython>=0.29 in /usr/local/lib/python3.7/dist-packages (from pynini==2.1.4) (0.29.30)\n",
            "Looking in indexes: https://pypi.org/simple, https://us-python.pkg.dev/colab-wheels/public/simple/\n",
            "Collecting nemo_toolkit[all]\n",
            "  Cloning https://github.com/NVIDIA/NeMo.git (to revision main) to /tmp/pip-install-5zgcd5mv/nemo-toolkit_dc6a4651a4034c06945623f556364994\n",
            "  Running command git clone -q https://github.com/NVIDIA/NeMo.git /tmp/pip-install-5zgcd5mv/nemo-toolkit_dc6a4651a4034c06945623f556364994\n",
            "Requirement already satisfied: setuptools==59.5.0 in /usr/local/lib/python3.7/dist-packages (from nemo_toolkit[all]) (59.5.0)\n",
            "Requirement already satisfied: numpy>=1.21 in /usr/local/lib/python3.7/dist-packages (from nemo_toolkit[all]) (1.21.6)\n",
            "Requirement already satisfied: onnx>=1.7.0 in /usr/local/lib/python3.7/dist-packages (from nemo_toolkit[all]) (1.11.0)\n",
            "Requirement already satisfied: python-dateutil in /usr/local/lib/python3.7/dist-packages (from nemo_toolkit[all]) (2.8.2)\n",
            "Requirement already satisfied: torch in /usr/local/lib/python3.7/dist-packages (from nemo_toolkit[all]) (1.11.0+cu113)\n",
            "Requirement already satisfied: wrapt in /usr/local/lib/python3.7/dist-packages (from nemo_toolkit[all]) (1.14.1)\n",
            "Requirement already satisfied: ruamel.yaml in /usr/local/lib/python3.7/dist-packages (from nemo_toolkit[all]) (0.17.21)\n",
            "Requirement already satisfied: scikit-learn in /usr/local/lib/python3.7/dist-packages (from nemo_toolkit[all]) (1.0.2)\n",
            "Requirement already satisfied: tqdm>=4.41.0 in /usr/local/lib/python3.7/dist-packages (from nemo_toolkit[all]) (4.64.0)\n",
            "Requirement already satisfied: numba in /usr/local/lib/python3.7/dist-packages (from nemo_toolkit[all]) (0.51.2)\n",
            "Requirement already satisfied: wget in /usr/local/lib/python3.7/dist-packages (from nemo_toolkit[all]) (3.2)\n",
            "Requirement already satisfied: frozendict in /usr/local/lib/python3.7/dist-packages (from nemo_toolkit[all]) (2.3.2)\n",
            "Requirement already satisfied: unidecode in /usr/local/lib/python3.7/dist-packages (from nemo_toolkit[all]) (1.3.4)\n",
            "Requirement already satisfied: huggingface_hub in /usr/local/lib/python3.7/dist-packages (from nemo_toolkit[all]) (0.7.0)\n",
            "Requirement already satisfied: black==19.10b0 in /usr/local/lib/python3.7/dist-packages (from nemo_toolkit[all]) (19.10b0)\n",
            "Requirement already satisfied: isort[requirements]<5 in /usr/local/lib/python3.7/dist-packages (from nemo_toolkit[all]) (4.3.21)\n",
            "Requirement already satisfied: parameterized in /usr/local/lib/python3.7/dist-packages (from nemo_toolkit[all]) (0.8.1)\n",
            "Requirement already satisfied: pytest in /usr/local/lib/python3.7/dist-packages (from nemo_toolkit[all]) (3.6.4)\n",
            "Requirement already satisfied: pytest-runner in /usr/local/lib/python3.7/dist-packages (from nemo_toolkit[all]) (6.0.0)\n",
            "Requirement already satisfied: sphinx in /usr/local/lib/python3.7/dist-packages (from nemo_toolkit[all]) (5.0.2)\n",
            "Requirement already satisfied: sphinxcontrib-bibtex in /usr/local/lib/python3.7/dist-packages (from nemo_toolkit[all]) (2.4.2)\n",
            "Requirement already satisfied: wandb in /usr/local/lib/python3.7/dist-packages (from nemo_toolkit[all]) (0.12.18)\n",
            "Requirement already satisfied: inflect in /usr/local/lib/python3.7/dist-packages (from nemo_toolkit[all]) (2.1.0)\n",
            "Requirement already satisfied: regex in /usr/local/lib/python3.7/dist-packages (from nemo_toolkit[all]) (2022.6.2)\n",
            "Requirement already satisfied: pynini==2.1.4 in /usr/local/lib/python3.7/dist-packages (from nemo_toolkit[all]) (2.1.4)\n",
            "Requirement already satisfied: pytorch-lightning>=1.6.1 in /usr/local/lib/python3.7/dist-packages (from nemo_toolkit[all]) (1.6.4)\n",
            "Requirement already satisfied: torchmetrics>=0.4.1rc0 in /usr/local/lib/python3.7/dist-packages (from nemo_toolkit[all]) (0.9.1)\n",
            "Requirement already satisfied: transformers>=4.0.1 in /usr/local/lib/python3.7/dist-packages (from nemo_toolkit[all]) (4.20.0)\n",
            "Requirement already satisfied: webdataset<=0.1.62,>=0.1.48 in /usr/local/lib/python3.7/dist-packages (from nemo_toolkit[all]) (0.1.62)\n",
            "Requirement already satisfied: omegaconf<2.2,>=2.1.2 in /usr/local/lib/python3.7/dist-packages (from nemo_toolkit[all]) (2.1.2)\n",
            "Requirement already satisfied: hydra-core<1.2,>=1.1.0 in /usr/local/lib/python3.7/dist-packages (from nemo_toolkit[all]) (1.1.0)\n",
            "Requirement already satisfied: pyyaml<6 in /usr/local/lib/python3.7/dist-packages (from nemo_toolkit[all]) (5.4.1)\n",
            "Requirement already satisfied: sentencepiece<1.0.0 in /usr/local/lib/python3.7/dist-packages (from nemo_toolkit[all]) (0.1.96)\n",
            "Requirement already satisfied: youtokentome>=1.0.5 in /usr/local/lib/python3.7/dist-packages (from nemo_toolkit[all]) (1.0.6)\n",
            "Requirement already satisfied: pandas in /usr/local/lib/python3.7/dist-packages (from nemo_toolkit[all]) (1.3.5)\n",
            "Requirement already satisfied: sacremoses>=0.0.43 in /usr/local/lib/python3.7/dist-packages (from nemo_toolkit[all]) (0.0.53)\n",
            "Requirement already satisfied: braceexpand in /usr/local/lib/python3.7/dist-packages (from nemo_toolkit[all]) (0.1.7)\n",
            "Requirement already satisfied: editdistance in /usr/local/lib/python3.7/dist-packages (from nemo_toolkit[all]) (0.5.3)\n",
            "Requirement already satisfied: librosa in /usr/local/lib/python3.7/dist-packages (from nemo_toolkit[all]) (0.8.1)\n",
            "Requirement already satisfied: marshmallow in /usr/local/lib/python3.7/dist-packages (from nemo_toolkit[all]) (3.16.0)\n",
            "Requirement already satisfied: packaging in /usr/local/lib/python3.7/dist-packages (from nemo_toolkit[all]) (21.3)\n",
            "Requirement already satisfied: soundfile in /usr/local/lib/python3.7/dist-packages (from nemo_toolkit[all]) (0.10.3.post1)\n",
            "Requirement already satisfied: sox in /usr/local/lib/python3.7/dist-packages (from nemo_toolkit[all]) (1.4.1)\n",
            "Requirement already satisfied: kaldi-python-io in /usr/local/lib/python3.7/dist-packages (from nemo_toolkit[all]) (1.2.2)\n",
            "Requirement already satisfied: kaldiio in /usr/local/lib/python3.7/dist-packages (from nemo_toolkit[all]) (2.17.2)\n",
            "Requirement already satisfied: scipy>=0.14 in /usr/local/lib/python3.7/dist-packages (from nemo_toolkit[all]) (1.4.1)\n",
            "Requirement already satisfied: g2p_en in /usr/local/lib/python3.7/dist-packages (from nemo_toolkit[all]) (2.1.0)\n",
            "Requirement already satisfied: pydub in /usr/local/lib/python3.7/dist-packages (from nemo_toolkit[all]) (0.25.1)\n",
            "Requirement already satisfied: pyannote.core in /usr/local/lib/python3.7/dist-packages (from nemo_toolkit[all]) (4.4)\n",
            "Requirement already satisfied: pyannote.metrics in /usr/local/lib/python3.7/dist-packages (from nemo_toolkit[all]) (3.2)\n",
            "Requirement already satisfied: ipywidgets in /usr/local/lib/python3.7/dist-packages (from nemo_toolkit[all]) (7.7.0)\n",
            "Requirement already satisfied: matplotlib in /usr/local/lib/python3.7/dist-packages (from nemo_toolkit[all]) (3.2.2)\n",
            "Requirement already satisfied: pillow in /usr/local/lib/python3.7/dist-packages (from nemo_toolkit[all]) (7.1.2)\n",
            "Requirement already satisfied: torchvision in /usr/local/lib/python3.7/dist-packages (from nemo_toolkit[all]) (0.12.0+cu113)\n",
            "Requirement already satisfied: boto3 in /usr/local/lib/python3.7/dist-packages (from nemo_toolkit[all]) (1.24.11)\n",
            "Requirement already satisfied: h5py in /usr/local/lib/python3.7/dist-packages (from nemo_toolkit[all]) (3.1.0)\n",
            "Collecting matplotlib>=3.3.2\n",
            "  Using cached matplotlib-3.5.2-cp37-cp37m-manylinux_2_5_x86_64.manylinux1_x86_64.whl (11.2 MB)\n",
            "Requirement already satisfied: rapidfuzz in /usr/local/lib/python3.7/dist-packages (from nemo_toolkit[all]) (2.0.11)\n",
            "Requirement already satisfied: gdown in /usr/local/lib/python3.7/dist-packages (from nemo_toolkit[all]) (4.4.0)\n",
            "Requirement already satisfied: sacrebleu[ja] in /usr/local/lib/python3.7/dist-packages (from nemo_toolkit[all]) (2.1.0)\n",
            "Requirement already satisfied: nltk>=3.6.5 in /usr/local/lib/python3.7/dist-packages (from nemo_toolkit[all]) (3.7)\n",
            "Requirement already satisfied: fasttext in /usr/local/lib/python3.7/dist-packages (from nemo_toolkit[all]) (0.9.2)\n",
            "Requirement already satisfied: opencc in /usr/local/lib/python3.7/dist-packages (from nemo_toolkit[all]) (1.1.4)\n",
            "Requirement already satisfied: pangu in /usr/local/lib/python3.7/dist-packages (from nemo_toolkit[all]) (4.0.6.1)\n",
            "Requirement already satisfied: jieba in /usr/local/lib/python3.7/dist-packages (from nemo_toolkit[all]) (0.42.1)\n",
            "Requirement already satisfied: ftfy in /usr/local/lib/python3.7/dist-packages (from nemo_toolkit[all]) (6.1.1)\n",
            "Requirement already satisfied: flask_restful in /usr/local/lib/python3.7/dist-packages (from nemo_toolkit[all]) (0.3.9)\n",
            "Requirement already satisfied: einops in /usr/local/lib/python3.7/dist-packages (from nemo_toolkit[all]) (0.4.1)\n",
            "Requirement already satisfied: ijson in /usr/local/lib/python3.7/dist-packages (from nemo_toolkit[all]) (3.1.4)\n",
            "Requirement already satisfied: faiss-cpu in /usr/local/lib/python3.7/dist-packages (from nemo_toolkit[all]) (1.7.2)\n",
            "Requirement already satisfied: sentence_transformers in /usr/local/lib/python3.7/dist-packages (from nemo_toolkit[all]) (2.2.0)\n",
            "Requirement already satisfied: pypinyin in /usr/local/lib/python3.7/dist-packages (from nemo_toolkit[all]) (0.46.0)\n",
            "Requirement already satisfied: attrdict in /usr/local/lib/python3.7/dist-packages (from nemo_toolkit[all]) (2.0.1)\n",
            "Requirement already satisfied: pystoi in /usr/local/lib/python3.7/dist-packages (from nemo_toolkit[all]) (0.3.3)\n",
            "Requirement already satisfied: pesq in /usr/local/lib/python3.7/dist-packages (from nemo_toolkit[all]) (0.0.4)\n",
            "Requirement already satisfied: appdirs in /usr/local/lib/python3.7/dist-packages (from black==19.10b0->nemo_toolkit[all]) (1.4.4)\n",
            "Requirement already satisfied: pathspec<1,>=0.6 in /usr/local/lib/python3.7/dist-packages (from black==19.10b0->nemo_toolkit[all]) (0.9.0)\n",
            "Requirement already satisfied: typed-ast>=1.4.0 in /usr/local/lib/python3.7/dist-packages (from black==19.10b0->nemo_toolkit[all]) (1.5.4)\n",
            "Requirement already satisfied: toml>=0.9.4 in /usr/local/lib/python3.7/dist-packages (from black==19.10b0->nemo_toolkit[all]) (0.10.2)\n",
            "Requirement already satisfied: click>=6.5 in /usr/local/lib/python3.7/dist-packages (from black==19.10b0->nemo_toolkit[all]) (7.1.2)\n",
            "Requirement already satisfied: attrs>=18.1.0 in /usr/local/lib/python3.7/dist-packages (from black==19.10b0->nemo_toolkit[all]) (21.4.0)\n",
            "Requirement already satisfied: Cython>=0.29 in /usr/local/lib/python3.7/dist-packages (from pynini==2.1.4->nemo_toolkit[all]) (0.29.30)\n",
            "Requirement already satisfied: antlr4-python3-runtime==4.8 in /usr/local/lib/python3.7/dist-packages (from hydra-core<1.2,>=1.1.0->nemo_toolkit[all]) (4.8)\n",
            "Requirement already satisfied: importlib-resources in /usr/local/lib/python3.7/dist-packages (from hydra-core<1.2,>=1.1.0->nemo_toolkit[all]) (5.2.3)\n",
            "Requirement already satisfied: pip-api in /usr/local/lib/python3.7/dist-packages (from isort[requirements]<5->nemo_toolkit[all]) (0.0.29)\n",
            "Requirement already satisfied: pipreqs in /usr/local/lib/python3.7/dist-packages (from isort[requirements]<5->nemo_toolkit[all]) (0.4.11)\n",
            "Requirement already satisfied: typing-extensions>=3.6.2.1 in /usr/local/lib/python3.7/dist-packages (from onnx>=1.7.0->nemo_toolkit[all]) (4.2.0)\n",
            "Requirement already satisfied: protobuf>=3.12.2 in /usr/local/lib/python3.7/dist-packages (from onnx>=1.7.0->nemo_toolkit[all]) (3.17.3)\n",
            "Requirement already satisfied: six>=1.9 in /usr/local/lib/python3.7/dist-packages (from protobuf>=3.12.2->onnx>=1.7.0->nemo_toolkit[all]) (1.15.0)\n",
            "Requirement already satisfied: pyDeprecate>=0.3.1 in /usr/local/lib/python3.7/dist-packages (from pytorch-lightning>=1.6.1->nemo_toolkit[all]) (0.3.2)\n",
            "Requirement already satisfied: fsspec[http]!=2021.06.0,>=2021.05.0 in /usr/local/lib/python3.7/dist-packages (from pytorch-lightning>=1.6.1->nemo_toolkit[all]) (2022.5.0)\n",
            "Requirement already satisfied: tensorboard>=2.2.0 in /usr/local/lib/python3.7/dist-packages (from pytorch-lightning>=1.6.1->nemo_toolkit[all]) (2.8.0)\n",
            "Requirement already satisfied: requests in /usr/local/lib/python3.7/dist-packages (from fsspec[http]!=2021.06.0,>=2021.05.0->pytorch-lightning>=1.6.1->nemo_toolkit[all]) (2.23.0)\n",
            "Requirement already satisfied: aiohttp in /usr/local/lib/python3.7/dist-packages (from fsspec[http]!=2021.06.0,>=2021.05.0->pytorch-lightning>=1.6.1->nemo_toolkit[all]) (3.8.1)\n",
            "Requirement already satisfied: pyparsing!=3.0.5,>=2.0.2 in /usr/local/lib/python3.7/dist-packages (from packaging->nemo_toolkit[all]) (3.0.9)\n",
            "Requirement already satisfied: joblib in /usr/local/lib/python3.7/dist-packages (from sacremoses>=0.0.43->nemo_toolkit[all]) (1.1.0)\n",
            "Requirement already satisfied: google-auth-oauthlib<0.5,>=0.4.1 in /usr/local/lib/python3.7/dist-packages (from tensorboard>=2.2.0->pytorch-lightning>=1.6.1->nemo_toolkit[all]) (0.4.6)\n",
            "Requirement already satisfied: tensorboard-data-server<0.7.0,>=0.6.0 in /usr/local/lib/python3.7/dist-packages (from tensorboard>=2.2.0->pytorch-lightning>=1.6.1->nemo_toolkit[all]) (0.6.1)\n",
            "Requirement already satisfied: absl-py>=0.4 in /usr/local/lib/python3.7/dist-packages (from tensorboard>=2.2.0->pytorch-lightning>=1.6.1->nemo_toolkit[all]) (1.1.0)\n",
            "Requirement already satisfied: google-auth<3,>=1.6.3 in /usr/local/lib/python3.7/dist-packages (from tensorboard>=2.2.0->pytorch-lightning>=1.6.1->nemo_toolkit[all]) (1.35.0)\n",
            "Requirement already satisfied: wheel>=0.26 in /usr/local/lib/python3.7/dist-packages (from tensorboard>=2.2.0->pytorch-lightning>=1.6.1->nemo_toolkit[all]) (0.37.1)\n",
            "Requirement already satisfied: tensorboard-plugin-wit>=1.6.0 in /usr/local/lib/python3.7/dist-packages (from tensorboard>=2.2.0->pytorch-lightning>=1.6.1->nemo_toolkit[all]) (1.8.1)\n",
            "Requirement already satisfied: markdown>=2.6.8 in /usr/local/lib/python3.7/dist-packages (from tensorboard>=2.2.0->pytorch-lightning>=1.6.1->nemo_toolkit[all]) (3.3.7)\n",
            "Requirement already satisfied: werkzeug>=0.11.15 in /usr/local/lib/python3.7/dist-packages (from tensorboard>=2.2.0->pytorch-lightning>=1.6.1->nemo_toolkit[all]) (1.0.1)\n",
            "Requirement already satisfied: grpcio>=1.24.3 in /usr/local/lib/python3.7/dist-packages (from tensorboard>=2.2.0->pytorch-lightning>=1.6.1->nemo_toolkit[all]) (1.46.3)\n",
            "Requirement already satisfied: rsa<5,>=3.1.4 in /usr/local/lib/python3.7/dist-packages (from google-auth<3,>=1.6.3->tensorboard>=2.2.0->pytorch-lightning>=1.6.1->nemo_toolkit[all]) (4.8)\n",
            "Requirement already satisfied: cachetools<5.0,>=2.0.0 in /usr/local/lib/python3.7/dist-packages (from google-auth<3,>=1.6.3->tensorboard>=2.2.0->pytorch-lightning>=1.6.1->nemo_toolkit[all]) (4.2.4)\n",
            "Requirement already satisfied: pyasn1-modules>=0.2.1 in /usr/local/lib/python3.7/dist-packages (from google-auth<3,>=1.6.3->tensorboard>=2.2.0->pytorch-lightning>=1.6.1->nemo_toolkit[all]) (0.2.8)\n",
            "Requirement already satisfied: requests-oauthlib>=0.7.0 in /usr/local/lib/python3.7/dist-packages (from google-auth-oauthlib<0.5,>=0.4.1->tensorboard>=2.2.0->pytorch-lightning>=1.6.1->nemo_toolkit[all]) (1.3.1)\n",
            "Requirement already satisfied: importlib-metadata>=4.4 in /usr/local/lib/python3.7/dist-packages (from markdown>=2.6.8->tensorboard>=2.2.0->pytorch-lightning>=1.6.1->nemo_toolkit[all]) (4.11.4)\n",
            "Requirement already satisfied: zipp>=0.5 in /usr/local/lib/python3.7/dist-packages (from importlib-metadata>=4.4->markdown>=2.6.8->tensorboard>=2.2.0->pytorch-lightning>=1.6.1->nemo_toolkit[all]) (3.8.0)\n",
            "Requirement already satisfied: pyasn1<0.5.0,>=0.4.6 in /usr/local/lib/python3.7/dist-packages (from pyasn1-modules>=0.2.1->google-auth<3,>=1.6.3->tensorboard>=2.2.0->pytorch-lightning>=1.6.1->nemo_toolkit[all]) (0.4.8)\n",
            "Requirement already satisfied: idna<3,>=2.5 in /usr/local/lib/python3.7/dist-packages (from requests->fsspec[http]!=2021.06.0,>=2021.05.0->pytorch-lightning>=1.6.1->nemo_toolkit[all]) (2.10)\n",
            "Requirement already satisfied: chardet<4,>=3.0.2 in /usr/local/lib/python3.7/dist-packages (from requests->fsspec[http]!=2021.06.0,>=2021.05.0->pytorch-lightning>=1.6.1->nemo_toolkit[all]) (3.0.4)\n",
            "Requirement already satisfied: urllib3!=1.25.0,!=1.25.1,<1.26,>=1.21.1 in /usr/local/lib/python3.7/dist-packages (from requests->fsspec[http]!=2021.06.0,>=2021.05.0->pytorch-lightning>=1.6.1->nemo_toolkit[all]) (1.25.11)\n",
            "Requirement already satisfied: certifi>=2017.4.17 in /usr/local/lib/python3.7/dist-packages (from requests->fsspec[http]!=2021.06.0,>=2021.05.0->pytorch-lightning>=1.6.1->nemo_toolkit[all]) (2022.5.18.1)\n",
            "Requirement already satisfied: oauthlib>=3.0.0 in /usr/local/lib/python3.7/dist-packages (from requests-oauthlib>=0.7.0->google-auth-oauthlib<0.5,>=0.4.1->tensorboard>=2.2.0->pytorch-lightning>=1.6.1->nemo_toolkit[all]) (3.2.0)\n",
            "Requirement already satisfied: tokenizers!=0.11.3,<0.13,>=0.11.1 in /usr/local/lib/python3.7/dist-packages (from transformers>=4.0.1->nemo_toolkit[all]) (0.12.1)\n",
            "Requirement already satisfied: filelock in /usr/local/lib/python3.7/dist-packages (from transformers>=4.0.1->nemo_toolkit[all]) (3.7.1)\n",
            "Requirement already satisfied: asynctest==0.13.0 in /usr/local/lib/python3.7/dist-packages (from aiohttp->fsspec[http]!=2021.06.0,>=2021.05.0->pytorch-lightning>=1.6.1->nemo_toolkit[all]) (0.13.0)\n",
            "Requirement already satisfied: frozenlist>=1.1.1 in /usr/local/lib/python3.7/dist-packages (from aiohttp->fsspec[http]!=2021.06.0,>=2021.05.0->pytorch-lightning>=1.6.1->nemo_toolkit[all]) (1.3.0)\n",
            "Requirement already satisfied: yarl<2.0,>=1.0 in /usr/local/lib/python3.7/dist-packages (from aiohttp->fsspec[http]!=2021.06.0,>=2021.05.0->pytorch-lightning>=1.6.1->nemo_toolkit[all]) (1.7.2)\n",
            "Requirement already satisfied: charset-normalizer<3.0,>=2.0 in /usr/local/lib/python3.7/dist-packages (from aiohttp->fsspec[http]!=2021.06.0,>=2021.05.0->pytorch-lightning>=1.6.1->nemo_toolkit[all]) (2.0.12)\n",
            "Requirement already satisfied: aiosignal>=1.1.2 in /usr/local/lib/python3.7/dist-packages (from aiohttp->fsspec[http]!=2021.06.0,>=2021.05.0->pytorch-lightning>=1.6.1->nemo_toolkit[all]) (1.2.0)\n",
            "Requirement already satisfied: async-timeout<5.0,>=4.0.0a3 in /usr/local/lib/python3.7/dist-packages (from aiohttp->fsspec[http]!=2021.06.0,>=2021.05.0->pytorch-lightning>=1.6.1->nemo_toolkit[all]) (4.0.2)\n",
            "Requirement already satisfied: multidict<7.0,>=4.5 in /usr/local/lib/python3.7/dist-packages (from aiohttp->fsspec[http]!=2021.06.0,>=2021.05.0->pytorch-lightning>=1.6.1->nemo_toolkit[all]) (6.0.2)\n",
            "Requirement already satisfied: jmespath<2.0.0,>=0.7.1 in /usr/local/lib/python3.7/dist-packages (from boto3->nemo_toolkit[all]) (1.0.0)\n",
            "Requirement already satisfied: botocore<1.28.0,>=1.27.11 in /usr/local/lib/python3.7/dist-packages (from boto3->nemo_toolkit[all]) (1.27.11)\n",
            "Requirement already satisfied: s3transfer<0.7.0,>=0.6.0 in /usr/local/lib/python3.7/dist-packages (from boto3->nemo_toolkit[all]) (0.6.0)\n",
            "Requirement already satisfied: pybind11>=2.2 in /usr/local/lib/python3.7/dist-packages (from fasttext->nemo_toolkit[all]) (2.9.2)\n",
            "Requirement already satisfied: aniso8601>=0.82 in /usr/local/lib/python3.7/dist-packages (from flask_restful->nemo_toolkit[all]) (9.0.1)\n",
            "Requirement already satisfied: pytz in /usr/local/lib/python3.7/dist-packages (from flask_restful->nemo_toolkit[all]) (2022.1)\n",
            "Requirement already satisfied: Flask>=0.8 in /usr/local/lib/python3.7/dist-packages (from flask_restful->nemo_toolkit[all]) (1.1.4)\n",
            "Requirement already satisfied: itsdangerous<2.0,>=0.24 in /usr/local/lib/python3.7/dist-packages (from Flask>=0.8->flask_restful->nemo_toolkit[all]) (1.1.0)\n",
            "Requirement already satisfied: Jinja2<3.0,>=2.10.1 in /usr/local/lib/python3.7/dist-packages (from Flask>=0.8->flask_restful->nemo_toolkit[all]) (2.11.3)\n",
            "Requirement already satisfied: MarkupSafe>=0.23 in /usr/local/lib/python3.7/dist-packages (from Jinja2<3.0,>=2.10.1->Flask>=0.8->flask_restful->nemo_toolkit[all]) (2.0.1)\n",
            "Requirement already satisfied: wcwidth>=0.2.5 in /usr/local/lib/python3.7/dist-packages (from ftfy->nemo_toolkit[all]) (0.2.5)\n",
            "Requirement already satisfied: distance>=0.1.3 in /usr/local/lib/python3.7/dist-packages (from g2p_en->nemo_toolkit[all]) (0.1.3)\n",
            "Requirement already satisfied: beautifulsoup4 in /usr/local/lib/python3.7/dist-packages (from gdown->nemo_toolkit[all]) (4.6.3)\n",
            "Requirement already satisfied: cached-property in /usr/local/lib/python3.7/dist-packages (from h5py->nemo_toolkit[all]) (1.5.2)\n",
            "Requirement already satisfied: widgetsnbextension~=3.6.0 in /usr/local/lib/python3.7/dist-packages (from ipywidgets->nemo_toolkit[all]) (3.6.0)\n",
            "Requirement already satisfied: traitlets>=4.3.1 in /usr/local/lib/python3.7/dist-packages (from ipywidgets->nemo_toolkit[all]) (5.1.1)\n",
            "Requirement already satisfied: ipython-genutils~=0.2.0 in /usr/local/lib/python3.7/dist-packages (from ipywidgets->nemo_toolkit[all]) (0.2.0)\n",
            "Requirement already satisfied: nbformat>=4.2.0 in /usr/local/lib/python3.7/dist-packages (from ipywidgets->nemo_toolkit[all]) (5.4.0)\n",
            "Requirement already satisfied: ipython>=4.0.0 in /usr/local/lib/python3.7/dist-packages (from ipywidgets->nemo_toolkit[all]) (5.5.0)\n",
            "Requirement already satisfied: jupyterlab-widgets>=1.0.0 in /usr/local/lib/python3.7/dist-packages (from ipywidgets->nemo_toolkit[all]) (1.1.0)\n",
            "Requirement already satisfied: ipykernel>=4.5.1 in /usr/local/lib/python3.7/dist-packages (from ipywidgets->nemo_toolkit[all]) (4.10.1)\n",
            "Requirement already satisfied: tornado>=4.0 in /usr/local/lib/python3.7/dist-packages (from ipykernel>=4.5.1->ipywidgets->nemo_toolkit[all]) (5.1.1)\n",
            "Requirement already satisfied: jupyter-client in /usr/local/lib/python3.7/dist-packages (from ipykernel>=4.5.1->ipywidgets->nemo_toolkit[all]) (5.3.5)\n",
            "Requirement already satisfied: simplegeneric>0.8 in /usr/local/lib/python3.7/dist-packages (from ipython>=4.0.0->ipywidgets->nemo_toolkit[all]) (0.8.1)\n",
            "Requirement already satisfied: pickleshare in /usr/local/lib/python3.7/dist-packages (from ipython>=4.0.0->ipywidgets->nemo_toolkit[all]) (0.7.5)\n",
            "Requirement already satisfied: decorator in /usr/local/lib/python3.7/dist-packages (from ipython>=4.0.0->ipywidgets->nemo_toolkit[all]) (4.4.2)\n",
            "Requirement already satisfied: pygments in /usr/local/lib/python3.7/dist-packages (from ipython>=4.0.0->ipywidgets->nemo_toolkit[all]) (2.6.1)\n",
            "Requirement already satisfied: prompt-toolkit<2.0.0,>=1.0.4 in /usr/local/lib/python3.7/dist-packages (from ipython>=4.0.0->ipywidgets->nemo_toolkit[all]) (1.0.18)\n",
            "Requirement already satisfied: pexpect in /usr/local/lib/python3.7/dist-packages (from ipython>=4.0.0->ipywidgets->nemo_toolkit[all]) (4.8.0)\n",
            "Requirement already satisfied: jupyter-core in /usr/local/lib/python3.7/dist-packages (from nbformat>=4.2.0->ipywidgets->nemo_toolkit[all]) (4.10.0)\n",
            "Requirement already satisfied: jsonschema>=2.6 in /usr/local/lib/python3.7/dist-packages (from nbformat>=4.2.0->ipywidgets->nemo_toolkit[all]) (4.3.3)\n",
            "Requirement already satisfied: fastjsonschema in /usr/local/lib/python3.7/dist-packages (from nbformat>=4.2.0->ipywidgets->nemo_toolkit[all]) (2.15.3)\n",
            "Requirement already satisfied: pyrsistent!=0.17.0,!=0.17.1,!=0.17.2,>=0.14.0 in /usr/local/lib/python3.7/dist-packages (from jsonschema>=2.6->nbformat>=4.2.0->ipywidgets->nemo_toolkit[all]) (0.18.1)\n",
            "Requirement already satisfied: notebook>=4.4.1 in /usr/local/lib/python3.7/dist-packages (from widgetsnbextension~=3.6.0->ipywidgets->nemo_toolkit[all]) (5.3.1)\n",
            "Requirement already satisfied: nbconvert in /usr/local/lib/python3.7/dist-packages (from notebook>=4.4.1->widgetsnbextension~=3.6.0->ipywidgets->nemo_toolkit[all]) (5.6.1)\n",
            "Requirement already satisfied: Send2Trash in /usr/local/lib/python3.7/dist-packages (from notebook>=4.4.1->widgetsnbextension~=3.6.0->ipywidgets->nemo_toolkit[all]) (1.8.0)\n",
            "Requirement already satisfied: terminado>=0.8.1 in /usr/local/lib/python3.7/dist-packages (from notebook>=4.4.1->widgetsnbextension~=3.6.0->ipywidgets->nemo_toolkit[all]) (0.13.3)\n",
            "Requirement already satisfied: pyzmq>=13 in /usr/local/lib/python3.7/dist-packages (from jupyter-client->ipykernel>=4.5.1->ipywidgets->nemo_toolkit[all]) (23.1.0)\n",
            "Requirement already satisfied: ptyprocess in /usr/local/lib/python3.7/dist-packages (from terminado>=0.8.1->notebook>=4.4.1->widgetsnbextension~=3.6.0->ipywidgets->nemo_toolkit[all]) (0.7.0)\n",
            "Requirement already satisfied: pooch>=1.0 in /usr/local/lib/python3.7/dist-packages (from librosa->nemo_toolkit[all]) (1.6.0)\n",
            "Requirement already satisfied: resampy>=0.2.2 in /usr/local/lib/python3.7/dist-packages (from librosa->nemo_toolkit[all]) (0.2.2)\n",
            "Requirement already satisfied: audioread>=2.0.0 in /usr/local/lib/python3.7/dist-packages (from librosa->nemo_toolkit[all]) (2.1.9)\n",
            "Requirement already satisfied: llvmlite<0.35,>=0.34.0.dev0 in /usr/local/lib/python3.7/dist-packages (from numba->nemo_toolkit[all]) (0.34.0)\n",
            "Requirement already satisfied: threadpoolctl>=2.0.0 in /usr/local/lib/python3.7/dist-packages (from scikit-learn->nemo_toolkit[all]) (3.1.0)\n",
            "Requirement already satisfied: cffi>=1.0 in /usr/local/lib/python3.7/dist-packages (from soundfile->nemo_toolkit[all]) (1.15.0)\n",
            "Requirement already satisfied: pycparser in /usr/local/lib/python3.7/dist-packages (from cffi>=1.0->soundfile->nemo_toolkit[all]) (2.21)\n",
            "Requirement already satisfied: kiwisolver>=1.0.1 in /usr/local/lib/python3.7/dist-packages (from matplotlib->nemo_toolkit[all]) (1.4.2)\n",
            "Requirement already satisfied: cycler>=0.10 in /usr/local/lib/python3.7/dist-packages (from matplotlib->nemo_toolkit[all]) (0.11.0)\n",
            "Requirement already satisfied: defusedxml in /usr/local/lib/python3.7/dist-packages (from nbconvert->notebook>=4.4.1->widgetsnbextension~=3.6.0->ipywidgets->nemo_toolkit[all]) (0.7.1)\n",
            "Requirement already satisfied: bleach in /usr/local/lib/python3.7/dist-packages (from nbconvert->notebook>=4.4.1->widgetsnbextension~=3.6.0->ipywidgets->nemo_toolkit[all]) (5.0.0)\n",
            "Requirement already satisfied: mistune<2,>=0.8.1 in /usr/local/lib/python3.7/dist-packages (from nbconvert->notebook>=4.4.1->widgetsnbextension~=3.6.0->ipywidgets->nemo_toolkit[all]) (0.8.4)\n",
            "Requirement already satisfied: testpath in /usr/local/lib/python3.7/dist-packages (from nbconvert->notebook>=4.4.1->widgetsnbextension~=3.6.0->ipywidgets->nemo_toolkit[all]) (0.6.0)\n",
            "Requirement already satisfied: pandocfilters>=1.4.1 in /usr/local/lib/python3.7/dist-packages (from nbconvert->notebook>=4.4.1->widgetsnbextension~=3.6.0->ipywidgets->nemo_toolkit[all]) (1.5.0)\n",
            "Requirement already satisfied: entrypoints>=0.2.2 in /usr/local/lib/python3.7/dist-packages (from nbconvert->notebook>=4.4.1->widgetsnbextension~=3.6.0->ipywidgets->nemo_toolkit[all]) (0.4)\n",
            "Requirement already satisfied: webencodings in /usr/local/lib/python3.7/dist-packages (from bleach->nbconvert->notebook>=4.4.1->widgetsnbextension~=3.6.0->ipywidgets->nemo_toolkit[all]) (0.5.1)\n",
            "Requirement already satisfied: pip in /usr/local/lib/python3.7/dist-packages (from pip-api->isort[requirements]<5->nemo_toolkit[all]) (21.1.3)\n",
            "Requirement already satisfied: docopt in /usr/local/lib/python3.7/dist-packages (from pipreqs->isort[requirements]<5->nemo_toolkit[all]) (0.6.2)\n",
            "Requirement already satisfied: yarg in /usr/local/lib/python3.7/dist-packages (from pipreqs->isort[requirements]<5->nemo_toolkit[all]) (0.1.9)\n",
            "Requirement already satisfied: sortedcontainers>=2.0.4 in /usr/local/lib/python3.7/dist-packages (from pyannote.core->nemo_toolkit[all]) (2.4.0)\n",
            "Requirement already satisfied: simplejson>=3.8.1 in /usr/local/lib/python3.7/dist-packages (from pyannote.core->nemo_toolkit[all]) (3.17.6)\n",
            "Requirement already satisfied: pyannote.database>=4.0.1 in /usr/local/lib/python3.7/dist-packages (from pyannote.metrics->nemo_toolkit[all]) (4.1.3)\n",
            "Requirement already satisfied: sympy>=1.1 in /usr/local/lib/python3.7/dist-packages (from pyannote.metrics->nemo_toolkit[all]) (1.7.1)\n",
            "Requirement already satisfied: tabulate>=0.7.7 in /usr/local/lib/python3.7/dist-packages (from pyannote.metrics->nemo_toolkit[all]) (0.8.9)\n",
            "Requirement already satisfied: typer[all]>=0.2.1 in /usr/local/lib/python3.7/dist-packages (from pyannote.database>=4.0.1->pyannote.metrics->nemo_toolkit[all]) (0.4.1)\n",
            "Requirement already satisfied: mpmath>=0.19 in /usr/local/lib/python3.7/dist-packages (from sympy>=1.1->pyannote.metrics->nemo_toolkit[all]) (1.2.1)\n",
            "Requirement already satisfied: colorama<0.5.0,>=0.4.3 in /usr/local/lib/python3.7/dist-packages (from typer[all]>=0.2.1->pyannote.database>=4.0.1->pyannote.metrics->nemo_toolkit[all]) (0.4.5)\n",
            "Requirement already satisfied: shellingham<2.0.0,>=1.3.0 in /usr/local/lib/python3.7/dist-packages (from typer[all]>=0.2.1->pyannote.database>=4.0.1->pyannote.metrics->nemo_toolkit[all]) (1.4.0)\n",
            "Requirement already satisfied: py>=1.5.0 in /usr/local/lib/python3.7/dist-packages (from pytest->nemo_toolkit[all]) (1.11.0)\n",
            "Requirement already satisfied: pluggy<0.8,>=0.5 in /usr/local/lib/python3.7/dist-packages (from pytest->nemo_toolkit[all]) (0.7.1)\n",
            "Requirement already satisfied: atomicwrites>=1.0 in /usr/local/lib/python3.7/dist-packages (from pytest->nemo_toolkit[all]) (1.4.0)\n",
            "Requirement already satisfied: more-itertools>=4.0.0 in /usr/local/lib/python3.7/dist-packages (from pytest->nemo_toolkit[all]) (8.13.0)\n",
            "Requirement already satisfied: jarowinkler<1.1.0,>=1.0.2 in /usr/local/lib/python3.7/dist-packages (from rapidfuzz->nemo_toolkit[all]) (1.0.2)\n",
            "Requirement already satisfied: PySocks!=1.5.7,>=1.5.6 in /usr/local/lib/python3.7/dist-packages (from requests->fsspec[http]!=2021.06.0,>=2021.05.0->pytorch-lightning>=1.6.1->nemo_toolkit[all]) (1.7.1)\n",
            "Requirement already satisfied: ruamel.yaml.clib>=0.2.6 in /usr/local/lib/python3.7/dist-packages (from ruamel.yaml->nemo_toolkit[all]) (0.2.6)\n",
            "Requirement already satisfied: portalocker in /usr/local/lib/python3.7/dist-packages (from sacrebleu[ja]->nemo_toolkit[all]) (2.4.0)\n",
            "Requirement already satisfied: ipadic<2.0,>=1.0 in /usr/local/lib/python3.7/dist-packages (from sacrebleu[ja]->nemo_toolkit[all]) (1.0.0)\n",
            "Requirement already satisfied: mecab-python3==1.0.5 in /usr/local/lib/python3.7/dist-packages (from sacrebleu[ja]->nemo_toolkit[all]) (1.0.5)\n",
            "Requirement already satisfied: babel>=1.3 in /usr/local/lib/python3.7/dist-packages (from sphinx->nemo_toolkit[all]) (2.10.1)\n",
            "Requirement already satisfied: docutils<0.19,>=0.14 in /usr/local/lib/python3.7/dist-packages (from sphinx->nemo_toolkit[all]) (0.17.1)\n",
            "Requirement already satisfied: alabaster<0.8,>=0.7 in /usr/local/lib/python3.7/dist-packages (from sphinx->nemo_toolkit[all]) (0.7.12)\n",
            "Requirement already satisfied: sphinxcontrib-applehelp in /usr/local/lib/python3.7/dist-packages (from sphinx->nemo_toolkit[all]) (1.0.2)\n",
            "Requirement already satisfied: snowballstemmer>=1.1 in /usr/local/lib/python3.7/dist-packages (from sphinx->nemo_toolkit[all]) (2.2.0)\n",
            "Requirement already satisfied: sphinxcontrib-qthelp in /usr/local/lib/python3.7/dist-packages (from sphinx->nemo_toolkit[all]) (1.0.3)\n",
            "Requirement already satisfied: imagesize in /usr/local/lib/python3.7/dist-packages (from sphinx->nemo_toolkit[all]) (1.3.0)\n",
            "Requirement already satisfied: sphinxcontrib-htmlhelp>=2.0.0 in /usr/local/lib/python3.7/dist-packages (from sphinx->nemo_toolkit[all]) (2.0.0)\n",
            "Requirement already satisfied: sphinxcontrib-jsmath in /usr/local/lib/python3.7/dist-packages (from sphinx->nemo_toolkit[all]) (1.0.1)\n",
            "Requirement already satisfied: sphinxcontrib-devhelp in /usr/local/lib/python3.7/dist-packages (from sphinx->nemo_toolkit[all]) (1.0.2)\n",
            "Requirement already satisfied: sphinxcontrib-serializinghtml>=1.1.5 in /usr/local/lib/python3.7/dist-packages (from sphinx->nemo_toolkit[all]) (1.1.5)\n",
            "Requirement already satisfied: pybtex-docutils>=1.0.0 in /usr/local/lib/python3.7/dist-packages (from sphinxcontrib-bibtex->nemo_toolkit[all]) (1.0.2)\n",
            "Requirement already satisfied: pybtex>=0.24 in /usr/local/lib/python3.7/dist-packages (from sphinxcontrib-bibtex->nemo_toolkit[all]) (0.24.0)\n",
            "Requirement already satisfied: latexcodec>=1.0.4 in /usr/local/lib/python3.7/dist-packages (from pybtex>=0.24->sphinxcontrib-bibtex->nemo_toolkit[all]) (2.0.1)\n",
            "Requirement already satisfied: psutil>=5.0.0 in /usr/local/lib/python3.7/dist-packages (from wandb->nemo_toolkit[all]) (5.4.8)\n",
            "Requirement already satisfied: setproctitle in /usr/local/lib/python3.7/dist-packages (from wandb->nemo_toolkit[all]) (1.2.3)\n",
            "Requirement already satisfied: shortuuid>=0.5.0 in /usr/local/lib/python3.7/dist-packages (from wandb->nemo_toolkit[all]) (1.0.9)\n",
            "Requirement already satisfied: docker-pycreds>=0.4.0 in /usr/local/lib/python3.7/dist-packages (from wandb->nemo_toolkit[all]) (0.4.0)\n",
            "Requirement already satisfied: promise<3,>=2.0 in /usr/local/lib/python3.7/dist-packages (from wandb->nemo_toolkit[all]) (2.3)\n",
            "Requirement already satisfied: pathtools in /usr/local/lib/python3.7/dist-packages (from wandb->nemo_toolkit[all]) (0.1.2)\n",
            "Requirement already satisfied: GitPython>=1.0.0 in /usr/local/lib/python3.7/dist-packages (from wandb->nemo_toolkit[all]) (3.1.27)\n",
            "Requirement already satisfied: sentry-sdk>=1.0.0 in /usr/local/lib/python3.7/dist-packages (from wandb->nemo_toolkit[all]) (1.5.12)\n",
            "Requirement already satisfied: gitdb<5,>=4.0.1 in /usr/local/lib/python3.7/dist-packages (from GitPython>=1.0.0->wandb->nemo_toolkit[all]) (4.0.9)\n",
            "Requirement already satisfied: smmap<6,>=3.0.1 in /usr/local/lib/python3.7/dist-packages (from gitdb<5,>=4.0.1->GitPython>=1.0.0->wandb->nemo_toolkit[all]) (5.0.0)\n"
          ]
        }
      ]
    },
    {
      "cell_type": "code",
      "source": [
        "!pip install hydra-core==1.1"
      ],
      "metadata": {
        "colab": {
          "base_uri": "https://localhost:8080/"
        },
        "id": "TxbE17sEpBLL",
        "outputId": "32f3ff25-3886-4e27-e8cb-9cc3217cfb6d"
      },
      "execution_count": 2,
      "outputs": [
        {
          "output_type": "stream",
          "name": "stdout",
          "text": [
            "Looking in indexes: https://pypi.org/simple, https://us-python.pkg.dev/colab-wheels/public/simple/\n",
            "Requirement already satisfied: hydra-core==1.1 in /usr/local/lib/python3.7/dist-packages (1.1.0)\n",
            "Requirement already satisfied: antlr4-python3-runtime==4.8 in /usr/local/lib/python3.7/dist-packages (from hydra-core==1.1) (4.8)\n",
            "Requirement already satisfied: omegaconf==2.1.* in /usr/local/lib/python3.7/dist-packages (from hydra-core==1.1) (2.1.2)\n",
            "Requirement already satisfied: importlib-resources in /usr/local/lib/python3.7/dist-packages (from hydra-core==1.1) (5.2.3)\n",
            "Requirement already satisfied: PyYAML>=5.1.0 in /usr/local/lib/python3.7/dist-packages (from omegaconf==2.1.*->hydra-core==1.1) (5.4.1)\n",
            "Requirement already satisfied: zipp>=3.1.0 in /usr/local/lib/python3.7/dist-packages (from importlib-resources->hydra-core==1.1) (3.8.0)\n"
          ]
        }
      ]
    },
    {
      "cell_type": "code",
      "source": [
        "from google.colab import drive\n",
        "drive.mount('/content/drive')"
      ],
      "metadata": {
        "colab": {
          "base_uri": "https://localhost:8080/"
        },
        "id": "lqN-8bzEn-Iu",
        "outputId": "7016351e-9352-430e-8c80-f0f83e94ef5a"
      },
      "execution_count": 3,
      "outputs": [
        {
          "output_type": "stream",
          "name": "stdout",
          "text": [
            "Drive already mounted at /content/drive; to attempt to forcibly remount, call drive.mount(\"/content/drive\", force_remount=True).\n"
          ]
        }
      ]
    },
    {
      "cell_type": "code",
      "source": [
        "home_path = !(echo $HOME)\n",
        "home_path = home_path[0]\n",
        "print(home_path)"
      ],
      "metadata": {
        "colab": {
          "base_uri": "https://localhost:8080/"
        },
        "id": "iS0PkhnjpTjr",
        "outputId": "3265c6f8-76b4-4187-fe18-6cade92c6850"
      },
      "execution_count": 4,
      "outputs": [
        {
          "output_type": "stream",
          "name": "stdout",
          "text": [
            "/root\n"
          ]
        }
      ]
    },
    {
      "cell_type": "code",
      "source": [
        "#=== load the repo and data (Thanks Synthbot) ===\n",
        "!sudo apt -qq install -y sox\n",
        "!git clone \"https://github.com/synthbot-anon/synthbot.git\" /content/synthbot\n",
        "!(cd /content/synthbot; git checkout experimental)\n",
        "!pip3 install pysoundfile \n",
        "!pip3 install librosa"
      ],
      "metadata": {
        "colab": {
          "base_uri": "https://localhost:8080/"
        },
        "id": "b_ZP3qQvGy9i",
        "outputId": "3598c10c-d64d-4fc0-ad7d-0829bfa20d93"
      },
      "execution_count": 5,
      "outputs": [
        {
          "output_type": "stream",
          "name": "stdout",
          "text": [
            "sox is already the newest version (14.4.2-3ubuntu0.18.04.1).\n",
            "The following package was automatically installed and is no longer required:\n",
            "  libnvidia-common-460\n",
            "Use 'sudo apt autoremove' to remove it.\n",
            "0 upgraded, 0 newly installed, 0 to remove and 49 not upgraded.\n",
            "fatal: destination path '/content/synthbot' already exists and is not an empty directory.\n",
            "Already on 'experimental'\n",
            "Your branch is up to date with 'origin/experimental'.\n",
            "Looking in indexes: https://pypi.org/simple, https://us-python.pkg.dev/colab-wheels/public/simple/\n",
            "Requirement already satisfied: pysoundfile in /usr/local/lib/python3.7/dist-packages (0.9.0.post1)\n",
            "Requirement already satisfied: cffi>=0.6 in /usr/local/lib/python3.7/dist-packages (from pysoundfile) (1.15.0)\n",
            "Requirement already satisfied: pycparser in /usr/local/lib/python3.7/dist-packages (from cffi>=0.6->pysoundfile) (2.21)\n",
            "Looking in indexes: https://pypi.org/simple, https://us-python.pkg.dev/colab-wheels/public/simple/\n",
            "Requirement already satisfied: librosa in /usr/local/lib/python3.7/dist-packages (0.8.1)\n",
            "Requirement already satisfied: resampy>=0.2.2 in /usr/local/lib/python3.7/dist-packages (from librosa) (0.2.2)\n",
            "Requirement already satisfied: decorator>=3.0.0 in /usr/local/lib/python3.7/dist-packages (from librosa) (4.4.2)\n",
            "Requirement already satisfied: scikit-learn!=0.19.0,>=0.14.0 in /usr/local/lib/python3.7/dist-packages (from librosa) (1.0.2)\n",
            "Requirement already satisfied: numba>=0.43.0 in /usr/local/lib/python3.7/dist-packages (from librosa) (0.51.2)\n",
            "Requirement already satisfied: scipy>=1.0.0 in /usr/local/lib/python3.7/dist-packages (from librosa) (1.4.1)\n",
            "Requirement already satisfied: audioread>=2.0.0 in /usr/local/lib/python3.7/dist-packages (from librosa) (2.1.9)\n",
            "Requirement already satisfied: pooch>=1.0 in /usr/local/lib/python3.7/dist-packages (from librosa) (1.6.0)\n",
            "Requirement already satisfied: numpy>=1.15.0 in /usr/local/lib/python3.7/dist-packages (from librosa) (1.21.6)\n",
            "Requirement already satisfied: soundfile>=0.10.2 in /usr/local/lib/python3.7/dist-packages (from librosa) (0.10.3.post1)\n",
            "Requirement already satisfied: joblib>=0.14 in /usr/local/lib/python3.7/dist-packages (from librosa) (1.1.0)\n",
            "Requirement already satisfied: packaging>=20.0 in /usr/local/lib/python3.7/dist-packages (from librosa) (21.3)\n",
            "Requirement already satisfied: llvmlite<0.35,>=0.34.0.dev0 in /usr/local/lib/python3.7/dist-packages (from numba>=0.43.0->librosa) (0.34.0)\n",
            "Requirement already satisfied: setuptools in /usr/local/lib/python3.7/dist-packages (from numba>=0.43.0->librosa) (59.5.0)\n",
            "Requirement already satisfied: pyparsing!=3.0.5,>=2.0.2 in /usr/local/lib/python3.7/dist-packages (from packaging>=20.0->librosa) (3.0.9)\n",
            "Requirement already satisfied: requests>=2.19.0 in /usr/local/lib/python3.7/dist-packages (from pooch>=1.0->librosa) (2.23.0)\n",
            "Requirement already satisfied: appdirs>=1.3.0 in /usr/local/lib/python3.7/dist-packages (from pooch>=1.0->librosa) (1.4.4)\n",
            "Requirement already satisfied: urllib3!=1.25.0,!=1.25.1,<1.26,>=1.21.1 in /usr/local/lib/python3.7/dist-packages (from requests>=2.19.0->pooch>=1.0->librosa) (1.25.11)\n",
            "Requirement already satisfied: idna<3,>=2.5 in /usr/local/lib/python3.7/dist-packages (from requests>=2.19.0->pooch>=1.0->librosa) (2.10)\n",
            "Requirement already satisfied: certifi>=2017.4.17 in /usr/local/lib/python3.7/dist-packages (from requests>=2.19.0->pooch>=1.0->librosa) (2022.5.18.1)\n",
            "Requirement already satisfied: chardet<4,>=3.0.2 in /usr/local/lib/python3.7/dist-packages (from requests>=2.19.0->pooch>=1.0->librosa) (3.0.4)\n",
            "Requirement already satisfied: six>=1.3 in /usr/local/lib/python3.7/dist-packages (from resampy>=0.2.2->librosa) (1.15.0)\n",
            "Requirement already satisfied: threadpoolctl>=2.0.0 in /usr/local/lib/python3.7/dist-packages (from scikit-learn!=0.19.0,>=0.14.0->librosa) (3.1.0)\n",
            "Requirement already satisfied: cffi>=1.0 in /usr/local/lib/python3.7/dist-packages (from soundfile>=0.10.2->librosa) (1.15.0)\n",
            "Requirement already satisfied: pycparser in /usr/local/lib/python3.7/dist-packages (from cffi>=1.0->soundfile>=0.10.2->librosa) (2.21)\n"
          ]
        }
      ]
    },
    {
      "cell_type": "markdown",
      "source": [
        "## Preparing the Dataset for Fastpitch finetuning"
      ],
      "metadata": {
        "id": "Ap_5CDnqk7Pf"
      }
    },
    {
      "cell_type": "code",
      "source": [
        "#downloading the dataset\n",
        "!wget --load-cookies /tmp/cookies.txt \"https://docs.google.com/uc?export=download&confirm=$(wget --quiet --save-cookies /tmp/cookies.txt --keep-session-cookies --no-check-certificate 'https://docs.google.com/uc?export=download&id=13OpYwSBjmbVbaqmbEcOe1YmdYPH049ox' -O- | sed -rn 's/.*confirm=([0-9A-Za-z_]+).*/\\1\\n/p')&id=13OpYwSBjmbVbaqmbEcOe1YmdYPH049ox\" -O Fluttershy.tar && rm -rf /tmp/cookies.txt"
      ],
      "metadata": {
        "colab": {
          "base_uri": "https://localhost:8080/"
        },
        "id": "NetI1HG8lHqw",
        "outputId": "2925a0bf-4c55-4247-adc9-79363a824641"
      },
      "execution_count": 6,
      "outputs": [
        {
          "output_type": "stream",
          "name": "stdout",
          "text": [
            "--2022-06-17 13:10:17--  https://docs.google.com/uc?export=download&confirm=t&id=13OpYwSBjmbVbaqmbEcOe1YmdYPH049ox\n",
            "Resolving docs.google.com (docs.google.com)... 173.194.218.102, 173.194.218.139, 173.194.218.101, ...\n",
            "Connecting to docs.google.com (docs.google.com)|173.194.218.102|:443... connected.\n",
            "HTTP request sent, awaiting response... 303 See Other\n",
            "Location: https://doc-14-84-docs.googleusercontent.com/docs/securesc/ha0ro937gcuc7l7deffksulhg5h7mbp1/clf8sol28dbprqsmgserc1lqgcbtcc6f/1655471400000/05434657448262868821/*/13OpYwSBjmbVbaqmbEcOe1YmdYPH049ox?e=download [following]\n",
            "Warning: wildcards not supported in HTTP.\n",
            "--2022-06-17 13:10:17--  https://doc-14-84-docs.googleusercontent.com/docs/securesc/ha0ro937gcuc7l7deffksulhg5h7mbp1/clf8sol28dbprqsmgserc1lqgcbtcc6f/1655471400000/05434657448262868821/*/13OpYwSBjmbVbaqmbEcOe1YmdYPH049ox?e=download\n",
            "Resolving doc-14-84-docs.googleusercontent.com (doc-14-84-docs.googleusercontent.com)... 142.251.107.132, 2607:f8b0:400c:c32::84\n",
            "Connecting to doc-14-84-docs.googleusercontent.com (doc-14-84-docs.googleusercontent.com)|142.251.107.132|:443... connected.\n",
            "HTTP request sent, awaiting response... 200 OK\n",
            "Length: 1014118400 (967M) [application/x-tar]\n",
            "Saving to: ‘Fluttershy.tar’\n",
            "\n",
            "Fluttershy.tar      100%[===================>] 967.14M   331MB/s    in 2.9s    \n",
            "\n",
            "2022-06-17 13:10:20 (331 MB/s) - ‘Fluttershy.tar’ saved [1014118400/1014118400]\n",
            "\n"
          ]
        }
      ]
    },
    {
      "cell_type": "code",
      "source": [
        "skip_noisy = True # Disable to train with Noisy Data included\n",
        "allowed_emotions = \"\"\"\n",
        "Anxious\n",
        "Angry\n",
        "Annoyed\n",
        "Amused\n",
        "Confused\n",
        "Crazy\n",
        "Disgust\n",
        "Exhausted\n",
        "Fear\n",
        "Happy\n",
        "Neutral\n",
        "Sad\n",
        "Serious\n",
        "Singing\n",
        "Shouting\n",
        "Surprised\n",
        "Smug\n",
        "Love\n",
        "Sarcastic\n",
        "Tired\n",
        "Whispering\n",
        "Whining\n",
        "\"\"\".split(\"\\n\")[1:-1]"
      ],
      "metadata": {
        "id": "NsAc_3nkwpqg"
      },
      "execution_count": 7,
      "outputs": []
    },
    {
      "cell_type": "code",
      "source": [
        "percentage_training_data = 0.95 # 90% of Data will be used for training, 5% for Validation"
      ],
      "metadata": {
        "id": "cGTtXFjSKz-Z"
      },
      "execution_count": 8,
      "outputs": []
    },
    {
      "cell_type": "code",
      "source": [
        "import sys\n",
        "sys.path.append('/content/synthbot/src')\n",
        "from ponysynth.corpus import ClipperArchive, phoneme_transcription\n",
        "import librosa\n",
        "import subprocess"
      ],
      "metadata": {
        "id": "LuUxV2yWwpoO"
      },
      "execution_count": 9,
      "outputs": []
    },
    {
      "cell_type": "code",
      "source": [
        "archive_fn = \"/content/Fluttershy.tar\"\n",
        "archive = ClipperArchive(archive_fn)"
      ],
      "metadata": {
        "id": "Lwkvumbkwplv"
      },
      "execution_count": 10,
      "outputs": []
    },
    {
      "cell_type": "code",
      "source": [
        "data_path = 'Fluttershy'\n",
        "allowed_emotions = [x.lower() for x in allowed_emotions]\n",
        "!mkdir {data_path}\n",
        "!mkdir {data_path+\"/out\"}\n",
        "all_clips = []; all_clips_arpa = []; skipped_count=0; too_short_count=0; emotion_skip=0\n",
        "for key in archive.keys(): # write the audio files for processing in bash terminal\n",
        "  audio = archive.read_audio(key)\n",
        "  audio_fn = '{}/{}.wav'.format(data_path, key)\n",
        "  audio_fn_ = '{}/{}.wav'.format(data_path+\"/out\", key)\n",
        "  with open(audio_fn, 'wb') as audio_out:\n",
        "    audio_out.write(audio.read())"
      ],
      "metadata": {
        "colab": {
          "base_uri": "https://localhost:8080/"
        },
        "id": "NlSW8Qllwphg",
        "outputId": "0ae0aef7-6125-454d-c95a-4a4c60d217ac"
      },
      "execution_count": 11,
      "outputs": [
        {
          "output_type": "stream",
          "name": "stdout",
          "text": [
            "mkdir: cannot create directory ‘Fluttershy’: File exists\n",
            "mkdir: cannot create directory ‘Fluttershy/out’: File exists\n"
          ]
        }
      ]
    },
    {
      "cell_type": "code",
      "source": [
        "%%script bash\n",
        "# trim all 48Khz files\n",
        "cd Fluttershy\n",
        "for input in *.wav; do\n",
        "  output=\"out/$input\"\n",
        "  sox \"$input\" \"$output\" silence 1 0.05 0.1% reverse silence 1 0.05 0.1% reverse;\n",
        "done"
      ],
      "metadata": {
        "id": "r7sQiiTXJOZV"
      },
      "execution_count": 12,
      "outputs": []
    },
    {
      "cell_type": "code",
      "source": [
        "import os\n",
        "\n",
        "should_continue = 0 # should run \"continue\" command inside outer loop.\n",
        "for key in archive.keys():\n",
        "  label = archive.read_label(key)\n",
        "  audio_fn = '{}/{}.wav'.format(data_path, key)\n",
        "  audio_fn_ = '{}/{}.wav'.format(data_path+\"/out\", key)\n",
        "  if (label['noise'] in ['Very Noisy','Noisy']) and skip_noisy: os.remove(audio_fn_); skipped_count+=1; continue\n",
        "\n",
        "  for tag in label['tags']:\n",
        "    if tag.lower() not in allowed_emotions:\n",
        "        try: os.remove(audio_fn_)\n",
        "        except: pass\n",
        "        print(tag+\" emotion not in list\"); emotion_skip+=1; should_continue = 1; break # this is supposed to break the outer loop\n",
        "  if should_continue: should_continue = 0; continue\n",
        "\n",
        "  audio = archive.read_audio(key)\n",
        "  transcript = label['utterance']['content']\n",
        "  \n",
        "  if os.stat(audio_fn_).st_size < 71602:\n",
        "    #print(\"Skipping Audio, Duration: \"+str(len(librosa.core.load(audio_fn_, sr=48000)[0])/48000))\n",
        "    try: os.remove(audio_fn_)\n",
        "    except: pass\n",
        "    too_short_count+=1; continue # Skips files based on size.\n",
        "\n",
        "  filelist_line = \"{}|{}\".format(audio_fn_, transcript)\n",
        "  all_clips.append(filelist_line)\n",
        "  filelist_line = \"{}|{}\".format(audio_fn_, phoneme_transcription(label))\n",
        "  all_clips_arpa.append(filelist_line)\n",
        "    \n",
        "print(str(skipped_count)+\" Files are too Noisy.\")\n",
        "print(str(emotion_skip)+\" Files contain an emotion not in permitted emotions\")\n",
        "print(str(too_short_count)+\" Files are too short\")\n",
        "print(str(len(list(archive.keys()))-(skipped_count+too_short_count+emotion_skip))+\" Files kept in dataset.\")"
      ],
      "metadata": {
        "colab": {
          "base_uri": "https://localhost:8080/"
        },
        "id": "6OEmcvYyJOVI",
        "outputId": "1073be99-ab59-4abd-bc4d-1237c73ba1e8"
      },
      "execution_count": 13,
      "outputs": [
        {
          "output_type": "stream",
          "name": "stdout",
          "text": [
            "2331 Files are too Noisy.\n",
            "0 Files contain an emotion not in permitted emotions\n",
            "147 Files are too short\n",
            "1410 Files kept in dataset.\n"
          ]
        }
      ]
    },
    {
      "cell_type": "code",
      "source": [
        "# shuffle the training data\n",
        "import random\n",
        "random.seed(0)\n",
        "random.shuffle(all_clips)\n",
        "\n",
        "# get train, test, validation splits\n",
        "num_clips = len(all_clips)\n",
        "train_end = int(num_clips * percentage_training_data)\n",
        "\n",
        "train = all_clips[:train_end]\n",
        "validation = all_clips[train_end:]\n",
        "\n",
        "train_arpa = all_clips_arpa[:train_end]\n",
        "validation_arpa = all_clips_arpa[train_end:]\n",
        "\n",
        "# dump the info to filelist files\n",
        "with open('train_filelist_fluttershy.txt', 'w') as train_out:\n",
        "  train_out.write('\\n'.join(train)+'\\n'+'\\n'.join(train_arpa)+\"\")\n",
        "with open('val_filelist_fluttershy.txt', 'w') as val_out:\n",
        "  val_out.write('\\n'.join(validation)+'\\n'+'\\n'.join(validation_arpa)+\"\")"
      ],
      "metadata": {
        "id": "zx_QJPk3Jz3_"
      },
      "execution_count": 14,
      "outputs": []
    },
    {
      "cell_type": "code",
      "source": [
        "!jupyter nbextension enable --py --sys-prefix widgetsnbextension"
      ],
      "metadata": {
        "colab": {
          "base_uri": "https://localhost:8080/"
        },
        "id": "tZ_e-QyxQMJ7",
        "outputId": "8756c92f-e72c-4d9e-a3d1-08bc7e9062e9"
      },
      "execution_count": 15,
      "outputs": [
        {
          "output_type": "stream",
          "name": "stdout",
          "text": [
            "Enabling notebook extension jupyter-js-widgets/extension...\n",
            "Paths used for configuration of notebook: \n",
            "    \t/usr/etc/jupyter/nbconfig/notebook.json\n",
            "      - Validating: \u001b[32mOK\u001b[0m\n",
            "Paths used for configuration of notebook: \n",
            "    \t/usr/etc/jupyter/nbconfig/notebook.json\n"
          ]
        }
      ]
    },
    {
      "cell_type": "code",
      "source": [
        "#imports\n",
        "import os\n",
        "import json\n",
        "import random\n",
        "import librosa\n",
        "\n",
        "import torch\n",
        "import IPython.display as ipd\n",
        "from matplotlib.pyplot import imshow\n",
        "from matplotlib import pyplot as plt\n",
        "from pathlib import Path\n",
        "\n",
        "from nemo.collections.tts.models import FastPitchModel"
      ],
      "metadata": {
        "colab": {
          "base_uri": "https://localhost:8080/"
        },
        "id": "SFLxz__HRx8o",
        "outputId": "67a1ed5c-119a-414d-99bb-33cb414c1566"
      },
      "execution_count": 3,
      "outputs": [
        {
          "output_type": "stream",
          "name": "stderr",
          "text": [
            "[NeMo W 2022-06-17 14:55:07 optimizers:55] Apex was not found. Using the lamb or fused_adam optimizer will error out.\n",
            "[NeMo W 2022-06-17 14:55:08 experimental:28] Module <class 'nemo.collections.tts.torch.tts_tokenizers.IPATokenizer'> is experimental, not ready for production and is not fully supported. Use at your own risk.\n"
          ]
        }
      ]
    },
    {
      "cell_type": "code",
      "source": [
        "#creating the json files for training and validation\n",
        "with open('/content/train_filelist_fluttershy.txt') as f :\n",
        "  records = f.readlines()\n",
        "\n",
        "print(\"Number of records : \",len(records))\n",
        "\n",
        "train_manifest = 'fastpitch_train.json'\n",
        "\n",
        "train_rec = []\n",
        "random.shuffle(records)\n",
        "count = 0\n",
        "\n",
        "for i in records :\n",
        "  if count > 1200 :\n",
        "    break\n",
        "  \n",
        "  i = i.split('|')\n",
        "  audio_filepath = i[0]\n",
        "  text = i[-1].strip('\\n')\n",
        "  #if '{' in text :\n",
        "    #print(text)\n",
        "    #continue\n",
        "  count = count + 1\n",
        "\n",
        "  duration = librosa.get_duration(filename=audio_filepath)\n",
        "  r = {\n",
        "       \"audio_filepath\" : audio_filepath,\n",
        "       \"text\" : text,\n",
        "       \"duration\" : round(duration,1),\n",
        "       \"text_no_preprocessing\" : text\n",
        "    }\n",
        "\n",
        "  train_rec.append(r)\n",
        "\n",
        "with open(train_manifest, \"w\") as f:\n",
        "    for s in train_rec:\n",
        "        f.write(json.dumps(s) + '\\n')\n",
        "        \n",
        "print(\"Training Data : \", len(train_rec))"
      ],
      "metadata": {
        "colab": {
          "base_uri": "https://localhost:8080/"
        },
        "id": "MdMvYBoeR2hX",
        "outputId": "21886e6c-c460-41c8-ee47-36cfd18c1e6a"
      },
      "execution_count": 4,
      "outputs": [
        {
          "output_type": "stream",
          "name": "stdout",
          "text": [
            "Number of records :  2678\n",
            "Training Data :  1201\n"
          ]
        }
      ]
    },
    {
      "cell_type": "code",
      "source": [
        "with open('/content/val_filelist_fluttershy.txt') as f :\n",
        "  records_val = f.readlines()\n",
        "\n",
        "print(\"Number of records : \", len(records_val))\n",
        "\n",
        "val_manifest = 'fastpitch_val.json'\n",
        "count = 0\n",
        "val_rec = []\n",
        "random.shuffle(records_val)\n",
        "\n",
        "for i in records_val:\n",
        "  if count > 50 :\n",
        "    break\n",
        "    \n",
        "  i = i.split('|')\n",
        "  audio_filepath = i[0]\n",
        "  text = i[-1].strip('\\n')\n",
        "\n",
        "  # if '{' in text :\n",
        "  #   print(text)\n",
        "  #   continue\n",
        "  count = count + 1\n",
        "  duration = librosa.get_duration(filename=audio_filepath)\n",
        "  r = {\n",
        "       \"audio_filepath\" : audio_filepath,\n",
        "       \"text\" : text,\n",
        "       \"duration\" : round(duration,1),\n",
        "       \"text_no_preprocessing\" : text\n",
        "    }\n",
        "\n",
        "  val_rec.append(r)\n",
        "\n",
        "with open(val_manifest, \"w\") as f:\n",
        "    for s in val_rec:\n",
        "        f.write(json.dumps(s) + '\\n')"
      ],
      "metadata": {
        "colab": {
          "base_uri": "https://localhost:8080/"
        },
        "id": "Q-N6jbqMSFaA",
        "outputId": "a5782f40-8b3a-47f6-91a0-ac37a8a1b3b2"
      },
      "execution_count": 5,
      "outputs": [
        {
          "output_type": "stream",
          "name": "stdout",
          "text": [
            "Number of records :  142\n"
          ]
        }
      ]
    },
    {
      "cell_type": "code",
      "source": [
        "FastPitchModel.from_pretrained(\"tts_en_fastpitch\")\n",
        "nemo_files = [p for p in Path(f\"{home_path}/.cache/torch/NeMo/\").glob(\"**/tts_en_fastpitch_align.nemo\")]\n",
        "print(f\"Copying {nemo_files[0]} to ./\")\n",
        "Path(\"./tts_en_fastpitch_align.nemo\").write_bytes(nemo_files[0].read_bytes())"
      ],
      "metadata": {
        "colab": {
          "base_uri": "https://localhost:8080/"
        },
        "id": "aTbioaFkUCJt",
        "outputId": "c7461a2c-4a61-43cd-bb8a-9e996565d0b3"
      },
      "execution_count": 19,
      "outputs": [
        {
          "output_type": "stream",
          "name": "stdout",
          "text": [
            "[NeMo I 2022-06-17 13:10:51 cloud:56] Found existing object /root/.cache/torch/NeMo/NeMo_1.10.0rc0/tts_en_fastpitch_align/26d7e09971f1d611e24df90c7a9d9b38/tts_en_fastpitch_align.nemo.\n",
            "[NeMo I 2022-06-17 13:10:51 cloud:62] Re-using file from: /root/.cache/torch/NeMo/NeMo_1.10.0rc0/tts_en_fastpitch_align/26d7e09971f1d611e24df90c7a9d9b38/tts_en_fastpitch_align.nemo\n",
            "[NeMo I 2022-06-17 13:10:51 common:789] Instantiating model from pre-trained checkpoint\n",
            "[NeMo I 2022-06-17 13:10:53 tokenize_and_classify:87] Creating ClassifyFst grammars.\n"
          ]
        },
        {
          "output_type": "stream",
          "name": "stderr",
          "text": [
            "[NeMo W 2022-06-17 13:11:12 experimental:28] Module <class 'nemo.collections.tts.torch.g2ps.IPAG2P'> is experimental, not ready for production and is not fully supported. Use at your own risk.\n",
            "[NeMo W 2022-06-17 13:11:12 g2ps:87] apply_to_oov_word=None, This means that some of words will remain unchanged if they are not handled by any of the rules in self.parse_one_word(). This may be intended if phonemes and chars are both valid inputs, otherwise, you may see unexpected deletions in your input.\n",
            "[NeMo W 2022-06-17 13:11:13 modelPT:149] If you intend to do training or fine-tuning, please call the ModelPT.setup_training_data() method and provide a valid configuration file to setup the train data loader.\n",
            "    Train config : \n",
            "    dataset:\n",
            "      _target_: nemo.collections.tts.torch.data.TTSDataset\n",
            "      manifest_filepath: /ws/LJSpeech/nvidia_ljspeech_train_clean_ngc.json\n",
            "      sample_rate: 22050\n",
            "      sup_data_path: /raid/LJSpeech/supplementary\n",
            "      sup_data_types:\n",
            "      - align_prior_matrix\n",
            "      - pitch\n",
            "      n_fft: 1024\n",
            "      win_length: 1024\n",
            "      hop_length: 256\n",
            "      window: hann\n",
            "      n_mels: 80\n",
            "      lowfreq: 0\n",
            "      highfreq: 8000\n",
            "      max_duration: null\n",
            "      min_duration: 0.1\n",
            "      ignore_file: null\n",
            "      trim: false\n",
            "      pitch_fmin: 65.40639132514966\n",
            "      pitch_fmax: 2093.004522404789\n",
            "      pitch_norm: true\n",
            "      pitch_mean: 212.35873413085938\n",
            "      pitch_std: 68.52806091308594\n",
            "      use_beta_binomial_interpolator: true\n",
            "    dataloader_params:\n",
            "      drop_last: false\n",
            "      shuffle: true\n",
            "      batch_size: 24\n",
            "      num_workers: 0\n",
            "    \n",
            "[NeMo W 2022-06-17 13:11:13 modelPT:156] If you intend to do validation, please call the ModelPT.setup_validation_data() or ModelPT.setup_multiple_validation_data() method and provide a valid configuration file to setup the validation data loader(s). \n",
            "    Validation config : \n",
            "    dataset:\n",
            "      _target_: nemo.collections.tts.torch.data.TTSDataset\n",
            "      manifest_filepath: /ws/LJSpeech/nvidia_ljspeech_val_clean_ngc.json\n",
            "      sample_rate: 22050\n",
            "      sup_data_path: /raid/LJSpeech/supplementary\n",
            "      sup_data_types:\n",
            "      - align_prior_matrix\n",
            "      - pitch\n",
            "      n_fft: 1024\n",
            "      win_length: 1024\n",
            "      hop_length: 256\n",
            "      window: hann\n",
            "      n_mels: 80\n",
            "      lowfreq: 0\n",
            "      highfreq: 8000\n",
            "      max_duration: null\n",
            "      min_duration: null\n",
            "      ignore_file: null\n",
            "      trim: false\n",
            "      pitch_fmin: 65.40639132514966\n",
            "      pitch_fmax: 2093.004522404789\n",
            "      pitch_norm: true\n",
            "      pitch_mean: 212.35873413085938\n",
            "      pitch_std: 68.52806091308594\n",
            "      use_beta_binomial_interpolator: true\n",
            "    dataloader_params:\n",
            "      drop_last: false\n",
            "      shuffle: false\n",
            "      batch_size: 24\n",
            "      num_workers: 0\n",
            "    \n"
          ]
        },
        {
          "output_type": "stream",
          "name": "stdout",
          "text": [
            "[NeMo I 2022-06-17 13:11:13 features:200] PADDING: 1\n",
            "[NeMo I 2022-06-17 13:11:17 save_restore_connector:243] Model FastPitchModel was successfully restored from /root/.cache/torch/NeMo/NeMo_1.10.0rc0/tts_en_fastpitch_align/26d7e09971f1d611e24df90c7a9d9b38/tts_en_fastpitch_align.nemo.\n",
            "Copying /root/.cache/torch/NeMo/NeMo_1.10.0rc0/tts_en_fastpitch_align/26d7e09971f1d611e24df90c7a9d9b38/tts_en_fastpitch_align.nemo to ./\n"
          ]
        },
        {
          "output_type": "execute_result",
          "data": {
            "text/plain": [
              "187023360"
            ]
          },
          "metadata": {},
          "execution_count": 19
        }
      ]
    },
    {
      "cell_type": "code",
      "source": [
        "!wget https://raw.githubusercontent.com/nvidia/NeMo/main/examples/tts/fastpitch_finetune.py\n",
        "\n",
        "!mkdir -p conf \\\n",
        "&& cd conf \\\n",
        "&& wget https://raw.githubusercontent.com/nvidia/NeMo/main/examples/tts/conf/fastpitch_align_v1.05.yaml \\\n",
        "&& cd .."
      ],
      "metadata": {
        "colab": {
          "base_uri": "https://localhost:8080/"
        },
        "id": "JIDochY6UFq9",
        "outputId": "9a9996f4-5722-47bd-854f-949c6a4822fa"
      },
      "execution_count": 20,
      "outputs": [
        {
          "output_type": "stream",
          "name": "stdout",
          "text": [
            "--2022-06-17 13:11:18--  https://raw.githubusercontent.com/nvidia/NeMo/main/examples/tts/fastpitch_finetune.py\n",
            "Resolving raw.githubusercontent.com (raw.githubusercontent.com)... 185.199.108.133, 185.199.109.133, 185.199.110.133, ...\n",
            "Connecting to raw.githubusercontent.com (raw.githubusercontent.com)|185.199.108.133|:443... connected.\n",
            "HTTP request sent, awaiting response... 200 OK\n",
            "Length: 1751 (1.7K) [text/plain]\n",
            "Saving to: ‘fastpitch_finetune.py.1’\n",
            "\n",
            "\rfastpitch_finetune.   0%[                    ]       0  --.-KB/s               \rfastpitch_finetune. 100%[===================>]   1.71K  --.-KB/s    in 0s      \n",
            "\n",
            "2022-06-17 13:11:18 (30.1 MB/s) - ‘fastpitch_finetune.py.1’ saved [1751/1751]\n",
            "\n",
            "--2022-06-17 13:11:18--  https://raw.githubusercontent.com/nvidia/NeMo/main/examples/tts/conf/fastpitch_align_v1.05.yaml\n",
            "Resolving raw.githubusercontent.com (raw.githubusercontent.com)... 185.199.108.133, 185.199.109.133, 185.199.110.133, ...\n",
            "Connecting to raw.githubusercontent.com (raw.githubusercontent.com)|185.199.108.133|:443... connected.\n",
            "HTTP request sent, awaiting response... 200 OK\n",
            "Length: 6692 (6.5K) [text/plain]\n",
            "Saving to: ‘fastpitch_align_v1.05.yaml.1’\n",
            "\n",
            "fastpitch_align_v1. 100%[===================>]   6.54K  --.-KB/s    in 0s      \n",
            "\n",
            "2022-06-17 13:11:18 (81.4 MB/s) - ‘fastpitch_align_v1.05.yaml.1’ saved [6692/6692]\n",
            "\n"
          ]
        }
      ]
    },
    {
      "cell_type": "code",
      "source": [
        "# additional files\n",
        "!mkdir -p tts_dataset_files && cd tts_dataset_files \\\n",
        "&& wget https://raw.githubusercontent.com/NVIDIA/NeMo/main/scripts/tts_dataset_files/cmudict-0.7b_nv22.01 \\\n",
        "&& wget https://raw.githubusercontent.com/NVIDIA/NeMo/main/scripts/tts_dataset_files/heteronyms-030921 \\\n",
        "&& wget wget https://raw.githubusercontent.com/NVIDIA/NeMo/$BRANCH/nemo_text_processing/text_normalization/en/data/whitelist/lj_speech.tsv \\\n",
        "&& cd .."
      ],
      "metadata": {
        "colab": {
          "base_uri": "https://localhost:8080/"
        },
        "id": "wVc-snn_Uwon",
        "outputId": "bcb348cc-d5a1-47f4-db87-c7a6cb2b40de"
      },
      "execution_count": 21,
      "outputs": [
        {
          "output_type": "stream",
          "name": "stdout",
          "text": [
            "--2022-06-17 13:11:18--  https://raw.githubusercontent.com/NVIDIA/NeMo/main/scripts/tts_dataset_files/cmudict-0.7b_nv22.01\n",
            "Resolving raw.githubusercontent.com (raw.githubusercontent.com)... 185.199.110.133, 185.199.109.133, 185.199.108.133, ...\n",
            "Connecting to raw.githubusercontent.com (raw.githubusercontent.com)|185.199.110.133|:443... connected.\n",
            "HTTP request sent, awaiting response... 200 OK\n",
            "Length: 3721964 (3.5M) [text/plain]\n",
            "Saving to: ‘cmudict-0.7b_nv22.01.1’\n",
            "\n",
            "cmudict-0.7b_nv22.0 100%[===================>]   3.55M  --.-KB/s    in 0.07s   \n",
            "\n",
            "2022-06-17 13:11:19 (52.3 MB/s) - ‘cmudict-0.7b_nv22.01.1’ saved [3721964/3721964]\n",
            "\n",
            "--2022-06-17 13:11:19--  https://raw.githubusercontent.com/NVIDIA/NeMo/main/scripts/tts_dataset_files/heteronyms-030921\n",
            "Resolving raw.githubusercontent.com (raw.githubusercontent.com)... 185.199.108.133, 185.199.111.133, 185.199.109.133, ...\n",
            "Connecting to raw.githubusercontent.com (raw.githubusercontent.com)|185.199.108.133|:443... connected.\n",
            "HTTP request sent, awaiting response... 200 OK\n",
            "Length: 3132 (3.1K) [text/plain]\n",
            "Saving to: ‘heteronyms-030921.1’\n",
            "\n",
            "heteronyms-030921.1 100%[===================>]   3.06K  --.-KB/s    in 0s      \n",
            "\n",
            "2022-06-17 13:11:19 (50.4 MB/s) - ‘heteronyms-030921.1’ saved [3132/3132]\n",
            "\n",
            "--2022-06-17 13:11:19--  http://wget/\n",
            "Resolving wget (wget)... failed: Name or service not known.\n",
            "wget: unable to resolve host address ‘wget’\n",
            "--2022-06-17 13:11:19--  https://raw.githubusercontent.com/NVIDIA/NeMo/main/nemo_text_processing/text_normalization/en/data/whitelist/lj_speech.tsv\n",
            "Resolving raw.githubusercontent.com (raw.githubusercontent.com)... 185.199.108.133, 185.199.109.133, 185.199.110.133, ...\n",
            "Connecting to raw.githubusercontent.com (raw.githubusercontent.com)|185.199.108.133|:443... connected.\n",
            "HTTP request sent, awaiting response... 200 OK\n",
            "Length: 263 [text/plain]\n",
            "Saving to: ‘lj_speech.tsv.1’\n",
            "\n",
            "lj_speech.tsv.1     100%[===================>]     263  --.-KB/s    in 0s      \n",
            "\n",
            "2022-06-17 13:11:19 (22.3 MB/s) - ‘lj_speech.tsv.1’ saved [263/263]\n",
            "\n",
            "FINISHED --2022-06-17 13:11:19--\n",
            "Total wall clock time: 0.2s\n",
            "Downloaded: 1 files, 263 in 0s (22.3 MB/s)\n"
          ]
        }
      ]
    },
    {
      "cell_type": "markdown",
      "source": [
        "## finetuning the Fastpitch model"
      ],
      "metadata": {
        "id": "EzVWRDF0lQxI"
      }
    },
    {
      "cell_type": "code",
      "source": [
        "%cd /content/\n",
        "%pwd"
      ],
      "metadata": {
        "colab": {
          "base_uri": "https://localhost:8080/",
          "height": 55
        },
        "id": "-Le4ulKNgGv4",
        "outputId": "8b1ff0d3-3024-4f5a-e750-b3123771859b"
      },
      "execution_count": 22,
      "outputs": [
        {
          "output_type": "stream",
          "name": "stdout",
          "text": [
            "/content\n"
          ]
        },
        {
          "output_type": "execute_result",
          "data": {
            "text/plain": [
              "'/content'"
            ],
            "application/vnd.google.colaboratory.intrinsic+json": {
              "type": "string"
            }
          },
          "metadata": {},
          "execution_count": 22
        }
      ]
    },
    {
      "cell_type": "code",
      "source": [
        "# TODO(oktai15): remove +model.text_tokenizer.add_blank_at=true when we update FastPitch checkpoint\n",
        "!(python fastpitch_finetune.py --config-name=fastpitch_align_v1.05.yaml \\\n",
        "  train_dataset=fastpitch_train.json \\\n",
        "  validation_datasets=fastpitch_val.json \\\n",
        "  sup_data_path=fastpitch_sup_data \\\n",
        "  phoneme_dict_path=tts_dataset_files/cmudict-0.7b_nv22.01 \\\n",
        "  heteronyms_path=tts_dataset_files/heteronyms-030921 \\\n",
        "  whitelist_path=tts_dataset_files/lj_speech.tsv \\\n",
        "  exp_manager.exp_dir=Fluttershy_training_logs \\\n",
        "  +init_from_nemo_model=tts_en_fastpitch_align.nemo \\\n",
        "  +trainer.max_steps=3000 ~trainer.max_epochs \\\n",
        "  trainer.check_val_every_n_epoch=10 \\\n",
        "  model.train_ds.dataloader_params.batch_size=16 model.validation_ds.dataloader_params.batch_size=16 \\\n",
        "  model.n_speakers=1 model.pitch_mean=121.9 model.pitch_std=23.1 \\\n",
        "  model.pitch_fmin=30 model.pitch_fmax=512 model.optim.lr=2e-4 \\\n",
        "  ~model.optim.sched model.optim.name=adam trainer.devices=1 trainer.strategy=null \\\n",
        "  +model.text_tokenizer.add_blank_at=true \\\n",
        ")"
      ],
      "metadata": {
        "colab": {
          "base_uri": "https://localhost:8080/"
        },
        "id": "qmBl8LrRO39h",
        "outputId": "561c508f-b848-4469-a354-5a40f494324f"
      },
      "execution_count": 1,
      "outputs": [
        {
          "output_type": "stream",
          "name": "stdout",
          "text": [
            "[NeMo W 2022-06-17 15:41:48 optimizers:55] Apex was not found. Using the lamb or fused_adam optimizer will error out.\n",
            "[NeMo W 2022-06-17 15:41:49 experimental:28] Module <class 'nemo.collections.tts.torch.tts_tokenizers.IPATokenizer'> is experimental, not ready for production and is not fully supported. Use at your own risk.\n",
            "Using 16bit native Automatic Mixed Precision (AMP)\n",
            "GPU available: True, used: True\n",
            "TPU available: False, using: 0 TPU cores\n",
            "IPU available: False, using: 0 IPUs\n",
            "HPU available: False, using: 0 HPUs\n",
            "[NeMo I 2022-06-17 15:41:49 exp_manager:287] Experiments will be logged at Fluttershy_training_logs/FastPitch/2022-06-17_15-41-49\n",
            "[NeMo I 2022-06-17 15:41:49 exp_manager:661] TensorboardLogger has been set up\n",
            "[NeMo W 2022-06-17 15:41:49 nemo_logging:349] /usr/local/lib/python3.7/dist-packages/pytorch_lightning/trainer/trainer.py:2319: LightningDeprecationWarning: `Trainer.weights_save_path` has been deprecated in v1.6 and will be removed in v1.8.\n",
            "      rank_zero_deprecation(\"`Trainer.weights_save_path` has been deprecated in v1.6 and will be removed in v1.8.\")\n",
            "    \n",
            "[NeMo I 2022-06-17 15:41:52 tokenize_and_classify:87] Creating ClassifyFst grammars.\n",
            "[NeMo W 2022-06-17 15:42:11 experimental:28] Module <class 'nemo.collections.tts.torch.g2ps.IPAG2P'> is experimental, not ready for production and is not fully supported. Use at your own risk.\n",
            "[NeMo W 2022-06-17 15:42:12 g2ps:87] apply_to_oov_word=None, This means that some of words will remain unchanged if they are not handled by any of the rules in self.parse_one_word(). This may be intended if phonemes and chars are both valid inputs, otherwise, you may see unexpected deletions in your input.\n",
            "Created a temporary directory at /tmp/tmp6lbl9iby\n",
            "Writing /tmp/tmp6lbl9iby/_remote_module_non_sriptable.py\n",
            "[NeMo I 2022-06-17 15:42:12 data:186] Loading dataset from fastpitch_train.json.\n",
            "1201it [00:26, 44.82it/s]\n",
            "[NeMo I 2022-06-17 15:42:39 data:221] Loaded dataset with 1201 files.\n",
            "[NeMo I 2022-06-17 15:42:39 data:223] Dataset contains 0.85 hours.\n",
            "[NeMo I 2022-06-17 15:42:39 data:315] Pruned 0 files. Final dataset contains 1201 files\n",
            "[NeMo I 2022-06-17 15:42:39 data:318] Pruned 0.00 hours. Final dataset contains 0.85 hours.\n",
            "[NeMo W 2022-06-17 15:42:39 nemo_logging:349] /usr/local/lib/python3.7/dist-packages/torch/utils/data/dataloader.py:490: UserWarning: This DataLoader will create 12 worker processes in total. Our suggested max number of worker in current system is 4, which is smaller than what this DataLoader is going to create. Please be aware that excessive worker creation might get DataLoader running slow or even freeze, lower the worker number to avoid potential slowness/freeze if necessary.\n",
            "      cpuset_checked))\n",
            "    \n",
            "[NeMo I 2022-06-17 15:42:39 data:186] Loading dataset from fastpitch_val.json.\n",
            "51it [00:01, 40.51it/s]\n",
            "[NeMo I 2022-06-17 15:42:40 data:221] Loaded dataset with 51 files.\n",
            "[NeMo I 2022-06-17 15:42:40 data:223] Dataset contains 0.03 hours.\n",
            "[NeMo I 2022-06-17 15:42:40 data:315] Pruned 0 files. Final dataset contains 51 files\n",
            "[NeMo I 2022-06-17 15:42:40 data:318] Pruned 0.00 hours. Final dataset contains 0.03 hours.\n",
            "[NeMo W 2022-06-17 15:42:40 nemo_logging:349] /usr/local/lib/python3.7/dist-packages/torch/utils/data/dataloader.py:490: UserWarning: This DataLoader will create 8 worker processes in total. Our suggested max number of worker in current system is 4, which is smaller than what this DataLoader is going to create. Please be aware that excessive worker creation might get DataLoader running slow or even freeze, lower the worker number to avoid potential slowness/freeze if necessary.\n",
            "      cpuset_checked))\n",
            "    \n",
            "[NeMo I 2022-06-17 15:42:40 features:200] PADDING: 1\n",
            "[NeMo I 2022-06-17 15:42:43 tokenize_and_classify:87] Creating ClassifyFst grammars.\n",
            "[NeMo W 2022-06-17 15:43:03 g2ps:87] apply_to_oov_word=None, This means that some of words will remain unchanged if they are not handled by any of the rules in self.parse_one_word(). This may be intended if phonemes and chars are both valid inputs, otherwise, you may see unexpected deletions in your input.\n",
            "[NeMo W 2022-06-17 15:43:03 modelPT:149] If you intend to do training or fine-tuning, please call the ModelPT.setup_training_data() method and provide a valid configuration file to setup the train data loader.\n",
            "    Train config : \n",
            "    dataset:\n",
            "      _target_: nemo.collections.tts.torch.data.TTSDataset\n",
            "      manifest_filepath: /ws/LJSpeech/nvidia_ljspeech_train_clean_ngc.json\n",
            "      sample_rate: 22050\n",
            "      sup_data_path: /raid/LJSpeech/supplementary\n",
            "      sup_data_types:\n",
            "      - align_prior_matrix\n",
            "      - pitch\n",
            "      n_fft: 1024\n",
            "      win_length: 1024\n",
            "      hop_length: 256\n",
            "      window: hann\n",
            "      n_mels: 80\n",
            "      lowfreq: 0\n",
            "      highfreq: 8000\n",
            "      max_duration: null\n",
            "      min_duration: 0.1\n",
            "      ignore_file: null\n",
            "      trim: false\n",
            "      pitch_fmin: 65.40639132514966\n",
            "      pitch_fmax: 2093.004522404789\n",
            "      pitch_norm: true\n",
            "      pitch_mean: 212.35873413085938\n",
            "      pitch_std: 68.52806091308594\n",
            "      use_beta_binomial_interpolator: true\n",
            "    dataloader_params:\n",
            "      drop_last: false\n",
            "      shuffle: true\n",
            "      batch_size: 24\n",
            "      num_workers: 0\n",
            "    \n",
            "[NeMo W 2022-06-17 15:43:03 modelPT:156] If you intend to do validation, please call the ModelPT.setup_validation_data() or ModelPT.setup_multiple_validation_data() method and provide a valid configuration file to setup the validation data loader(s). \n",
            "    Validation config : \n",
            "    dataset:\n",
            "      _target_: nemo.collections.tts.torch.data.TTSDataset\n",
            "      manifest_filepath: /ws/LJSpeech/nvidia_ljspeech_val_clean_ngc.json\n",
            "      sample_rate: 22050\n",
            "      sup_data_path: /raid/LJSpeech/supplementary\n",
            "      sup_data_types:\n",
            "      - align_prior_matrix\n",
            "      - pitch\n",
            "      n_fft: 1024\n",
            "      win_length: 1024\n",
            "      hop_length: 256\n",
            "      window: hann\n",
            "      n_mels: 80\n",
            "      lowfreq: 0\n",
            "      highfreq: 8000\n",
            "      max_duration: null\n",
            "      min_duration: null\n",
            "      ignore_file: null\n",
            "      trim: false\n",
            "      pitch_fmin: 65.40639132514966\n",
            "      pitch_fmax: 2093.004522404789\n",
            "      pitch_norm: true\n",
            "      pitch_mean: 212.35873413085938\n",
            "      pitch_std: 68.52806091308594\n",
            "      use_beta_binomial_interpolator: true\n",
            "    dataloader_params:\n",
            "      drop_last: false\n",
            "      shuffle: false\n",
            "      batch_size: 24\n",
            "      num_workers: 0\n",
            "    \n",
            "[NeMo I 2022-06-17 15:43:03 features:200] PADDING: 1\n",
            "[NeMo I 2022-06-17 15:43:04 save_restore_connector:243] Model FastPitchModel was successfully restored from /content/tts_en_fastpitch_align.nemo.\n",
            "[NeMo I 2022-06-17 15:43:04 modelPT:991] Model checkpoint restored from nemo file with path : `tts_en_fastpitch_align.nemo`\n",
            "LOCAL_RANK: 0 - CUDA_VISIBLE_DEVICES: [0]\n",
            "[NeMo I 2022-06-17 15:43:08 modelPT:579] Optimizer config = Adam (\n",
            "    Parameter Group 0\n",
            "        amsgrad: False\n",
            "        betas: [0.9, 0.999]\n",
            "        eps: 1e-08\n",
            "        lr: 0.0002\n",
            "        maximize: False\n",
            "        weight_decay: 1e-06\n",
            "    )\n",
            "[NeMo I 2022-06-17 15:43:08 lr_scheduler:698] Scheduler not initialized as no `sched` config supplied to setup_optimizer()\n",
            "\n",
            "  | Name             | Type                              | Params\n",
            "-----------------------------------------------------------------------\n",
            "0 | mel_loss         | MelLoss                           | 0     \n",
            "1 | pitch_loss       | PitchLoss                         | 0     \n",
            "2 | duration_loss    | DurationLoss                      | 0     \n",
            "3 | aligner          | AlignmentEncoder                  | 1.0 M \n",
            "4 | forward_sum_loss | ForwardSumLoss                    | 0     \n",
            "5 | bin_loss         | BinLoss                           | 0     \n",
            "6 | preprocessor     | AudioToMelSpectrogramPreprocessor | 0     \n",
            "7 | fastpitch        | FastPitchModule                   | 45.8 M\n",
            "-----------------------------------------------------------------------\n",
            "45.8 M    Trainable params\n",
            "0         Non-trainable params\n",
            "45.8 M    Total params\n",
            "91.518    Total estimated model params size (MB)\n",
            "Sanity Checking DataLoader 0:   0% 0/2 [00:00<?, ?it/s][NeMo W 2022-06-17 15:43:14 nemo_logging:349] /usr/local/lib/python3.7/dist-packages/numba/np/ufunc/parallel.py:363: NumbaWarning: \u001b[1mThe TBB threading layer requires TBB version 2019.5 or later i.e., TBB_INTERFACE_VERSION >= 11005. Found TBB_INTERFACE_VERSION = 9107. The TBB threading layer is disabled.\u001b[0m\n",
            "      warnings.warn(problem)\n",
            "    \n",
            "[NeMo W 2022-06-17 15:43:16 nemo_logging:349] /usr/local/lib/python3.7/dist-packages/pytorch_lightning/trainer/trainer.py:1937: PossibleUserWarning: The number of training batches (76) is smaller than the logging interval Trainer(log_every_n_steps=100). Set a lower value for log_every_n_steps if you want to see logs for the training epoch.\n",
            "      category=PossibleUserWarning,\n",
            "    \n",
            "Epoch 0:   0% 0/76 [00:00<?, ?it/s] [NeMo W 2022-06-17 15:43:16 nemo_logging:349] /usr/local/lib/python3.7/dist-packages/torch/utils/data/dataloader.py:490: UserWarning: This DataLoader will create 12 worker processes in total. Our suggested max number of worker in current system is 4, which is smaller than what this DataLoader is going to create. Please be aware that excessive worker creation might get DataLoader running slow or even freeze, lower the worker number to avoid potential slowness/freeze if necessary.\n",
            "      cpuset_checked))\n",
            "    \n",
            "Epoch 9:  75% 60/80 [01:20<00:26,  1.34s/it, loss=6, v_num=1-49]   \n",
            "Validation: 0it [00:00, ?it/s]\u001b[A[NeMo W 2022-06-17 15:58:23 nemo_logging:349] /usr/local/lib/python3.7/dist-packages/torch/utils/data/dataloader.py:490: UserWarning: This DataLoader will create 8 worker processes in total. Our suggested max number of worker in current system is 4, which is smaller than what this DataLoader is going to create. Please be aware that excessive worker creation might get DataLoader running slow or even freeze, lower the worker number to avoid potential slowness/freeze if necessary.\n",
            "      cpuset_checked))\n",
            "    \n",
            "\n",
            "Validation:   0% 0/4 [00:00<?, ?it/s]\u001b[A\n",
            "Validation DataLoader 0:   0% 0/4 [00:00<?, ?it/s]\u001b[A\n",
            "Validation DataLoader 0: 100% 4/4 [00:00<00:00,  9.42it/s]\u001b[A\n",
            "Epoch 9: 100% 80/80 [01:36<00:00,  1.21s/it, loss=5.88, v_num=1-49]\n",
            "                                                          \u001b[AEpoch 9, global step 760: 'v_loss' reached 2.34666 (best 2.34666), saving model to '/content/Fluttershy_training_logs/FastPitch/2022-06-17_15-41-49/checkpoints/FastPitch--v_loss=2.3467-epoch=9.ckpt' as top 3\n",
            "Epoch 11:  79% 60/76 [01:23<00:22,  1.39s/it, loss=5.66, v_num=1-49]../aten/src/ATen/native/cuda/ScatterGatherKernel.cu:111: operator(): block: [8,0,0], thread: [125,0,0] Assertion `idx_dim >= 0 && idx_dim < index_size && \"index out of bounds\"` failed.\n",
            "Error executing job with overrides: ['train_dataset=fastpitch_train.json', 'validation_datasets=fastpitch_val.json', 'sup_data_path=fastpitch_sup_data', 'phoneme_dict_path=tts_dataset_files/cmudict-0.7b_nv22.01', 'heteronyms_path=tts_dataset_files/heteronyms-030921', 'whitelist_path=tts_dataset_files/lj_speech.tsv', 'exp_manager.exp_dir=Fluttershy_training_logs', '+init_from_nemo_model=tts_en_fastpitch_align.nemo', '+trainer.max_steps=3000', '~trainer.max_epochs', 'trainer.check_val_every_n_epoch=10', 'model.train_ds.dataloader_params.batch_size=16', 'model.validation_ds.dataloader_params.batch_size=16', 'model.n_speakers=1', 'model.pitch_mean=121.9', 'model.pitch_std=23.1', 'model.pitch_fmin=30', 'model.pitch_fmax=512', 'model.optim.lr=2e-4', '~model.optim.sched', 'model.optim.name=adam', 'trainer.devices=1', 'trainer.strategy=null', '+model.text_tokenizer.add_blank_at=true']\n",
            "Traceback (most recent call last):\n",
            "  File \"/usr/local/lib/python3.7/dist-packages/pytorch_lightning/trainer/trainer.py\", line 723, in _call_and_handle_interrupt\n",
            "    return trainer_fn(*args, **kwargs)\n",
            "  File \"/usr/local/lib/python3.7/dist-packages/pytorch_lightning/trainer/trainer.py\", line 811, in _fit_impl\n",
            "    results = self._run(model, ckpt_path=self.ckpt_path)\n",
            "  File \"/usr/local/lib/python3.7/dist-packages/pytorch_lightning/trainer/trainer.py\", line 1236, in _run\n",
            "    results = self._run_stage()\n",
            "  File \"/usr/local/lib/python3.7/dist-packages/pytorch_lightning/trainer/trainer.py\", line 1323, in _run_stage\n",
            "    return self._run_train()\n",
            "  File \"/usr/local/lib/python3.7/dist-packages/pytorch_lightning/trainer/trainer.py\", line 1353, in _run_train\n",
            "    self.fit_loop.run()\n",
            "  File \"/usr/local/lib/python3.7/dist-packages/pytorch_lightning/loops/base.py\", line 204, in run\n",
            "    self.advance(*args, **kwargs)\n",
            "  File \"/usr/local/lib/python3.7/dist-packages/pytorch_lightning/loops/fit_loop.py\", line 269, in advance\n",
            "    self._outputs = self.epoch_loop.run(self._data_fetcher)\n",
            "  File \"/usr/local/lib/python3.7/dist-packages/pytorch_lightning/loops/base.py\", line 204, in run\n",
            "    self.advance(*args, **kwargs)\n",
            "  File \"/usr/local/lib/python3.7/dist-packages/pytorch_lightning/loops/epoch/training_epoch_loop.py\", line 208, in advance\n",
            "    batch_output = self.batch_loop.run(batch, batch_idx)\n",
            "  File \"/usr/local/lib/python3.7/dist-packages/pytorch_lightning/loops/base.py\", line 204, in run\n",
            "    self.advance(*args, **kwargs)\n",
            "  File \"/usr/local/lib/python3.7/dist-packages/pytorch_lightning/loops/batch/training_batch_loop.py\", line 88, in advance\n",
            "    outputs = self.optimizer_loop.run(split_batch, optimizers, batch_idx)\n",
            "  File \"/usr/local/lib/python3.7/dist-packages/pytorch_lightning/loops/base.py\", line 204, in run\n",
            "    self.advance(*args, **kwargs)\n",
            "  File \"/usr/local/lib/python3.7/dist-packages/pytorch_lightning/loops/optimization/optimizer_loop.py\", line 207, in advance\n",
            "    self.optimizer_idx,\n",
            "  File \"/usr/local/lib/python3.7/dist-packages/pytorch_lightning/loops/optimization/optimizer_loop.py\", line 256, in _run_optimization\n",
            "    self._optimizer_step(optimizer, opt_idx, batch_idx, closure)\n",
            "  File \"/usr/local/lib/python3.7/dist-packages/pytorch_lightning/loops/optimization/optimizer_loop.py\", line 378, in _optimizer_step\n",
            "    using_lbfgs=is_lbfgs,\n",
            "  File \"/usr/local/lib/python3.7/dist-packages/pytorch_lightning/trainer/trainer.py\", line 1595, in _call_lightning_module_hook\n",
            "    output = fn(*args, **kwargs)\n",
            "  File \"/usr/local/lib/python3.7/dist-packages/pytorch_lightning/core/lightning.py\", line 1646, in optimizer_step\n",
            "    optimizer.step(closure=optimizer_closure)\n",
            "  File \"/usr/local/lib/python3.7/dist-packages/pytorch_lightning/core/optimizer.py\", line 168, in step\n",
            "    step_output = self._strategy.optimizer_step(self._optimizer, self._optimizer_idx, closure, **kwargs)\n",
            "  File \"/usr/local/lib/python3.7/dist-packages/pytorch_lightning/strategies/strategy.py\", line 193, in optimizer_step\n",
            "    return self.precision_plugin.optimizer_step(model, optimizer, opt_idx, closure, **kwargs)\n",
            "  File \"/usr/local/lib/python3.7/dist-packages/pytorch_lightning/plugins/precision/native_amp.py\", line 85, in optimizer_step\n",
            "    closure_result = closure()\n",
            "  File \"/usr/local/lib/python3.7/dist-packages/pytorch_lightning/loops/optimization/optimizer_loop.py\", line 148, in __call__\n",
            "    self._result = self.closure(*args, **kwargs)\n",
            "  File \"/usr/local/lib/python3.7/dist-packages/pytorch_lightning/loops/optimization/optimizer_loop.py\", line 134, in closure\n",
            "    step_output = self._step_fn()\n",
            "  File \"/usr/local/lib/python3.7/dist-packages/pytorch_lightning/loops/optimization/optimizer_loop.py\", line 427, in _training_step\n",
            "    training_step_output = self.trainer._call_strategy_hook(\"training_step\", *step_kwargs.values())\n",
            "  File \"/usr/local/lib/python3.7/dist-packages/pytorch_lightning/trainer/trainer.py\", line 1765, in _call_strategy_hook\n",
            "    output = fn(*args, **kwargs)\n",
            "  File \"/usr/local/lib/python3.7/dist-packages/pytorch_lightning/strategies/strategy.py\", line 333, in training_step\n",
            "    return self.model.training_step(*args, **kwargs)\n",
            "  File \"/usr/local/lib/python3.7/dist-packages/nemo/utils/model_utils.py\", line 364, in wrap_training_step\n",
            "    output_dict = wrapped(*args, **kwargs)\n",
            "  File \"/usr/local/lib/python3.7/dist-packages/nemo/collections/tts/models/fastpitch.py\", line 330, in training_step\n",
            "    input_lens=text_lens,\n",
            "  File \"/usr/local/lib/python3.7/dist-packages/torch/nn/modules/module.py\", line 1110, in _call_impl\n",
            "    return forward_call(*input, **kwargs)\n",
            "  File \"/usr/local/lib/python3.7/dist-packages/nemo/core/classes/common.py\", line 963, in __call__\n",
            "    outputs = wrapped(*args, **kwargs)\n",
            "  File \"/usr/local/lib/python3.7/dist-packages/nemo/collections/tts/models/fastpitch.py\", line 292, in forward\n",
            "    input_lens=input_lens,\n",
            "  File \"/usr/local/lib/python3.7/dist-packages/torch/nn/modules/module.py\", line 1110, in _call_impl\n",
            "    return forward_call(*input, **kwargs)\n",
            "  File \"/usr/local/lib/python3.7/dist-packages/nemo/core/classes/common.py\", line 963, in __call__\n",
            "    outputs = wrapped(*args, **kwargs)\n",
            "  File \"/usr/local/lib/python3.7/dist-packages/nemo/collections/tts/modules/fastpitch.py\", line 257, in forward\n",
            "    len_regulated, dec_lens = regulate_len(attn_hard_dur, enc_out, pace)\n",
            "  File \"/usr/local/lib/python3.7/dist-packages/nemo/collections/tts/helpers/helpers.py\", line 538, in regulate_len\n",
            "    range_ = torch.arange(max_len).to(enc_out.device)[None, :, None]\n",
            "RuntimeError: CUDA error: device-side assert triggered\n",
            "CUDA kernel errors might be asynchronously reported at some other API call,so the stacktrace below might be incorrect.\n",
            "For debugging consider passing CUDA_LAUNCH_BLOCKING=1.\n",
            "\n",
            "During handling of the above exception, another exception occurred:\n",
            "\n",
            "Traceback (most recent call last):\n",
            "  File \"fastpitch_finetune.py\", line 37, in main\n",
            "    trainer.fit(model)\n",
            "  File \"/usr/local/lib/python3.7/dist-packages/pytorch_lightning/trainer/trainer.py\", line 771, in fit\n",
            "    self._fit_impl, model, train_dataloaders, val_dataloaders, datamodule, ckpt_path\n",
            "  File \"/usr/local/lib/python3.7/dist-packages/pytorch_lightning/trainer/trainer.py\", line 738, in _call_and_handle_interrupt\n",
            "    self._teardown()\n",
            "  File \"/usr/local/lib/python3.7/dist-packages/pytorch_lightning/trainer/trainer.py\", line 1300, in _teardown\n",
            "    self.strategy.teardown()\n",
            "  File \"/usr/local/lib/python3.7/dist-packages/pytorch_lightning/strategies/single_device.py\", line 93, in teardown\n",
            "    super().teardown()\n",
            "  File \"/usr/local/lib/python3.7/dist-packages/pytorch_lightning/strategies/strategy.py\", line 444, in teardown\n",
            "    optimizers_to_device(self.optimizers, torch.device(\"cpu\"))\n",
            "  File \"/usr/local/lib/python3.7/dist-packages/pytorch_lightning/utilities/optimizer.py\", line 27, in optimizers_to_device\n",
            "    optimizer_to_device(opt, device)\n",
            "  File \"/usr/local/lib/python3.7/dist-packages/pytorch_lightning/utilities/optimizer.py\", line 33, in optimizer_to_device\n",
            "    optimizer.state[p] = apply_to_collection(v, torch.Tensor, move_data_to_device, device)\n",
            "  File \"/usr/local/lib/python3.7/dist-packages/pytorch_lightning/utilities/apply_func.py\", line 108, in apply_to_collection\n",
            "    v, dtype, function, *args, wrong_dtype=wrong_dtype, include_none=include_none, **kwargs\n",
            "  File \"/usr/local/lib/python3.7/dist-packages/pytorch_lightning/utilities/apply_func.py\", line 99, in apply_to_collection\n",
            "    return function(data, *args, **kwargs)\n",
            "  File \"/usr/local/lib/python3.7/dist-packages/pytorch_lightning/utilities/apply_func.py\", line 354, in move_data_to_device\n",
            "    return apply_to_collection(batch, dtype=dtype, function=batch_to)\n",
            "  File \"/usr/local/lib/python3.7/dist-packages/pytorch_lightning/utilities/apply_func.py\", line 99, in apply_to_collection\n",
            "    return function(data, *args, **kwargs)\n",
            "  File \"/usr/local/lib/python3.7/dist-packages/pytorch_lightning/utilities/apply_func.py\", line 347, in batch_to\n",
            "    data_output = data.to(device, **kwargs)\n",
            "RuntimeError: CUDA error: device-side assert triggered\n",
            "CUDA kernel errors might be asynchronously reported at some other API call,so the stacktrace below might be incorrect.\n",
            "For debugging consider passing CUDA_LAUNCH_BLOCKING=1.\n",
            "\n",
            "Set the environment variable HYDRA_FULL_ERROR=1 for a complete stack trace.\n",
            "\u001b[0m"
          ]
        }
      ]
    },
    {
      "cell_type": "markdown",
      "source": [
        "## Preparing the data for HiFiGAN finetuning"
      ],
      "metadata": {
        "id": "_zqAPZZolV_1"
      }
    },
    {
      "cell_type": "code",
      "source": [
        ""
      ],
      "metadata": {
        "id": "ymqkwOOHlnoP"
      },
      "execution_count": 23,
      "outputs": []
    },
    {
      "cell_type": "markdown",
      "source": [
        "## finetuning the HiFiGAN model"
      ],
      "metadata": {
        "id": "zWTj8FdIloC-"
      }
    },
    {
      "cell_type": "code",
      "source": [
        ""
      ],
      "metadata": {
        "id": "Wv0A6OARlrVv"
      },
      "execution_count": 23,
      "outputs": []
    },
    {
      "cell_type": "markdown",
      "source": [
        "## Copy the final weights to the gdrive for future reference"
      ],
      "metadata": {
        "id": "kFlThycmlvZg"
      }
    },
    {
      "cell_type": "code",
      "source": [
        ""
      ],
      "metadata": {
        "id": "1AzFLttCmTTx"
      },
      "execution_count": 23,
      "outputs": []
    },
    {
      "cell_type": "markdown",
      "source": [
        "## Load the checkpoints and do the inference"
      ],
      "metadata": {
        "id": "tgV3Rtp_mUPh"
      }
    },
    {
      "cell_type": "code",
      "source": [
        ""
      ],
      "metadata": {
        "id": "yQ5qgAXHnbBV"
      },
      "execution_count": 23,
      "outputs": []
    }
  ]
}