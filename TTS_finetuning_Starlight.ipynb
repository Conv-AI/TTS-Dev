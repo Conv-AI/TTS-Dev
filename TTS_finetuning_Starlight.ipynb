{
  "nbformat": 4,
  "nbformat_minor": 0,
  "metadata": {
    "colab": {
      "name": "TTS-finetuning_Starlight.ipynb",
      "provenance": [],
      "collapsed_sections": [],
      "machine_shape": "hm",
      "authorship_tag": "ABX9TyP1YHpxMvN7tCe/mG57G1uX",
      "include_colab_link": true
    },
    "kernelspec": {
      "name": "python3",
      "display_name": "Python 3"
    },
    "language_info": {
      "name": "python"
    },
    "accelerator": "GPU",
    "gpuClass": "standard"
  },
  "cells": [
    {
      "cell_type": "markdown",
      "metadata": {
        "id": "view-in-github",
        "colab_type": "text"
      },
      "source": [
        "<a href=\"https://colab.research.google.com/github/Conv-AI/TTS-Dev/blob/main/TTS_finetuning_Starlight.ipynb\" target=\"_parent\"><img src=\"https://colab.research.google.com/assets/colab-badge.svg\" alt=\"Open In Colab\"/></a>"
      ]
    },
    {
      "cell_type": "markdown",
      "source": [
        "## Setting up the environment"
      ],
      "metadata": {
        "id": "50T0jskpkv2h"
      }
    },
    {
      "cell_type": "code",
      "source": [
        "!nvidia-smi"
      ],
      "metadata": {
        "colab": {
          "base_uri": "https://localhost:8080/"
        },
        "id": "tQfBIsMrHeGC",
        "outputId": "b20cd884-2dd2-4d1c-8dd7-c480a94bd6d4"
      },
      "execution_count": 1,
      "outputs": [
        {
          "output_type": "stream",
          "name": "stdout",
          "text": [
            "Sun Jun 19 13:19:50 2022       \n",
            "+-----------------------------------------------------------------------------+\n",
            "| NVIDIA-SMI 460.32.03    Driver Version: 460.32.03    CUDA Version: 11.2     |\n",
            "|-------------------------------+----------------------+----------------------+\n",
            "| GPU  Name        Persistence-M| Bus-Id        Disp.A | Volatile Uncorr. ECC |\n",
            "| Fan  Temp  Perf  Pwr:Usage/Cap|         Memory-Usage | GPU-Util  Compute M. |\n",
            "|                               |                      |               MIG M. |\n",
            "|===============================+======================+======================|\n",
            "|   0  Tesla P100-PCIE...  Off  | 00000000:00:04.0 Off |                    0 |\n",
            "| N/A   40C    P0    27W / 250W |      0MiB / 16280MiB |      0%      Default |\n",
            "|                               |                      |                  N/A |\n",
            "+-------------------------------+----------------------+----------------------+\n",
            "                                                                               \n",
            "+-----------------------------------------------------------------------------+\n",
            "| Processes:                                                                  |\n",
            "|  GPU   GI   CI        PID   Type   Process name                  GPU Memory |\n",
            "|        ID   ID                                                   Usage      |\n",
            "|=============================================================================|\n",
            "|  No running processes found                                                 |\n",
            "+-----------------------------------------------------------------------------+\n"
          ]
        }
      ]
    },
    {
      "cell_type": "code",
      "source": [
        "BRANCH = 'main'\n",
        "# If you're using Google Colab and not running locally, uncomment and run this cell.\n",
        "!apt-get install sox libsndfile1 ffmpeg\n",
        "!pip install wget unidecode pynini==2.1.4\n",
        "!python -m pip install git+https://github.com/NVIDIA/NeMo.git@$BRANCH#egg=nemo_toolkit[all]"
      ],
      "metadata": {
        "colab": {
          "base_uri": "https://localhost:8080/"
        },
        "id": "vsAenBDSh5uQ",
        "outputId": "06ebf09b-1843-41ca-f5fc-b98dd403ddea"
      },
      "execution_count": 4,
      "outputs": [
        {
          "output_type": "stream",
          "name": "stdout",
          "text": [
            "Reading package lists... Done\n",
            "Building dependency tree       \n",
            "Reading state information... Done\n",
            "libsndfile1 is already the newest version (1.0.28-4ubuntu0.18.04.2).\n",
            "ffmpeg is already the newest version (7:3.4.11-0ubuntu0.1).\n",
            "The following package was automatically installed and is no longer required:\n",
            "  libnvidia-common-460\n",
            "Use 'apt autoremove' to remove it.\n",
            "The following additional packages will be installed:\n",
            "  libmagic-mgc libmagic1 libopencore-amrnb0 libopencore-amrwb0 libsox-fmt-alsa\n",
            "  libsox-fmt-base libsox3\n",
            "Suggested packages:\n",
            "  file libsox-fmt-all\n",
            "The following NEW packages will be installed:\n",
            "  libmagic-mgc libmagic1 libopencore-amrnb0 libopencore-amrwb0 libsox-fmt-alsa\n",
            "  libsox-fmt-base libsox3 sox\n",
            "0 upgraded, 8 newly installed, 0 to remove and 49 not upgraded.\n",
            "Need to get 760 kB of archives.\n",
            "After this operation, 6,717 kB of additional disk space will be used.\n",
            "Get:1 http://archive.ubuntu.com/ubuntu bionic/universe amd64 libopencore-amrnb0 amd64 0.1.3-2.1 [92.0 kB]\n",
            "Get:2 http://archive.ubuntu.com/ubuntu bionic/universe amd64 libopencore-amrwb0 amd64 0.1.3-2.1 [45.8 kB]\n",
            "Get:3 http://archive.ubuntu.com/ubuntu bionic-updates/main amd64 libmagic-mgc amd64 1:5.32-2ubuntu0.4 [184 kB]\n",
            "Get:4 http://archive.ubuntu.com/ubuntu bionic-updates/main amd64 libmagic1 amd64 1:5.32-2ubuntu0.4 [68.6 kB]\n",
            "Get:5 http://archive.ubuntu.com/ubuntu bionic-updates/universe amd64 libsox3 amd64 14.4.2-3ubuntu0.18.04.1 [226 kB]\n",
            "Get:6 http://archive.ubuntu.com/ubuntu bionic-updates/universe amd64 libsox-fmt-alsa amd64 14.4.2-3ubuntu0.18.04.1 [10.6 kB]\n",
            "Get:7 http://archive.ubuntu.com/ubuntu bionic-updates/universe amd64 libsox-fmt-base amd64 14.4.2-3ubuntu0.18.04.1 [32.1 kB]\n",
            "Get:8 http://archive.ubuntu.com/ubuntu bionic-updates/universe amd64 sox amd64 14.4.2-3ubuntu0.18.04.1 [101 kB]\n",
            "Fetched 760 kB in 0s (2,109 kB/s)\n",
            "Selecting previously unselected package libopencore-amrnb0:amd64.\n",
            "(Reading database ... 155639 files and directories currently installed.)\n",
            "Preparing to unpack .../0-libopencore-amrnb0_0.1.3-2.1_amd64.deb ...\n",
            "Unpacking libopencore-amrnb0:amd64 (0.1.3-2.1) ...\n",
            "Selecting previously unselected package libopencore-amrwb0:amd64.\n",
            "Preparing to unpack .../1-libopencore-amrwb0_0.1.3-2.1_amd64.deb ...\n",
            "Unpacking libopencore-amrwb0:amd64 (0.1.3-2.1) ...\n",
            "Selecting previously unselected package libmagic-mgc.\n",
            "Preparing to unpack .../2-libmagic-mgc_1%3a5.32-2ubuntu0.4_amd64.deb ...\n",
            "Unpacking libmagic-mgc (1:5.32-2ubuntu0.4) ...\n",
            "Selecting previously unselected package libmagic1:amd64.\n",
            "Preparing to unpack .../3-libmagic1_1%3a5.32-2ubuntu0.4_amd64.deb ...\n",
            "Unpacking libmagic1:amd64 (1:5.32-2ubuntu0.4) ...\n",
            "Selecting previously unselected package libsox3:amd64.\n",
            "Preparing to unpack .../4-libsox3_14.4.2-3ubuntu0.18.04.1_amd64.deb ...\n",
            "Unpacking libsox3:amd64 (14.4.2-3ubuntu0.18.04.1) ...\n",
            "Selecting previously unselected package libsox-fmt-alsa:amd64.\n",
            "Preparing to unpack .../5-libsox-fmt-alsa_14.4.2-3ubuntu0.18.04.1_amd64.deb ...\n",
            "Unpacking libsox-fmt-alsa:amd64 (14.4.2-3ubuntu0.18.04.1) ...\n",
            "Selecting previously unselected package libsox-fmt-base:amd64.\n",
            "Preparing to unpack .../6-libsox-fmt-base_14.4.2-3ubuntu0.18.04.1_amd64.deb ...\n",
            "Unpacking libsox-fmt-base:amd64 (14.4.2-3ubuntu0.18.04.1) ...\n",
            "Selecting previously unselected package sox.\n",
            "Preparing to unpack .../7-sox_14.4.2-3ubuntu0.18.04.1_amd64.deb ...\n",
            "Unpacking sox (14.4.2-3ubuntu0.18.04.1) ...\n",
            "Setting up libmagic-mgc (1:5.32-2ubuntu0.4) ...\n",
            "Setting up libmagic1:amd64 (1:5.32-2ubuntu0.4) ...\n",
            "Setting up libopencore-amrnb0:amd64 (0.1.3-2.1) ...\n",
            "Setting up libopencore-amrwb0:amd64 (0.1.3-2.1) ...\n",
            "Setting up libsox3:amd64 (14.4.2-3ubuntu0.18.04.1) ...\n",
            "Setting up libsox-fmt-base:amd64 (14.4.2-3ubuntu0.18.04.1) ...\n",
            "Setting up libsox-fmt-alsa:amd64 (14.4.2-3ubuntu0.18.04.1) ...\n",
            "Setting up sox (14.4.2-3ubuntu0.18.04.1) ...\n",
            "Processing triggers for libc-bin (2.27-3ubuntu1.3) ...\n",
            "/sbin/ldconfig.real: /usr/local/lib/python3.7/dist-packages/ideep4py/lib/libmkldnn.so.0 is not a symbolic link\n",
            "\n",
            "Processing triggers for man-db (2.8.3-2ubuntu0.1) ...\n",
            "Processing triggers for mime-support (3.60ubuntu1) ...\n",
            "Looking in indexes: https://pypi.org/simple, https://us-python.pkg.dev/colab-wheels/public/simple/\n",
            "Requirement already satisfied: wget in /usr/local/lib/python3.7/dist-packages (3.2)\n",
            "Requirement already satisfied: unidecode in /usr/local/lib/python3.7/dist-packages (1.3.4)\n",
            "Requirement already satisfied: pynini==2.1.4 in /usr/local/lib/python3.7/dist-packages (2.1.4)\n",
            "Requirement already satisfied: Cython>=0.29 in /usr/local/lib/python3.7/dist-packages (from pynini==2.1.4) (0.29.30)\n",
            "Looking in indexes: https://pypi.org/simple, https://us-python.pkg.dev/colab-wheels/public/simple/\n",
            "Collecting nemo_toolkit[all]\n",
            "  Cloning https://github.com/NVIDIA/NeMo.git (to revision main) to /tmp/pip-install-n8c2vwyw/nemo-toolkit_cec5b6a414244c95b4c422d546b83e60\n",
            "  Running command git clone -q https://github.com/NVIDIA/NeMo.git /tmp/pip-install-n8c2vwyw/nemo-toolkit_cec5b6a414244c95b4c422d546b83e60\n",
            "Collecting setuptools==59.5.0\n",
            "  Using cached setuptools-59.5.0-py3-none-any.whl (952 kB)\n",
            "Requirement already satisfied: numpy>=1.21 in /usr/local/lib/python3.7/dist-packages (from nemo_toolkit[all]) (1.21.6)\n",
            "Collecting onnx>=1.7.0\n",
            "  Using cached onnx-1.12.0-cp37-cp37m-manylinux_2_17_x86_64.manylinux2014_x86_64.whl (13.1 MB)\n",
            "Requirement already satisfied: python-dateutil in /usr/local/lib/python3.7/dist-packages (from nemo_toolkit[all]) (2.8.2)\n",
            "Requirement already satisfied: torch in /usr/local/lib/python3.7/dist-packages (from nemo_toolkit[all]) (1.11.0+cu113)\n",
            "Requirement already satisfied: wrapt in /usr/local/lib/python3.7/dist-packages (from nemo_toolkit[all]) (1.14.1)\n",
            "Collecting ruamel.yaml\n",
            "  Using cached ruamel.yaml-0.17.21-py3-none-any.whl (109 kB)\n",
            "Requirement already satisfied: scikit-learn in /usr/local/lib/python3.7/dist-packages (from nemo_toolkit[all]) (1.0.2)\n",
            "Requirement already satisfied: tqdm>=4.41.0 in /usr/local/lib/python3.7/dist-packages (from nemo_toolkit[all]) (4.64.0)\n",
            "Requirement already satisfied: numba in /usr/local/lib/python3.7/dist-packages (from nemo_toolkit[all]) (0.51.2)\n",
            "Requirement already satisfied: wget in /usr/local/lib/python3.7/dist-packages (from nemo_toolkit[all]) (3.2)\n",
            "Collecting frozendict\n",
            "  Using cached frozendict-2.3.2-cp37-cp37m-manylinux_2_17_x86_64.manylinux2014_x86_64.whl (99 kB)\n",
            "Requirement already satisfied: unidecode in /usr/local/lib/python3.7/dist-packages (from nemo_toolkit[all]) (1.3.4)\n",
            "Collecting huggingface_hub\n",
            "  Using cached huggingface_hub-0.7.0-py3-none-any.whl (86 kB)\n",
            "Collecting black==19.10b0\n",
            "  Using cached black-19.10b0-py36-none-any.whl (97 kB)\n",
            "Collecting isort[requirements]<5\n",
            "  Using cached isort-4.3.21-py2.py3-none-any.whl (42 kB)\n",
            "Collecting parameterized\n",
            "  Using cached parameterized-0.8.1-py2.py3-none-any.whl (26 kB)\n",
            "Requirement already satisfied: pytest in /usr/local/lib/python3.7/dist-packages (from nemo_toolkit[all]) (3.6.4)\n",
            "Collecting pytest-runner\n",
            "  Using cached pytest_runner-6.0.0-py3-none-any.whl (7.2 kB)\n",
            "Requirement already satisfied: sphinx in /usr/local/lib/python3.7/dist-packages (from nemo_toolkit[all]) (1.8.6)\n",
            "Collecting sphinxcontrib-bibtex\n",
            "  Using cached sphinxcontrib_bibtex-2.4.2-py3-none-any.whl (39 kB)\n",
            "Requirement already satisfied: wandb in /usr/local/lib/python3.7/dist-packages (from nemo_toolkit[all]) (0.12.18)\n",
            "Requirement already satisfied: inflect in /usr/local/lib/python3.7/dist-packages (from nemo_toolkit[all]) (2.1.0)\n",
            "Requirement already satisfied: regex in /usr/local/lib/python3.7/dist-packages (from nemo_toolkit[all]) (2022.6.2)\n",
            "Requirement already satisfied: pynini==2.1.4 in /usr/local/lib/python3.7/dist-packages (from nemo_toolkit[all]) (2.1.4)\n",
            "Collecting pytorch-lightning>=1.6.1\n",
            "  Using cached pytorch_lightning-1.6.4-py3-none-any.whl (585 kB)\n",
            "Collecting torchmetrics>=0.4.1rc0\n",
            "  Using cached torchmetrics-0.9.1-py3-none-any.whl (419 kB)\n",
            "Collecting transformers>=4.0.1\n",
            "  Using cached transformers-4.20.0-py3-none-any.whl (4.4 MB)\n",
            "Collecting webdataset<=0.1.62,>=0.1.48\n",
            "  Using cached webdataset-0.1.62-py3-none-any.whl (32 kB)\n",
            "Requirement already satisfied: omegaconf<2.2,>=2.1.2 in /usr/local/lib/python3.7/dist-packages (from nemo_toolkit[all]) (2.1.2)\n",
            "Requirement already satisfied: hydra-core<1.2,>=1.1.0 in /usr/local/lib/python3.7/dist-packages (from nemo_toolkit[all]) (1.1.0)\n",
            "Collecting pyyaml<6\n",
            "  Downloading PyYAML-5.4.1-cp37-cp37m-manylinux1_x86_64.whl (636 kB)\n",
            "\u001b[K     |████████████████████████████████| 636 kB 5.2 MB/s \n",
            "\u001b[?25hCollecting sentencepiece<1.0.0\n",
            "  Using cached sentencepiece-0.1.96-cp37-cp37m-manylinux_2_17_x86_64.manylinux2014_x86_64.whl (1.2 MB)\n",
            "Collecting youtokentome>=1.0.5\n",
            "  Using cached youtokentome-1.0.6-cp37-cp37m-manylinux2010_x86_64.whl (1.7 MB)\n",
            "Requirement already satisfied: pandas in /usr/local/lib/python3.7/dist-packages (from nemo_toolkit[all]) (1.3.5)\n",
            "Collecting sacremoses>=0.0.43\n",
            "  Using cached sacremoses-0.0.53.tar.gz (880 kB)\n",
            "Collecting braceexpand\n",
            "  Using cached braceexpand-0.1.7-py2.py3-none-any.whl (5.9 kB)\n",
            "Requirement already satisfied: editdistance in /usr/local/lib/python3.7/dist-packages (from nemo_toolkit[all]) (0.5.3)\n",
            "Requirement already satisfied: librosa in /usr/local/lib/python3.7/dist-packages (from nemo_toolkit[all]) (0.8.1)\n",
            "Collecting marshmallow\n",
            "  Using cached marshmallow-3.16.0-py3-none-any.whl (47 kB)\n",
            "Requirement already satisfied: packaging in /usr/local/lib/python3.7/dist-packages (from nemo_toolkit[all]) (21.3)\n",
            "Requirement already satisfied: soundfile in /usr/local/lib/python3.7/dist-packages (from nemo_toolkit[all]) (0.10.3.post1)\n",
            "Collecting sox\n",
            "  Using cached sox-1.4.1-py2.py3-none-any.whl (39 kB)\n",
            "Collecting kaldi-python-io\n",
            "  Using cached kaldi-python-io-1.2.2.tar.gz (8.8 kB)\n",
            "Collecting kaldiio\n",
            "  Downloading kaldiio-2.17.2.tar.gz (24 kB)\n",
            "Requirement already satisfied: scipy>=0.14 in /usr/local/lib/python3.7/dist-packages (from nemo_toolkit[all]) (1.4.1)\n",
            "Collecting g2p_en\n",
            "  Downloading g2p_en-2.1.0-py3-none-any.whl (3.1 MB)\n",
            "\u001b[K     |████████████████████████████████| 3.1 MB 36.2 MB/s \n",
            "\u001b[?25hCollecting pydub\n",
            "  Downloading pydub-0.25.1-py2.py3-none-any.whl (32 kB)\n",
            "Collecting pyannote.core\n",
            "  Downloading pyannote.core-4.4-py3-none-any.whl (65 kB)\n",
            "\u001b[K     |████████████████████████████████| 65 kB 4.4 MB/s \n",
            "\u001b[?25hCollecting pyannote.metrics\n",
            "  Downloading pyannote.metrics-3.2-py3-none-any.whl (49 kB)\n",
            "\u001b[K     |████████████████████████████████| 49 kB 4.7 MB/s \n",
            "\u001b[?25hRequirement already satisfied: ipywidgets in /usr/local/lib/python3.7/dist-packages (from nemo_toolkit[all]) (7.7.0)\n",
            "Requirement already satisfied: matplotlib in /usr/local/lib/python3.7/dist-packages (from nemo_toolkit[all]) (3.2.2)\n",
            "Requirement already satisfied: pillow in /usr/local/lib/python3.7/dist-packages (from nemo_toolkit[all]) (7.1.2)\n",
            "Requirement already satisfied: torchvision in /usr/local/lib/python3.7/dist-packages (from nemo_toolkit[all]) (0.12.0+cu113)\n",
            "Collecting boto3\n",
            "  Downloading boto3-1.24.12-py3-none-any.whl (132 kB)\n",
            "\u001b[K     |████████████████████████████████| 132 kB 50.5 MB/s \n",
            "\u001b[?25hRequirement already satisfied: h5py in /usr/local/lib/python3.7/dist-packages (from nemo_toolkit[all]) (3.1.0)\n",
            "Collecting matplotlib>=3.3.2\n",
            "  Downloading matplotlib-3.5.2-cp37-cp37m-manylinux_2_5_x86_64.manylinux1_x86_64.whl (11.2 MB)\n",
            "\u001b[K     |████████████████████████████████| 11.2 MB 32.3 MB/s \n",
            "\u001b[?25hCollecting rapidfuzz\n",
            "  Downloading rapidfuzz-2.0.11-cp37-cp37m-manylinux_2_17_x86_64.manylinux2014_x86_64.whl (1.8 MB)\n",
            "\u001b[K     |████████████████████████████████| 1.8 MB 39.9 MB/s \n",
            "\u001b[?25hRequirement already satisfied: gdown in /usr/local/lib/python3.7/dist-packages (from nemo_toolkit[all]) (4.4.0)\n",
            "Collecting sacrebleu[ja]\n",
            "  Downloading sacrebleu-2.1.0-py3-none-any.whl (92 kB)\n",
            "\u001b[K     |████████████████████████████████| 92 kB 11.2 MB/s \n",
            "\u001b[?25hRequirement already satisfied: nltk>=3.6.5 in /usr/local/lib/python3.7/dist-packages (from nemo_toolkit[all]) (3.7)\n",
            "Collecting fasttext\n",
            "  Downloading fasttext-0.9.2.tar.gz (68 kB)\n",
            "\u001b[K     |████████████████████████████████| 68 kB 7.5 MB/s \n",
            "\u001b[?25hCollecting opencc\n",
            "  Downloading OpenCC-1.1.4-cp37-cp37m-manylinux1_x86_64.whl (769 kB)\n",
            "\u001b[K     |████████████████████████████████| 769 kB 57.8 MB/s \n",
            "\u001b[?25hCollecting pangu\n",
            "  Downloading pangu-4.0.6.1-py3-none-any.whl (6.4 kB)\n",
            "Requirement already satisfied: jieba in /usr/local/lib/python3.7/dist-packages (from nemo_toolkit[all]) (0.42.1)\n",
            "Collecting ftfy\n",
            "  Downloading ftfy-6.1.1-py3-none-any.whl (53 kB)\n",
            "\u001b[K     |████████████████████████████████| 53 kB 1.7 MB/s \n",
            "\u001b[?25hCollecting flask_restful\n",
            "  Downloading Flask_RESTful-0.3.9-py2.py3-none-any.whl (25 kB)\n",
            "Collecting einops\n",
            "  Downloading einops-0.4.1-py3-none-any.whl (28 kB)\n",
            "Collecting ijson\n",
            "  Downloading ijson-3.1.4-cp37-cp37m-manylinux2010_x86_64.whl (126 kB)\n",
            "\u001b[K     |████████████████████████████████| 126 kB 63.2 MB/s \n",
            "\u001b[?25hCollecting faiss-cpu\n",
            "  Downloading faiss_cpu-1.7.2-cp37-cp37m-manylinux_2_17_x86_64.manylinux2014_x86_64.whl (8.6 MB)\n",
            "\u001b[K     |████████████████████████████████| 8.6 MB 21.2 MB/s \n",
            "\u001b[?25hCollecting sentence_transformers\n",
            "  Downloading sentence-transformers-2.2.0.tar.gz (79 kB)\n",
            "\u001b[K     |████████████████████████████████| 79 kB 8.3 MB/s \n",
            "\u001b[?25hCollecting pypinyin\n",
            "  Downloading pypinyin-0.46.0-py2.py3-none-any.whl (1.3 MB)\n",
            "\u001b[K     |████████████████████████████████| 1.3 MB 38.3 MB/s \n",
            "\u001b[?25hCollecting attrdict\n",
            "  Downloading attrdict-2.0.1-py2.py3-none-any.whl (9.9 kB)\n",
            "Collecting pystoi\n",
            "  Downloading pystoi-0.3.3.tar.gz (7.0 kB)\n",
            "Collecting pesq\n",
            "  Downloading pesq-0.0.4.tar.gz (38 kB)\n",
            "Requirement already satisfied: appdirs in /usr/local/lib/python3.7/dist-packages (from black==19.10b0->nemo_toolkit[all]) (1.4.4)\n",
            "Requirement already satisfied: attrs>=18.1.0 in /usr/local/lib/python3.7/dist-packages (from black==19.10b0->nemo_toolkit[all]) (21.4.0)\n",
            "Collecting pathspec<1,>=0.6\n",
            "  Downloading pathspec-0.9.0-py2.py3-none-any.whl (31 kB)\n",
            "Requirement already satisfied: click>=6.5 in /usr/local/lib/python3.7/dist-packages (from black==19.10b0->nemo_toolkit[all]) (7.1.2)\n",
            "Collecting toml>=0.9.4\n",
            "  Downloading toml-0.10.2-py2.py3-none-any.whl (16 kB)\n",
            "Collecting typed-ast>=1.4.0\n",
            "  Downloading typed_ast-1.5.4-cp37-cp37m-manylinux_2_5_x86_64.manylinux1_x86_64.manylinux_2_12_x86_64.manylinux2010_x86_64.whl (843 kB)\n",
            "\u001b[K     |████████████████████████████████| 843 kB 58.3 MB/s \n",
            "\u001b[?25hRequirement already satisfied: Cython>=0.29 in /usr/local/lib/python3.7/dist-packages (from pynini==2.1.4->nemo_toolkit[all]) (0.29.30)\n",
            "Requirement already satisfied: antlr4-python3-runtime==4.8 in /usr/local/lib/python3.7/dist-packages (from hydra-core<1.2,>=1.1.0->nemo_toolkit[all]) (4.8)\n",
            "Requirement already satisfied: importlib-resources in /usr/local/lib/python3.7/dist-packages (from hydra-core<1.2,>=1.1.0->nemo_toolkit[all]) (5.7.1)\n",
            "Collecting pip-api\n",
            "  Downloading pip_api-0.0.29-py3-none-any.whl (111 kB)\n",
            "\u001b[K     |████████████████████████████████| 111 kB 59.6 MB/s \n",
            "\u001b[?25hCollecting pipreqs\n",
            "  Downloading pipreqs-0.4.11-py2.py3-none-any.whl (32 kB)\n",
            "Requirement already satisfied: typing-extensions>=3.6.2.1 in /usr/local/lib/python3.7/dist-packages (from onnx>=1.7.0->nemo_toolkit[all]) (4.1.1)\n",
            "Requirement already satisfied: protobuf<=3.20.1,>=3.12.2 in /usr/local/lib/python3.7/dist-packages (from onnx>=1.7.0->nemo_toolkit[all]) (3.17.3)\n",
            "Requirement already satisfied: six>=1.9 in /usr/local/lib/python3.7/dist-packages (from protobuf<=3.20.1,>=3.12.2->onnx>=1.7.0->nemo_toolkit[all]) (1.15.0)\n",
            "Collecting pyDeprecate>=0.3.1\n",
            "  Downloading pyDeprecate-0.3.2-py3-none-any.whl (10 kB)\n",
            "Requirement already satisfied: tensorboard>=2.2.0 in /usr/local/lib/python3.7/dist-packages (from pytorch-lightning>=1.6.1->nemo_toolkit[all]) (2.8.0)\n",
            "Collecting fsspec[http]!=2021.06.0,>=2021.05.0\n",
            "  Downloading fsspec-2022.5.0-py3-none-any.whl (140 kB)\n",
            "\u001b[K     |████████████████████████████████| 140 kB 59.1 MB/s \n",
            "\u001b[?25hCollecting aiohttp\n",
            "  Downloading aiohttp-3.8.1-cp37-cp37m-manylinux_2_5_x86_64.manylinux1_x86_64.manylinux_2_12_x86_64.manylinux2010_x86_64.whl (1.1 MB)\n",
            "\u001b[K     |████████████████████████████████| 1.1 MB 51.5 MB/s \n",
            "\u001b[?25hRequirement already satisfied: requests in /usr/local/lib/python3.7/dist-packages (from fsspec[http]!=2021.06.0,>=2021.05.0->pytorch-lightning>=1.6.1->nemo_toolkit[all]) (2.23.0)\n",
            "Requirement already satisfied: pyparsing!=3.0.5,>=2.0.2 in /usr/local/lib/python3.7/dist-packages (from packaging->nemo_toolkit[all]) (3.0.9)\n",
            "Requirement already satisfied: joblib in /usr/local/lib/python3.7/dist-packages (from sacremoses>=0.0.43->nemo_toolkit[all]) (1.1.0)\n",
            "Requirement already satisfied: werkzeug>=0.11.15 in /usr/local/lib/python3.7/dist-packages (from tensorboard>=2.2.0->pytorch-lightning>=1.6.1->nemo_toolkit[all]) (1.0.1)\n",
            "Requirement already satisfied: markdown>=2.6.8 in /usr/local/lib/python3.7/dist-packages (from tensorboard>=2.2.0->pytorch-lightning>=1.6.1->nemo_toolkit[all]) (3.3.7)\n",
            "Requirement already satisfied: wheel>=0.26 in /usr/local/lib/python3.7/dist-packages (from tensorboard>=2.2.0->pytorch-lightning>=1.6.1->nemo_toolkit[all]) (0.37.1)\n",
            "Requirement already satisfied: tensorboard-data-server<0.7.0,>=0.6.0 in /usr/local/lib/python3.7/dist-packages (from tensorboard>=2.2.0->pytorch-lightning>=1.6.1->nemo_toolkit[all]) (0.6.1)\n",
            "Requirement already satisfied: tensorboard-plugin-wit>=1.6.0 in /usr/local/lib/python3.7/dist-packages (from tensorboard>=2.2.0->pytorch-lightning>=1.6.1->nemo_toolkit[all]) (1.8.1)\n",
            "Requirement already satisfied: google-auth<3,>=1.6.3 in /usr/local/lib/python3.7/dist-packages (from tensorboard>=2.2.0->pytorch-lightning>=1.6.1->nemo_toolkit[all]) (1.35.0)\n",
            "Requirement already satisfied: google-auth-oauthlib<0.5,>=0.4.1 in /usr/local/lib/python3.7/dist-packages (from tensorboard>=2.2.0->pytorch-lightning>=1.6.1->nemo_toolkit[all]) (0.4.6)\n",
            "Requirement already satisfied: grpcio>=1.24.3 in /usr/local/lib/python3.7/dist-packages (from tensorboard>=2.2.0->pytorch-lightning>=1.6.1->nemo_toolkit[all]) (1.46.3)\n",
            "Requirement already satisfied: absl-py>=0.4 in /usr/local/lib/python3.7/dist-packages (from tensorboard>=2.2.0->pytorch-lightning>=1.6.1->nemo_toolkit[all]) (1.1.0)\n",
            "Requirement already satisfied: rsa<5,>=3.1.4 in /usr/local/lib/python3.7/dist-packages (from google-auth<3,>=1.6.3->tensorboard>=2.2.0->pytorch-lightning>=1.6.1->nemo_toolkit[all]) (4.8)\n",
            "Requirement already satisfied: cachetools<5.0,>=2.0.0 in /usr/local/lib/python3.7/dist-packages (from google-auth<3,>=1.6.3->tensorboard>=2.2.0->pytorch-lightning>=1.6.1->nemo_toolkit[all]) (4.2.4)\n",
            "Requirement already satisfied: pyasn1-modules>=0.2.1 in /usr/local/lib/python3.7/dist-packages (from google-auth<3,>=1.6.3->tensorboard>=2.2.0->pytorch-lightning>=1.6.1->nemo_toolkit[all]) (0.2.8)\n",
            "Requirement already satisfied: requests-oauthlib>=0.7.0 in /usr/local/lib/python3.7/dist-packages (from google-auth-oauthlib<0.5,>=0.4.1->tensorboard>=2.2.0->pytorch-lightning>=1.6.1->nemo_toolkit[all]) (1.3.1)\n",
            "Requirement already satisfied: importlib-metadata>=4.4 in /usr/local/lib/python3.7/dist-packages (from markdown>=2.6.8->tensorboard>=2.2.0->pytorch-lightning>=1.6.1->nemo_toolkit[all]) (4.11.4)\n",
            "Requirement already satisfied: zipp>=0.5 in /usr/local/lib/python3.7/dist-packages (from importlib-metadata>=4.4->markdown>=2.6.8->tensorboard>=2.2.0->pytorch-lightning>=1.6.1->nemo_toolkit[all]) (3.8.0)\n",
            "Requirement already satisfied: pyasn1<0.5.0,>=0.4.6 in /usr/local/lib/python3.7/dist-packages (from pyasn1-modules>=0.2.1->google-auth<3,>=1.6.3->tensorboard>=2.2.0->pytorch-lightning>=1.6.1->nemo_toolkit[all]) (0.4.8)\n",
            "Requirement already satisfied: urllib3!=1.25.0,!=1.25.1,<1.26,>=1.21.1 in /usr/local/lib/python3.7/dist-packages (from requests->fsspec[http]!=2021.06.0,>=2021.05.0->pytorch-lightning>=1.6.1->nemo_toolkit[all]) (1.24.3)\n",
            "Requirement already satisfied: certifi>=2017.4.17 in /usr/local/lib/python3.7/dist-packages (from requests->fsspec[http]!=2021.06.0,>=2021.05.0->pytorch-lightning>=1.6.1->nemo_toolkit[all]) (2022.6.15)\n",
            "Requirement already satisfied: idna<3,>=2.5 in /usr/local/lib/python3.7/dist-packages (from requests->fsspec[http]!=2021.06.0,>=2021.05.0->pytorch-lightning>=1.6.1->nemo_toolkit[all]) (2.10)\n",
            "Requirement already satisfied: chardet<4,>=3.0.2 in /usr/local/lib/python3.7/dist-packages (from requests->fsspec[http]!=2021.06.0,>=2021.05.0->pytorch-lightning>=1.6.1->nemo_toolkit[all]) (3.0.4)\n",
            "Requirement already satisfied: oauthlib>=3.0.0 in /usr/local/lib/python3.7/dist-packages (from requests-oauthlib>=0.7.0->google-auth-oauthlib<0.5,>=0.4.1->tensorboard>=2.2.0->pytorch-lightning>=1.6.1->nemo_toolkit[all]) (3.2.0)\n",
            "Requirement already satisfied: filelock in /usr/local/lib/python3.7/dist-packages (from transformers>=4.0.1->nemo_toolkit[all]) (3.7.1)\n",
            "Collecting tokenizers!=0.11.3,<0.13,>=0.11.1\n",
            "  Downloading tokenizers-0.12.1-cp37-cp37m-manylinux_2_12_x86_64.manylinux2010_x86_64.whl (6.6 MB)\n",
            "\u001b[K     |████████████████████████████████| 6.6 MB 55.8 MB/s \n",
            "\u001b[?25hCollecting aiosignal>=1.1.2\n",
            "  Downloading aiosignal-1.2.0-py3-none-any.whl (8.2 kB)\n",
            "Requirement already satisfied: charset-normalizer<3.0,>=2.0 in /usr/local/lib/python3.7/dist-packages (from aiohttp->fsspec[http]!=2021.06.0,>=2021.05.0->pytorch-lightning>=1.6.1->nemo_toolkit[all]) (2.0.12)\n",
            "Collecting yarl<2.0,>=1.0\n",
            "  Downloading yarl-1.7.2-cp37-cp37m-manylinux_2_5_x86_64.manylinux1_x86_64.manylinux_2_12_x86_64.manylinux2010_x86_64.whl (271 kB)\n",
            "\u001b[K     |████████████████████████████████| 271 kB 63.6 MB/s \n",
            "\u001b[?25hCollecting asynctest==0.13.0\n",
            "  Downloading asynctest-0.13.0-py3-none-any.whl (26 kB)\n",
            "Collecting async-timeout<5.0,>=4.0.0a3\n",
            "  Downloading async_timeout-4.0.2-py3-none-any.whl (5.8 kB)\n",
            "Collecting frozenlist>=1.1.1\n",
            "  Downloading frozenlist-1.3.0-cp37-cp37m-manylinux_2_5_x86_64.manylinux1_x86_64.manylinux_2_17_x86_64.manylinux2014_x86_64.whl (144 kB)\n",
            "\u001b[K     |████████████████████████████████| 144 kB 60.3 MB/s \n",
            "\u001b[?25hCollecting multidict<7.0,>=4.5\n",
            "  Downloading multidict-6.0.2-cp37-cp37m-manylinux_2_17_x86_64.manylinux2014_x86_64.whl (94 kB)\n",
            "\u001b[K     |████████████████████████████████| 94 kB 3.6 MB/s \n",
            "\u001b[?25hCollecting s3transfer<0.7.0,>=0.6.0\n",
            "  Downloading s3transfer-0.6.0-py3-none-any.whl (79 kB)\n",
            "\u001b[K     |████████████████████████████████| 79 kB 8.4 MB/s \n",
            "\u001b[?25hCollecting jmespath<2.0.0,>=0.7.1\n",
            "  Downloading jmespath-1.0.1-py3-none-any.whl (20 kB)\n",
            "Collecting botocore<1.28.0,>=1.27.12\n",
            "  Downloading botocore-1.27.12-py3-none-any.whl (8.9 MB)\n",
            "\u001b[K     |████████████████████████████████| 8.9 MB 55.6 MB/s \n",
            "\u001b[?25hCollecting urllib3!=1.25.0,!=1.25.1,<1.26,>=1.21.1\n",
            "  Downloading urllib3-1.25.11-py2.py3-none-any.whl (127 kB)\n",
            "\u001b[K     |████████████████████████████████| 127 kB 62.3 MB/s \n",
            "\u001b[?25hCollecting pybind11>=2.2\n",
            "  Using cached pybind11-2.9.2-py2.py3-none-any.whl (213 kB)\n",
            "Collecting aniso8601>=0.82\n",
            "  Downloading aniso8601-9.0.1-py2.py3-none-any.whl (52 kB)\n",
            "\u001b[K     |████████████████████████████████| 52 kB 1.4 MB/s \n",
            "\u001b[?25hRequirement already satisfied: Flask>=0.8 in /usr/local/lib/python3.7/dist-packages (from flask_restful->nemo_toolkit[all]) (1.1.4)\n",
            "Requirement already satisfied: pytz in /usr/local/lib/python3.7/dist-packages (from flask_restful->nemo_toolkit[all]) (2022.1)\n",
            "Requirement already satisfied: Jinja2<3.0,>=2.10.1 in /usr/local/lib/python3.7/dist-packages (from Flask>=0.8->flask_restful->nemo_toolkit[all]) (2.11.3)\n",
            "Requirement already satisfied: itsdangerous<2.0,>=0.24 in /usr/local/lib/python3.7/dist-packages (from Flask>=0.8->flask_restful->nemo_toolkit[all]) (1.1.0)\n",
            "Requirement already satisfied: MarkupSafe>=0.23 in /usr/local/lib/python3.7/dist-packages (from Jinja2<3.0,>=2.10.1->Flask>=0.8->flask_restful->nemo_toolkit[all]) (2.0.1)\n",
            "Requirement already satisfied: wcwidth>=0.2.5 in /usr/local/lib/python3.7/dist-packages (from ftfy->nemo_toolkit[all]) (0.2.5)\n",
            "Collecting distance>=0.1.3\n",
            "  Downloading Distance-0.1.3.tar.gz (180 kB)\n",
            "\u001b[K     |████████████████████████████████| 180 kB 62.7 MB/s \n",
            "\u001b[?25hRequirement already satisfied: beautifulsoup4 in /usr/local/lib/python3.7/dist-packages (from gdown->nemo_toolkit[all]) (4.6.3)\n",
            "Requirement already satisfied: cached-property in /usr/local/lib/python3.7/dist-packages (from h5py->nemo_toolkit[all]) (1.5.2)\n",
            "Requirement already satisfied: ipython-genutils~=0.2.0 in /usr/local/lib/python3.7/dist-packages (from ipywidgets->nemo_toolkit[all]) (0.2.0)\n",
            "Requirement already satisfied: ipython>=4.0.0 in /usr/local/lib/python3.7/dist-packages (from ipywidgets->nemo_toolkit[all]) (5.5.0)\n",
            "Requirement already satisfied: widgetsnbextension~=3.6.0 in /usr/local/lib/python3.7/dist-packages (from ipywidgets->nemo_toolkit[all]) (3.6.0)\n",
            "Requirement already satisfied: nbformat>=4.2.0 in /usr/local/lib/python3.7/dist-packages (from ipywidgets->nemo_toolkit[all]) (5.4.0)\n",
            "Requirement already satisfied: jupyterlab-widgets>=1.0.0 in /usr/local/lib/python3.7/dist-packages (from ipywidgets->nemo_toolkit[all]) (1.1.0)\n",
            "Requirement already satisfied: ipykernel>=4.5.1 in /usr/local/lib/python3.7/dist-packages (from ipywidgets->nemo_toolkit[all]) (4.10.1)\n",
            "Requirement already satisfied: traitlets>=4.3.1 in /usr/local/lib/python3.7/dist-packages (from ipywidgets->nemo_toolkit[all]) (5.1.1)\n",
            "Requirement already satisfied: tornado>=4.0 in /usr/local/lib/python3.7/dist-packages (from ipykernel>=4.5.1->ipywidgets->nemo_toolkit[all]) (5.1.1)\n",
            "Requirement already satisfied: jupyter-client in /usr/local/lib/python3.7/dist-packages (from ipykernel>=4.5.1->ipywidgets->nemo_toolkit[all]) (5.3.5)\n",
            "Requirement already satisfied: simplegeneric>0.8 in /usr/local/lib/python3.7/dist-packages (from ipython>=4.0.0->ipywidgets->nemo_toolkit[all]) (0.8.1)\n",
            "Requirement already satisfied: pickleshare in /usr/local/lib/python3.7/dist-packages (from ipython>=4.0.0->ipywidgets->nemo_toolkit[all]) (0.7.5)\n",
            "Requirement already satisfied: pexpect in /usr/local/lib/python3.7/dist-packages (from ipython>=4.0.0->ipywidgets->nemo_toolkit[all]) (4.8.0)\n",
            "Requirement already satisfied: prompt-toolkit<2.0.0,>=1.0.4 in /usr/local/lib/python3.7/dist-packages (from ipython>=4.0.0->ipywidgets->nemo_toolkit[all]) (1.0.18)\n",
            "Requirement already satisfied: decorator in /usr/local/lib/python3.7/dist-packages (from ipython>=4.0.0->ipywidgets->nemo_toolkit[all]) (4.4.2)\n",
            "Requirement already satisfied: pygments in /usr/local/lib/python3.7/dist-packages (from ipython>=4.0.0->ipywidgets->nemo_toolkit[all]) (2.6.1)\n",
            "Requirement already satisfied: jsonschema>=2.6 in /usr/local/lib/python3.7/dist-packages (from nbformat>=4.2.0->ipywidgets->nemo_toolkit[all]) (4.3.3)\n",
            "Requirement already satisfied: fastjsonschema in /usr/local/lib/python3.7/dist-packages (from nbformat>=4.2.0->ipywidgets->nemo_toolkit[all]) (2.15.3)\n",
            "Requirement already satisfied: jupyter-core in /usr/local/lib/python3.7/dist-packages (from nbformat>=4.2.0->ipywidgets->nemo_toolkit[all]) (4.10.0)\n",
            "Requirement already satisfied: pyrsistent!=0.17.0,!=0.17.1,!=0.17.2,>=0.14.0 in /usr/local/lib/python3.7/dist-packages (from jsonschema>=2.6->nbformat>=4.2.0->ipywidgets->nemo_toolkit[all]) (0.18.1)\n",
            "Requirement already satisfied: notebook>=4.4.1 in /usr/local/lib/python3.7/dist-packages (from widgetsnbextension~=3.6.0->ipywidgets->nemo_toolkit[all]) (5.3.1)\n",
            "Requirement already satisfied: nbconvert in /usr/local/lib/python3.7/dist-packages (from notebook>=4.4.1->widgetsnbextension~=3.6.0->ipywidgets->nemo_toolkit[all]) (5.6.1)\n",
            "Requirement already satisfied: terminado>=0.8.1 in /usr/local/lib/python3.7/dist-packages (from notebook>=4.4.1->widgetsnbextension~=3.6.0->ipywidgets->nemo_toolkit[all]) (0.13.3)\n",
            "Requirement already satisfied: Send2Trash in /usr/local/lib/python3.7/dist-packages (from notebook>=4.4.1->widgetsnbextension~=3.6.0->ipywidgets->nemo_toolkit[all]) (1.8.0)\n",
            "Requirement already satisfied: pyzmq>=13 in /usr/local/lib/python3.7/dist-packages (from jupyter-client->ipykernel>=4.5.1->ipywidgets->nemo_toolkit[all]) (23.1.0)\n",
            "Requirement already satisfied: ptyprocess in /usr/local/lib/python3.7/dist-packages (from terminado>=0.8.1->notebook>=4.4.1->widgetsnbextension~=3.6.0->ipywidgets->nemo_toolkit[all]) (0.7.0)\n",
            "Requirement already satisfied: pooch>=1.0 in /usr/local/lib/python3.7/dist-packages (from librosa->nemo_toolkit[all]) (1.6.0)\n",
            "Requirement already satisfied: audioread>=2.0.0 in /usr/local/lib/python3.7/dist-packages (from librosa->nemo_toolkit[all]) (2.1.9)\n",
            "Requirement already satisfied: resampy>=0.2.2 in /usr/local/lib/python3.7/dist-packages (from librosa->nemo_toolkit[all]) (0.2.2)\n",
            "Requirement already satisfied: llvmlite<0.35,>=0.34.0.dev0 in /usr/local/lib/python3.7/dist-packages (from numba->nemo_toolkit[all]) (0.34.0)\n",
            "Requirement already satisfied: threadpoolctl>=2.0.0 in /usr/local/lib/python3.7/dist-packages (from scikit-learn->nemo_toolkit[all]) (3.1.0)\n",
            "Requirement already satisfied: cffi>=1.0 in /usr/local/lib/python3.7/dist-packages (from soundfile->nemo_toolkit[all]) (1.15.0)\n",
            "Requirement already satisfied: pycparser in /usr/local/lib/python3.7/dist-packages (from cffi>=1.0->soundfile->nemo_toolkit[all]) (2.21)\n",
            "Requirement already satisfied: cycler>=0.10 in /usr/local/lib/python3.7/dist-packages (from matplotlib->nemo_toolkit[all]) (0.11.0)\n",
            "Requirement already satisfied: kiwisolver>=1.0.1 in /usr/local/lib/python3.7/dist-packages (from matplotlib->nemo_toolkit[all]) (1.4.3)\n",
            "Requirement already satisfied: pandocfilters>=1.4.1 in /usr/local/lib/python3.7/dist-packages (from nbconvert->notebook>=4.4.1->widgetsnbextension~=3.6.0->ipywidgets->nemo_toolkit[all]) (1.5.0)\n",
            "Requirement already satisfied: mistune<2,>=0.8.1 in /usr/local/lib/python3.7/dist-packages (from nbconvert->notebook>=4.4.1->widgetsnbextension~=3.6.0->ipywidgets->nemo_toolkit[all]) (0.8.4)\n",
            "Requirement already satisfied: bleach in /usr/local/lib/python3.7/dist-packages (from nbconvert->notebook>=4.4.1->widgetsnbextension~=3.6.0->ipywidgets->nemo_toolkit[all]) (5.0.0)\n",
            "Requirement already satisfied: entrypoints>=0.2.2 in /usr/local/lib/python3.7/dist-packages (from nbconvert->notebook>=4.4.1->widgetsnbextension~=3.6.0->ipywidgets->nemo_toolkit[all]) (0.4)\n",
            "Requirement already satisfied: defusedxml in /usr/local/lib/python3.7/dist-packages (from nbconvert->notebook>=4.4.1->widgetsnbextension~=3.6.0->ipywidgets->nemo_toolkit[all]) (0.7.1)\n",
            "Requirement already satisfied: testpath in /usr/local/lib/python3.7/dist-packages (from nbconvert->notebook>=4.4.1->widgetsnbextension~=3.6.0->ipywidgets->nemo_toolkit[all]) (0.6.0)\n",
            "Requirement already satisfied: webencodings in /usr/local/lib/python3.7/dist-packages (from bleach->nbconvert->notebook>=4.4.1->widgetsnbextension~=3.6.0->ipywidgets->nemo_toolkit[all]) (0.5.1)\n",
            "Requirement already satisfied: pip in /usr/local/lib/python3.7/dist-packages (from pip-api->isort[requirements]<5->nemo_toolkit[all]) (21.1.3)\n",
            "Requirement already satisfied: docopt in /usr/local/lib/python3.7/dist-packages (from pipreqs->isort[requirements]<5->nemo_toolkit[all]) (0.6.2)\n",
            "Collecting yarg\n",
            "  Downloading yarg-0.1.9-py2.py3-none-any.whl (19 kB)\n",
            "Requirement already satisfied: sortedcontainers>=2.0.4 in /usr/local/lib/python3.7/dist-packages (from pyannote.core->nemo_toolkit[all]) (2.4.0)\n",
            "Collecting simplejson>=3.8.1\n",
            "  Downloading simplejson-3.17.6-cp37-cp37m-manylinux_2_5_x86_64.manylinux1_x86_64.manylinux_2_12_x86_64.manylinux2010_x86_64.whl (130 kB)\n",
            "\u001b[K     |████████████████████████████████| 130 kB 41.0 MB/s \n",
            "\u001b[?25hRequirement already satisfied: tabulate>=0.7.7 in /usr/local/lib/python3.7/dist-packages (from pyannote.metrics->nemo_toolkit[all]) (0.8.9)\n",
            "Requirement already satisfied: sympy>=1.1 in /usr/local/lib/python3.7/dist-packages (from pyannote.metrics->nemo_toolkit[all]) (1.7.1)\n",
            "Collecting pyannote.database>=4.0.1\n",
            "  Downloading pyannote.database-4.1.3-py3-none-any.whl (41 kB)\n",
            "\u001b[K     |████████████████████████████████| 41 kB 469 kB/s \n",
            "\u001b[?25hRequirement already satisfied: typer[all]>=0.2.1 in /usr/local/lib/python3.7/dist-packages (from pyannote.database>=4.0.1->pyannote.metrics->nemo_toolkit[all]) (0.4.1)\n",
            "Requirement already satisfied: mpmath>=0.19 in /usr/local/lib/python3.7/dist-packages (from sympy>=1.1->pyannote.metrics->nemo_toolkit[all]) (1.2.1)\n",
            "Collecting shellingham<2.0.0,>=1.3.0\n",
            "  Downloading shellingham-1.4.0-py2.py3-none-any.whl (9.4 kB)\n",
            "Collecting colorama<0.5.0,>=0.4.3\n",
            "  Downloading colorama-0.4.5-py2.py3-none-any.whl (16 kB)\n",
            "Requirement already satisfied: atomicwrites>=1.0 in /usr/local/lib/python3.7/dist-packages (from pytest->nemo_toolkit[all]) (1.4.0)\n",
            "Requirement already satisfied: py>=1.5.0 in /usr/local/lib/python3.7/dist-packages (from pytest->nemo_toolkit[all]) (1.11.0)\n",
            "Requirement already satisfied: more-itertools>=4.0.0 in /usr/local/lib/python3.7/dist-packages (from pytest->nemo_toolkit[all]) (8.13.0)\n",
            "Requirement already satisfied: pluggy<0.8,>=0.5 in /usr/local/lib/python3.7/dist-packages (from pytest->nemo_toolkit[all]) (0.7.1)\n",
            "Collecting jarowinkler<1.1.0,>=1.0.2\n",
            "  Downloading jarowinkler-1.0.2-cp37-cp37m-manylinux_2_17_x86_64.manylinux2014_x86_64.whl (103 kB)\n",
            "\u001b[K     |████████████████████████████████| 103 kB 63.2 MB/s \n",
            "\u001b[?25hRequirement already satisfied: PySocks!=1.5.7,>=1.5.6 in /usr/local/lib/python3.7/dist-packages (from requests->fsspec[http]!=2021.06.0,>=2021.05.0->pytorch-lightning>=1.6.1->nemo_toolkit[all]) (1.7.1)\n",
            "Collecting ruamel.yaml.clib>=0.2.6\n",
            "  Downloading ruamel.yaml.clib-0.2.6-cp37-cp37m-manylinux1_x86_64.whl (546 kB)\n",
            "\u001b[K     |████████████████████████████████| 546 kB 59.0 MB/s \n",
            "\u001b[?25hCollecting portalocker\n",
            "  Downloading portalocker-2.4.0-py2.py3-none-any.whl (16 kB)\n",
            "Collecting ipadic<2.0,>=1.0\n",
            "  Downloading ipadic-1.0.0.tar.gz (13.4 MB)\n",
            "\u001b[K     |████████████████████████████████| 13.4 MB 36.0 MB/s \n",
            "\u001b[?25hCollecting mecab-python3==1.0.5\n",
            "  Downloading mecab_python3-1.0.5-cp37-cp37m-manylinux_2_17_x86_64.manylinux2014_x86_64.whl (574 kB)\n",
            "\u001b[K     |████████████████████████████████| 574 kB 43.0 MB/s \n",
            "\u001b[?25hRequirement already satisfied: docutils<0.18,>=0.11 in /usr/local/lib/python3.7/dist-packages (from sphinx->nemo_toolkit[all]) (0.17.1)\n",
            "Requirement already satisfied: sphinxcontrib-websupport in /usr/local/lib/python3.7/dist-packages (from sphinx->nemo_toolkit[all]) (1.2.4)\n",
            "Requirement already satisfied: imagesize in /usr/local/lib/python3.7/dist-packages (from sphinx->nemo_toolkit[all]) (1.3.0)\n",
            "Requirement already satisfied: alabaster<0.8,>=0.7 in /usr/local/lib/python3.7/dist-packages (from sphinx->nemo_toolkit[all]) (0.7.12)\n",
            "Requirement already satisfied: babel!=2.0,>=1.3 in /usr/local/lib/python3.7/dist-packages (from sphinx->nemo_toolkit[all]) (2.10.2)\n",
            "Requirement already satisfied: snowballstemmer>=1.1 in /usr/local/lib/python3.7/dist-packages (from sphinx->nemo_toolkit[all]) (2.2.0)\n",
            "Collecting pybtex>=0.24\n",
            "  Downloading pybtex-0.24.0-py2.py3-none-any.whl (561 kB)\n",
            "\u001b[K     |████████████████████████████████| 561 kB 58.3 MB/s \n",
            "\u001b[?25hCollecting sphinx\n",
            "  Downloading Sphinx-5.0.2-py3-none-any.whl (3.1 MB)\n",
            "\u001b[K     |████████████████████████████████| 3.1 MB 54.8 MB/s \n",
            "\u001b[?25hCollecting pybtex-docutils>=1.0.0\n",
            "  Downloading pybtex_docutils-1.0.2-py3-none-any.whl (6.3 kB)\n",
            "Collecting latexcodec>=1.0.4\n",
            "  Downloading latexcodec-2.0.1-py2.py3-none-any.whl (18 kB)\n",
            "Collecting sphinxcontrib-applehelp\n",
            "  Downloading sphinxcontrib_applehelp-1.0.2-py2.py3-none-any.whl (121 kB)\n",
            "\u001b[K     |████████████████████████████████| 121 kB 51.5 MB/s \n",
            "\u001b[?25hCollecting sphinxcontrib-jsmath\n",
            "  Downloading sphinxcontrib_jsmath-1.0.1-py2.py3-none-any.whl (5.1 kB)\n",
            "Collecting sphinxcontrib-devhelp\n",
            "  Downloading sphinxcontrib_devhelp-1.0.2-py2.py3-none-any.whl (84 kB)\n",
            "\u001b[K     |████████████████████████████████| 84 kB 3.4 MB/s \n",
            "\u001b[?25hCollecting sphinxcontrib-htmlhelp>=2.0.0\n",
            "  Downloading sphinxcontrib_htmlhelp-2.0.0-py2.py3-none-any.whl (100 kB)\n",
            "\u001b[K     |████████████████████████████████| 100 kB 10.0 MB/s \n",
            "\u001b[?25hCollecting sphinxcontrib-qthelp\n",
            "  Downloading sphinxcontrib_qthelp-1.0.3-py2.py3-none-any.whl (90 kB)\n",
            "\u001b[K     |████████████████████████████████| 90 kB 9.7 MB/s \n",
            "\u001b[?25hRequirement already satisfied: sphinxcontrib-serializinghtml>=1.1.5 in /usr/local/lib/python3.7/dist-packages (from sphinx->nemo_toolkit[all]) (1.1.5)\n",
            "Requirement already satisfied: promise<3,>=2.0 in /usr/local/lib/python3.7/dist-packages (from wandb->nemo_toolkit[all]) (2.3)\n",
            "Requirement already satisfied: pathtools in /usr/local/lib/python3.7/dist-packages (from wandb->nemo_toolkit[all]) (0.1.2)\n",
            "Requirement already satisfied: setproctitle in /usr/local/lib/python3.7/dist-packages (from wandb->nemo_toolkit[all]) (1.2.3)\n",
            "Requirement already satisfied: shortuuid>=0.5.0 in /usr/local/lib/python3.7/dist-packages (from wandb->nemo_toolkit[all]) (1.0.9)\n",
            "Requirement already satisfied: GitPython>=1.0.0 in /usr/local/lib/python3.7/dist-packages (from wandb->nemo_toolkit[all]) (3.1.27)\n",
            "Requirement already satisfied: psutil>=5.0.0 in /usr/local/lib/python3.7/dist-packages (from wandb->nemo_toolkit[all]) (5.4.8)\n",
            "Requirement already satisfied: sentry-sdk>=1.0.0 in /usr/local/lib/python3.7/dist-packages (from wandb->nemo_toolkit[all]) (1.5.12)\n",
            "Requirement already satisfied: docker-pycreds>=0.4.0 in /usr/local/lib/python3.7/dist-packages (from wandb->nemo_toolkit[all]) (0.4.0)\n",
            "Requirement already satisfied: gitdb<5,>=4.0.1 in /usr/local/lib/python3.7/dist-packages (from GitPython>=1.0.0->wandb->nemo_toolkit[all]) (4.0.9)\n",
            "Requirement already satisfied: smmap<6,>=3.0.1 in /usr/local/lib/python3.7/dist-packages (from gitdb<5,>=4.0.1->GitPython>=1.0.0->wandb->nemo_toolkit[all]) (5.0.0)\n",
            "Building wheels for collected packages: nemo-toolkit, sacremoses, fasttext, distance, kaldi-python-io, kaldiio, pesq, pystoi, ipadic, sentence-transformers\n",
            "  Building wheel for nemo-toolkit (setup.py) ... \u001b[?25l\u001b[?25hdone\n",
            "  Created wheel for nemo-toolkit: filename=nemo_toolkit-1.11.0rc0-py3-none-any.whl size=3556050 sha256=a84a042ff169692b541dfab7bba0eb448829a237bd03255ac49ab1c0146042ed\n",
            "  Stored in directory: /tmp/pip-ephem-wheel-cache-tj63ui1k/wheels/82/66/ef/7248c1c27216d06425cab14b3391059534c889aaf2db89b855\n",
            "  Building wheel for sacremoses (setup.py) ... \u001b[?25l\u001b[?25hdone\n",
            "  Created wheel for sacremoses: filename=sacremoses-0.0.53-py3-none-any.whl size=895260 sha256=da3e07abd12cce9f28fccbb4eb8bd9af26f878752ea3c36faaa4f50c4ceb8263\n",
            "  Stored in directory: /root/.cache/pip/wheels/87/39/dd/a83eeef36d0bf98e7a4d1933a4ad2d660295a40613079bafc9\n",
            "  Building wheel for fasttext (setup.py) ... \u001b[?25l\u001b[?25hdone\n",
            "  Created wheel for fasttext: filename=fasttext-0.9.2-cp37-cp37m-linux_x86_64.whl size=3142256 sha256=d730f4bc5c755030b098a659412ba63420cbb9ad982c5545a8a5c228036ca0f2\n",
            "  Stored in directory: /root/.cache/pip/wheels/4e/ca/bf/b020d2be95f7641801a6597a29c8f4f19e38f9c02a345bab9b\n",
            "  Building wheel for distance (setup.py) ... \u001b[?25l\u001b[?25hdone\n",
            "  Created wheel for distance: filename=Distance-0.1.3-py3-none-any.whl size=16276 sha256=994be9cb1cf7256b7d68549f0413311cf9df98281c59029226f62cbdbcf09e62\n",
            "  Stored in directory: /root/.cache/pip/wheels/b2/10/1b/96fca621a1be378e2fe104cfb0d160bb6cdf3d04a3d35266cc\n",
            "  Building wheel for kaldi-python-io (setup.py) ... \u001b[?25l\u001b[?25hdone\n",
            "  Created wheel for kaldi-python-io: filename=kaldi_python_io-1.2.2-py3-none-any.whl size=8969 sha256=b7cb224a9c3686b50f300199d76ad110fddfff15cab76cd8bc7a4c0f7c2de775\n",
            "  Stored in directory: /root/.cache/pip/wheels/a9/26/38/7678d1ff6cd1bbcbfc0d80b0a29d94d917dfa9ad790b4a85a9\n",
            "  Building wheel for kaldiio (setup.py) ... \u001b[?25l\u001b[?25hdone\n",
            "  Created wheel for kaldiio: filename=kaldiio-2.17.2-py3-none-any.whl size=24471 sha256=7ea0622caf73362cef0dfe89c08f7f071ddad5ee2d147ff2c8779931829aaae1\n",
            "  Stored in directory: /root/.cache/pip/wheels/04/07/e8/45641287c59bf6ce41e22259f8680b521c31e6306cb88392ac\n",
            "  Building wheel for pesq (setup.py) ... \u001b[?25l\u001b[?25hdone\n",
            "  Created wheel for pesq: filename=pesq-0.0.4-cp37-cp37m-linux_x86_64.whl size=214579 sha256=ec83a4cb1ceebd6b242573887783735a7a224d1c7c72278afadd1a9bfee25de5\n",
            "  Stored in directory: /root/.cache/pip/wheels/c5/3d/9c/542731f8357f7c82eb6ac2047cc5375f92c9a05b09a715aff6\n",
            "  Building wheel for pystoi (setup.py) ... \u001b[?25l\u001b[?25hdone\n",
            "  Created wheel for pystoi: filename=pystoi-0.3.3-py2.py3-none-any.whl size=7793 sha256=68231fbacf03e13d5a3b868462749c93cdbab050c455f45c1f2a4092808043e1\n",
            "  Stored in directory: /root/.cache/pip/wheels/46/4a/ad/3ab460193ed0535430b4b1575f255aa6bae69df17453628e86\n",
            "  Building wheel for ipadic (setup.py) ... \u001b[?25l\u001b[?25hdone\n",
            "  Created wheel for ipadic: filename=ipadic-1.0.0-py3-none-any.whl size=13556723 sha256=59037f1ba28e17218f51ebda3a6cdc3c92ffbd422eb0a7a1c87839df5f0edd9c\n",
            "  Stored in directory: /root/.cache/pip/wheels/33/8b/99/cf0d27191876637cd3639a560f93aa982d7855ce826c94348b\n",
            "  Building wheel for sentence-transformers (setup.py) ... \u001b[?25l\u001b[?25hdone\n",
            "  Created wheel for sentence-transformers: filename=sentence_transformers-2.2.0-py3-none-any.whl size=120747 sha256=30d1fa2f428ce9c0078fcf25d30f1f08cda1aff7cc1b71561357a04e39eec518\n",
            "  Stored in directory: /root/.cache/pip/wheels/83/c0/df/b6873ab7aac3f2465aa9144b6b4c41c4391cfecc027c8b07e7\n",
            "Successfully built nemo-toolkit sacremoses fasttext distance kaldi-python-io kaldiio pesq pystoi ipadic sentence-transformers\n",
            "Installing collected packages: urllib3, setuptools, multidict, frozenlist, yarl, simplejson, shellingham, pyyaml, latexcodec, jmespath, colorama, asynctest, async-timeout, aiosignal, yarg, tokenizers, sphinxcontrib-qthelp, sphinxcontrib-jsmath, sphinxcontrib-htmlhelp, sphinxcontrib-devhelp, sphinxcontrib-applehelp, ruamel.yaml.clib, pybtex, pyannote.core, portalocker, huggingface-hub, fsspec, botocore, aiohttp, typed-ast, transformers, torchmetrics, toml, sphinx, sentencepiece, sacrebleu, s3transfer, ruamel.yaml, pyDeprecate, pybtex-docutils, pybind11, pyannote.database, pipreqs, pip-api, pathspec, onnx, mecab-python3, jarowinkler, isort, ipadic, frozendict, distance, braceexpand, aniso8601, youtokentome, webdataset, sphinxcontrib-bibtex, sox, sentence-transformers, sacremoses, rapidfuzz, pytorch-lightning, pytest-runner, pystoi, pypinyin, pydub, pyannote.metrics, pesq, parameterized, pangu, opencc, nemo-toolkit, marshmallow, kaldiio, kaldi-python-io, ijson, g2p-en, ftfy, flask-restful, fasttext, faiss-cpu, einops, boto3, black, attrdict\n",
            "  Attempting uninstall: urllib3\n",
            "    Found existing installation: urllib3 1.24.3\n",
            "    Uninstalling urllib3-1.24.3:\n",
            "      Successfully uninstalled urllib3-1.24.3\n",
            "  Attempting uninstall: setuptools\n",
            "    Found existing installation: setuptools 57.4.0\n",
            "    Uninstalling setuptools-57.4.0:\n",
            "      Successfully uninstalled setuptools-57.4.0\n",
            "  Attempting uninstall: pyyaml\n",
            "    Found existing installation: PyYAML 6.0\n",
            "    Uninstalling PyYAML-6.0:\n",
            "      Successfully uninstalled PyYAML-6.0\n",
            "  Attempting uninstall: sphinx\n",
            "    Found existing installation: Sphinx 1.8.6\n",
            "    Uninstalling Sphinx-1.8.6:\n",
            "      Successfully uninstalled Sphinx-1.8.6\n",
            "\u001b[31mERROR: pip's dependency resolver does not currently take into account all the packages that are installed. This behaviour is the source of the following dependency conflicts.\n",
            "datascience 0.10.6 requires folium==0.2.1, but you have folium 0.8.3 which is incompatible.\u001b[0m\n",
            "Successfully installed aiohttp-3.8.1 aiosignal-1.2.0 aniso8601-9.0.1 async-timeout-4.0.2 asynctest-0.13.0 attrdict-2.0.1 black-19.10b0 boto3-1.24.12 botocore-1.27.12 braceexpand-0.1.7 colorama-0.4.5 distance-0.1.3 einops-0.4.1 faiss-cpu-1.7.2 fasttext-0.9.2 flask-restful-0.3.9 frozendict-2.3.2 frozenlist-1.3.0 fsspec-2022.5.0 ftfy-6.1.1 g2p-en-2.1.0 huggingface-hub-0.7.0 ijson-3.1.4 ipadic-1.0.0 isort-4.3.21 jarowinkler-1.0.2 jmespath-1.0.1 kaldi-python-io-1.2.2 kaldiio-2.17.2 latexcodec-2.0.1 marshmallow-3.16.0 mecab-python3-1.0.5 multidict-6.0.2 nemo-toolkit-1.11.0rc0 onnx-1.12.0 opencc-1.1.4 pangu-4.0.6.1 parameterized-0.8.1 pathspec-0.9.0 pesq-0.0.4 pip-api-0.0.29 pipreqs-0.4.11 portalocker-2.4.0 pyDeprecate-0.3.2 pyannote.core-4.4 pyannote.database-4.1.3 pyannote.metrics-3.2 pybind11-2.9.2 pybtex-0.24.0 pybtex-docutils-1.0.2 pydub-0.25.1 pypinyin-0.46.0 pystoi-0.3.3 pytest-runner-6.0.0 pytorch-lightning-1.6.4 pyyaml-5.4.1 rapidfuzz-2.0.11 ruamel.yaml-0.17.21 ruamel.yaml.clib-0.2.6 s3transfer-0.6.0 sacrebleu-2.1.0 sacremoses-0.0.53 sentence-transformers-2.2.0 sentencepiece-0.1.96 setuptools-59.5.0 shellingham-1.4.0 simplejson-3.17.6 sox-1.4.1 sphinx-5.0.2 sphinxcontrib-applehelp-1.0.2 sphinxcontrib-bibtex-2.4.2 sphinxcontrib-devhelp-1.0.2 sphinxcontrib-htmlhelp-2.0.0 sphinxcontrib-jsmath-1.0.1 sphinxcontrib-qthelp-1.0.3 tokenizers-0.12.1 toml-0.10.2 torchmetrics-0.9.1 transformers-4.20.0 typed-ast-1.5.4 urllib3-1.25.11 webdataset-0.1.62 yarg-0.1.9 yarl-1.7.2 youtokentome-1.0.6\n"
          ]
        }
      ]
    },
    {
      "cell_type": "code",
      "source": [
        "!pip install hydra-core==1.1"
      ],
      "metadata": {
        "colab": {
          "base_uri": "https://localhost:8080/",
          "height": 579
        },
        "id": "TxbE17sEpBLL",
        "outputId": "1eacc93e-f7d9-4a02-ff81-4ceb87bd812d"
      },
      "execution_count": 2,
      "outputs": [
        {
          "output_type": "stream",
          "name": "stdout",
          "text": [
            "Looking in indexes: https://pypi.org/simple, https://us-python.pkg.dev/colab-wheels/public/simple/\n",
            "Collecting hydra-core==1.1\n",
            "  Downloading hydra_core-1.1.0-py3-none-any.whl (144 kB)\n",
            "\u001b[K     |████████████████████████████████| 144 kB 5.1 MB/s \n",
            "\u001b[?25hCollecting omegaconf==2.1.*\n",
            "  Using cached omegaconf-2.1.2-py3-none-any.whl (74 kB)\n",
            "Collecting antlr4-python3-runtime==4.8\n",
            "  Downloading antlr4-python3-runtime-4.8.tar.gz (112 kB)\n",
            "\u001b[K     |████████████████████████████████| 112 kB 53.0 MB/s \n",
            "\u001b[?25hRequirement already satisfied: importlib-resources in /usr/local/lib/python3.7/dist-packages (from hydra-core==1.1) (5.7.1)\n",
            "Collecting PyYAML>=5.1.0\n",
            "  Downloading PyYAML-6.0-cp37-cp37m-manylinux_2_5_x86_64.manylinux1_x86_64.manylinux_2_12_x86_64.manylinux2010_x86_64.whl (596 kB)\n",
            "\u001b[K     |████████████████████████████████| 596 kB 61.2 MB/s \n",
            "\u001b[?25hRequirement already satisfied: zipp>=3.1.0 in /usr/local/lib/python3.7/dist-packages (from importlib-resources->hydra-core==1.1) (3.8.0)\n",
            "Building wheels for collected packages: antlr4-python3-runtime\n",
            "  Building wheel for antlr4-python3-runtime (setup.py) ... \u001b[?25l\u001b[?25hdone\n",
            "  Created wheel for antlr4-python3-runtime: filename=antlr4_python3_runtime-4.8-py3-none-any.whl size=141230 sha256=ae278b756268ea0ec0cd47ff1bc5f6807c4c655c0e380cd8d3f200171b10825e\n",
            "  Stored in directory: /root/.cache/pip/wheels/ca/33/b7/336836125fc9bb4ceaa4376d8abca10ca8bc84ddc824baea6c\n",
            "Successfully built antlr4-python3-runtime\n",
            "Installing collected packages: PyYAML, antlr4-python3-runtime, omegaconf, hydra-core\n",
            "  Attempting uninstall: PyYAML\n",
            "    Found existing installation: PyYAML 3.13\n",
            "    Uninstalling PyYAML-3.13:\n",
            "      Successfully uninstalled PyYAML-3.13\n",
            "Successfully installed PyYAML-6.0 antlr4-python3-runtime-4.8 hydra-core-1.1.0 omegaconf-2.1.2\n"
          ]
        },
        {
          "output_type": "display_data",
          "data": {
            "application/vnd.colab-display-data+json": {
              "pip_warning": {
                "packages": [
                  "pydevd_plugins"
                ]
              }
            }
          },
          "metadata": {}
        }
      ]
    },
    {
      "cell_type": "code",
      "source": [
        "from google.colab import drive\n",
        "drive.mount('/content/drive')"
      ],
      "metadata": {
        "id": "lqN-8bzEn-Iu"
      },
      "execution_count": null,
      "outputs": []
    },
    {
      "cell_type": "code",
      "source": [
        "home_path = !(echo $HOME)\n",
        "home_path = home_path[0]\n",
        "print(home_path)"
      ],
      "metadata": {
        "colab": {
          "base_uri": "https://localhost:8080/"
        },
        "id": "iS0PkhnjpTjr",
        "outputId": "34c305bc-eed2-4b14-f9bd-7a0e8642b664"
      },
      "execution_count": 3,
      "outputs": [
        {
          "output_type": "stream",
          "name": "stdout",
          "text": [
            "/root\n"
          ]
        }
      ]
    },
    {
      "cell_type": "code",
      "source": [
        "#=== load the repo and data (Thanks Synthbot) ===\n",
        "!sudo apt -qq install -y sox\n",
        "!git clone \"https://github.com/synthbot-anon/synthbot.git\" /content/synthbot\n",
        "!(cd /content/synthbot; git checkout experimental)\n",
        "!pip3 install pysoundfile \n",
        "!pip3 install librosa"
      ],
      "metadata": {
        "colab": {
          "base_uri": "https://localhost:8080/"
        },
        "id": "b_ZP3qQvGy9i",
        "outputId": "b25e5472-41d9-449b-f713-8f435b524a35"
      },
      "execution_count": 5,
      "outputs": [
        {
          "output_type": "stream",
          "name": "stdout",
          "text": [
            "sox is already the newest version (14.4.2-3ubuntu0.18.04.1).\n",
            "The following package was automatically installed and is no longer required:\n",
            "  libnvidia-common-460\n",
            "Use 'sudo apt autoremove' to remove it.\n",
            "0 upgraded, 0 newly installed, 0 to remove and 49 not upgraded.\n",
            "Cloning into '/content/synthbot'...\n",
            "remote: Enumerating objects: 680, done.\u001b[K\n",
            "remote: Counting objects: 100% (6/6), done.\u001b[K\n",
            "remote: Compressing objects: 100% (5/5), done.\u001b[K\n",
            "remote: Total 680 (delta 1), reused 1 (delta 1), pack-reused 674\u001b[K\n",
            "Receiving objects: 100% (680/680), 5.35 MiB | 20.06 MiB/s, done.\n",
            "Resolving deltas: 100% (308/308), done.\n",
            "Branch 'experimental' set up to track remote branch 'experimental' from 'origin'.\n",
            "Switched to a new branch 'experimental'\n",
            "Looking in indexes: https://pypi.org/simple, https://us-python.pkg.dev/colab-wheels/public/simple/\n",
            "Collecting pysoundfile\n",
            "  Downloading PySoundFile-0.9.0.post1-py2.py3-none-any.whl (24 kB)\n",
            "Requirement already satisfied: cffi>=0.6 in /usr/local/lib/python3.7/dist-packages (from pysoundfile) (1.15.0)\n",
            "Requirement already satisfied: pycparser in /usr/local/lib/python3.7/dist-packages (from cffi>=0.6->pysoundfile) (2.21)\n",
            "Installing collected packages: pysoundfile\n",
            "Successfully installed pysoundfile-0.9.0.post1\n",
            "Looking in indexes: https://pypi.org/simple, https://us-python.pkg.dev/colab-wheels/public/simple/\n",
            "Requirement already satisfied: librosa in /usr/local/lib/python3.7/dist-packages (0.8.1)\n",
            "Requirement already satisfied: packaging>=20.0 in /usr/local/lib/python3.7/dist-packages (from librosa) (21.3)\n",
            "Requirement already satisfied: scipy>=1.0.0 in /usr/local/lib/python3.7/dist-packages (from librosa) (1.4.1)\n",
            "Requirement already satisfied: resampy>=0.2.2 in /usr/local/lib/python3.7/dist-packages (from librosa) (0.2.2)\n",
            "Requirement already satisfied: soundfile>=0.10.2 in /usr/local/lib/python3.7/dist-packages (from librosa) (0.10.3.post1)\n",
            "Requirement already satisfied: decorator>=3.0.0 in /usr/local/lib/python3.7/dist-packages (from librosa) (4.4.2)\n",
            "Requirement already satisfied: scikit-learn!=0.19.0,>=0.14.0 in /usr/local/lib/python3.7/dist-packages (from librosa) (1.0.2)\n",
            "Requirement already satisfied: joblib>=0.14 in /usr/local/lib/python3.7/dist-packages (from librosa) (1.1.0)\n",
            "Requirement already satisfied: pooch>=1.0 in /usr/local/lib/python3.7/dist-packages (from librosa) (1.6.0)\n",
            "Requirement already satisfied: numba>=0.43.0 in /usr/local/lib/python3.7/dist-packages (from librosa) (0.51.2)\n",
            "Requirement already satisfied: audioread>=2.0.0 in /usr/local/lib/python3.7/dist-packages (from librosa) (2.1.9)\n",
            "Requirement already satisfied: numpy>=1.15.0 in /usr/local/lib/python3.7/dist-packages (from librosa) (1.21.6)\n",
            "Requirement already satisfied: llvmlite<0.35,>=0.34.0.dev0 in /usr/local/lib/python3.7/dist-packages (from numba>=0.43.0->librosa) (0.34.0)\n",
            "Requirement already satisfied: setuptools in /usr/local/lib/python3.7/dist-packages (from numba>=0.43.0->librosa) (59.5.0)\n",
            "Requirement already satisfied: pyparsing!=3.0.5,>=2.0.2 in /usr/local/lib/python3.7/dist-packages (from packaging>=20.0->librosa) (3.0.9)\n",
            "Requirement already satisfied: requests>=2.19.0 in /usr/local/lib/python3.7/dist-packages (from pooch>=1.0->librosa) (2.23.0)\n",
            "Requirement already satisfied: appdirs>=1.3.0 in /usr/local/lib/python3.7/dist-packages (from pooch>=1.0->librosa) (1.4.4)\n",
            "Requirement already satisfied: chardet<4,>=3.0.2 in /usr/local/lib/python3.7/dist-packages (from requests>=2.19.0->pooch>=1.0->librosa) (3.0.4)\n",
            "Requirement already satisfied: certifi>=2017.4.17 in /usr/local/lib/python3.7/dist-packages (from requests>=2.19.0->pooch>=1.0->librosa) (2022.6.15)\n",
            "Requirement already satisfied: idna<3,>=2.5 in /usr/local/lib/python3.7/dist-packages (from requests>=2.19.0->pooch>=1.0->librosa) (2.10)\n",
            "Requirement already satisfied: urllib3!=1.25.0,!=1.25.1,<1.26,>=1.21.1 in /usr/local/lib/python3.7/dist-packages (from requests>=2.19.0->pooch>=1.0->librosa) (1.25.11)\n",
            "Requirement already satisfied: six>=1.3 in /usr/local/lib/python3.7/dist-packages (from resampy>=0.2.2->librosa) (1.15.0)\n",
            "Requirement already satisfied: threadpoolctl>=2.0.0 in /usr/local/lib/python3.7/dist-packages (from scikit-learn!=0.19.0,>=0.14.0->librosa) (3.1.0)\n",
            "Requirement already satisfied: cffi>=1.0 in /usr/local/lib/python3.7/dist-packages (from soundfile>=0.10.2->librosa) (1.15.0)\n",
            "Requirement already satisfied: pycparser in /usr/local/lib/python3.7/dist-packages (from cffi>=1.0->soundfile>=0.10.2->librosa) (2.21)\n"
          ]
        }
      ]
    },
    {
      "cell_type": "markdown",
      "source": [
        "## Preparing the Dataset for Fastpitch finetuning"
      ],
      "metadata": {
        "id": "Ap_5CDnqk7Pf"
      }
    },
    {
      "cell_type": "code",
      "source": [
        "#downloading the dataset\n",
        "!wget --load-cookies /tmp/cookies.txt \"https://docs.google.com/uc?export=download&confirm=$(wget --quiet --save-cookies /tmp/cookies.txt --keep-session-cookies --no-check-certificate 'https://docs.google.com/uc?export=download&id=16-RnCSiEP3l_817SfNkjxZnv7pSRxLqH' -O- | sed -rn 's/.*confirm=([0-9A-Za-z_]+).*/\\1\\n/p')&id=16-RnCSiEP3l_817SfNkjxZnv7pSRxLqH\" -O Starlight.tar && rm -rf /tmp/cookies.txt"
      ],
      "metadata": {
        "colab": {
          "base_uri": "https://localhost:8080/"
        },
        "id": "NetI1HG8lHqw",
        "outputId": "c0c755b9-7c13-48f0-94e6-8fe032e1362b"
      },
      "execution_count": 6,
      "outputs": [
        {
          "output_type": "stream",
          "name": "stdout",
          "text": [
            "--2022-06-19 13:27:53--  https://docs.google.com/uc?export=download&confirm=t&id=16-RnCSiEP3l_817SfNkjxZnv7pSRxLqH\n",
            "Resolving docs.google.com (docs.google.com)... 173.194.210.113, 173.194.210.101, 173.194.210.100, ...\n",
            "Connecting to docs.google.com (docs.google.com)|173.194.210.113|:443... connected.\n",
            "HTTP request sent, awaiting response... 303 See Other\n",
            "Location: https://doc-00-84-docs.googleusercontent.com/docs/securesc/ha0ro937gcuc7l7deffksulhg5h7mbp1/t7g79sistr3a25lp4mpav1pt2v2tgrqn/1655645250000/05434657448262868821/*/16-RnCSiEP3l_817SfNkjxZnv7pSRxLqH?e=download [following]\n",
            "Warning: wildcards not supported in HTTP.\n",
            "--2022-06-19 13:27:53--  https://doc-00-84-docs.googleusercontent.com/docs/securesc/ha0ro937gcuc7l7deffksulhg5h7mbp1/t7g79sistr3a25lp4mpav1pt2v2tgrqn/1655645250000/05434657448262868821/*/16-RnCSiEP3l_817SfNkjxZnv7pSRxLqH?e=download\n",
            "Resolving doc-00-84-docs.googleusercontent.com (doc-00-84-docs.googleusercontent.com)... 108.177.12.132, 2607:f8b0:400c:c08::84\n",
            "Connecting to doc-00-84-docs.googleusercontent.com (doc-00-84-docs.googleusercontent.com)|108.177.12.132|:443... connected.\n",
            "HTTP request sent, awaiting response... 200 OK\n",
            "Length: 631429120 (602M) [application/x-tar]\n",
            "Saving to: ‘Starlight.tar’\n",
            "\n",
            "Starlight.tar       100%[===================>] 602.18M   142MB/s    in 4.6s    \n",
            "\n",
            "2022-06-19 13:27:58 (131 MB/s) - ‘Starlight.tar’ saved [631429120/631429120]\n",
            "\n"
          ]
        }
      ]
    },
    {
      "cell_type": "code",
      "source": [
        "skip_noisy = True # Disable to train with Noisy Data included\n",
        "allowed_emotions = \"\"\"\n",
        "Anxious\n",
        "Angry\n",
        "Annoyed\n",
        "Amused\n",
        "Confused\n",
        "Crazy\n",
        "Disgust\n",
        "Exhausted\n",
        "Fear\n",
        "Happy\n",
        "Neutral\n",
        "Sad\n",
        "Serious\n",
        "Singing\n",
        "Shouting\n",
        "Surprised\n",
        "Smug\n",
        "Love\n",
        "Sarcastic\n",
        "Tired\n",
        "Whispering\n",
        "Whining\n",
        "\"\"\".split(\"\\n\")[1:-1]"
      ],
      "metadata": {
        "id": "NsAc_3nkwpqg"
      },
      "execution_count": 7,
      "outputs": []
    },
    {
      "cell_type": "code",
      "source": [
        "percentage_training_data = 0.95 # 90% of Data will be used for training, 5% for Validation"
      ],
      "metadata": {
        "id": "cGTtXFjSKz-Z"
      },
      "execution_count": 8,
      "outputs": []
    },
    {
      "cell_type": "code",
      "source": [
        "import sys\n",
        "sys.path.append('/content/synthbot/src')\n",
        "from ponysynth.corpus import ClipperArchive, phoneme_transcription\n",
        "import librosa\n",
        "import subprocess"
      ],
      "metadata": {
        "id": "LuUxV2yWwpoO"
      },
      "execution_count": 9,
      "outputs": []
    },
    {
      "cell_type": "code",
      "source": [
        "archive_fn = \"/content/Starlight.tar\"\n",
        "archive = ClipperArchive(archive_fn)"
      ],
      "metadata": {
        "id": "Lwkvumbkwplv"
      },
      "execution_count": 10,
      "outputs": []
    },
    {
      "cell_type": "code",
      "source": [
        "data_path = 'Starlight'\n",
        "allowed_emotions = [x.lower() for x in allowed_emotions]\n",
        "!mkdir {data_path}\n",
        "!mkdir {data_path+\"/out\"}\n",
        "all_clips = []; all_clips_arpa = []; skipped_count=0; too_short_count=0; emotion_skip=0\n",
        "for key in archive.keys(): # write the audio files for processing in bash terminal\n",
        "  audio = archive.read_audio(key)\n",
        "  audio_fn = '{}/{}.wav'.format(data_path, key)\n",
        "  audio_fn_ = '{}/{}.wav'.format(data_path+\"/out\", key)\n",
        "  with open(audio_fn, 'wb') as audio_out:\n",
        "    audio_out.write(audio.read())"
      ],
      "metadata": {
        "id": "NlSW8Qllwphg"
      },
      "execution_count": 11,
      "outputs": []
    },
    {
      "cell_type": "code",
      "source": [
        "%%script bash\n",
        "# trim all 48Khz files\n",
        "cd Starlight\n",
        "for input in *.wav; do\n",
        "  output=\"out/$input\"\n",
        "  sox \"$input\" \"$output\" silence 1 0.05 0.1% reverse silence 1 0.05 0.1% reverse;\n",
        "done"
      ],
      "metadata": {
        "id": "r7sQiiTXJOZV"
      },
      "execution_count": 12,
      "outputs": []
    },
    {
      "cell_type": "code",
      "source": [
        "import os\n",
        "\n",
        "should_continue = 0 # should run \"continue\" command inside outer loop.\n",
        "for key in archive.keys():\n",
        "  label = archive.read_label(key)\n",
        "  audio_fn = '{}/{}.wav'.format(data_path, key)\n",
        "  audio_fn_ = '{}/{}.wav'.format(data_path+\"/out\", key)\n",
        "  if (label['noise'] in ['Very Noisy','Noisy']) and skip_noisy: os.remove(audio_fn_); skipped_count+=1; continue\n",
        "\n",
        "  for tag in label['tags']:\n",
        "    if tag.lower() not in allowed_emotions:\n",
        "        try: os.remove(audio_fn_)\n",
        "        except: pass\n",
        "        print(tag+\" emotion not in list\"); emotion_skip+=1; should_continue = 1; break # this is supposed to break the outer loop\n",
        "  if should_continue: should_continue = 0; continue\n",
        "\n",
        "  audio = archive.read_audio(key)\n",
        "  transcript = label['utterance']['content']\n",
        "  \n",
        "  if os.stat(audio_fn_).st_size < 71602:\n",
        "    #print(\"Skipping Audio, Duration: \"+str(len(librosa.core.load(audio_fn_, sr=48000)[0])/48000))\n",
        "    try: os.remove(audio_fn_)\n",
        "    except: pass\n",
        "    too_short_count+=1; continue # Skips files based on size.\n",
        "\n",
        "  filelist_line = \"{}|{}\".format(audio_fn_, transcript)\n",
        "  all_clips.append(filelist_line)\n",
        "  filelist_line = \"{}|{}\".format(audio_fn_, phoneme_transcription(label))\n",
        "  all_clips_arpa.append(filelist_line)\n",
        "    \n",
        "print(str(skipped_count)+\" Files are too Noisy.\")\n",
        "print(str(emotion_skip)+\" Files contain an emotion not in permitted emotions\")\n",
        "print(str(too_short_count)+\" Files are too short\")\n",
        "print(str(len(list(archive.keys()))-(skipped_count+too_short_count+emotion_skip))+\" Files kept in dataset.\")"
      ],
      "metadata": {
        "colab": {
          "base_uri": "https://localhost:8080/"
        },
        "id": "6OEmcvYyJOVI",
        "outputId": "5050e432-1cf2-45cd-bfc6-d31e3895e20e"
      },
      "execution_count": 13,
      "outputs": [
        {
          "output_type": "stream",
          "name": "stdout",
          "text": [
            "1407 Files are too Noisy.\n",
            "0 Files contain an emotion not in permitted emotions\n",
            "63 Files are too short\n",
            "769 Files kept in dataset.\n"
          ]
        }
      ]
    },
    {
      "cell_type": "code",
      "source": [
        "# shuffle the training data\n",
        "import random\n",
        "random.seed(0)\n",
        "random.shuffle(all_clips)\n",
        "\n",
        "# get train, test, validation splits\n",
        "num_clips = len(all_clips)\n",
        "train_end = int(num_clips * percentage_training_data)\n",
        "\n",
        "train = all_clips[:train_end]\n",
        "validation = all_clips[train_end:]\n",
        "\n",
        "train_arpa = all_clips_arpa[:train_end]\n",
        "validation_arpa = all_clips_arpa[train_end:]\n",
        "\n",
        "# dump the info to filelist files\n",
        "with open('train_filelist_starlight.txt', 'w') as train_out:\n",
        "  train_out.write('\\n'.join(train)+'\\n'+'\\n'.join(train_arpa)+\"\")\n",
        "with open('val_filelist_starlight.txt', 'w') as val_out:\n",
        "  val_out.write('\\n'.join(validation)+'\\n'+'\\n'.join(validation_arpa)+\"\")"
      ],
      "metadata": {
        "id": "zx_QJPk3Jz3_"
      },
      "execution_count": 14,
      "outputs": []
    },
    {
      "cell_type": "code",
      "source": [
        "!jupyter nbextension enable --py --sys-prefix widgetsnbextension"
      ],
      "metadata": {
        "colab": {
          "base_uri": "https://localhost:8080/"
        },
        "id": "tZ_e-QyxQMJ7",
        "outputId": "dfcd8f81-cc2e-41cd-c424-d4e72cffd30c"
      },
      "execution_count": 15,
      "outputs": [
        {
          "output_type": "stream",
          "name": "stdout",
          "text": [
            "Enabling notebook extension jupyter-js-widgets/extension...\n",
            "Paths used for configuration of notebook: \n",
            "    \t/usr/etc/jupyter/nbconfig/notebook.json\n",
            "      - Validating: \u001b[32mOK\u001b[0m\n",
            "Paths used for configuration of notebook: \n",
            "    \t/usr/etc/jupyter/nbconfig/notebook.json\n"
          ]
        }
      ]
    },
    {
      "cell_type": "code",
      "source": [
        "#imports\n",
        "import os\n",
        "import json\n",
        "import random\n",
        "import librosa\n",
        "\n",
        "import torch\n",
        "import IPython.display as ipd\n",
        "from matplotlib.pyplot import imshow\n",
        "from matplotlib import pyplot as plt\n",
        "from pathlib import Path\n",
        "\n",
        "from nemo.collections.tts.models import FastPitchModel"
      ],
      "metadata": {
        "colab": {
          "base_uri": "https://localhost:8080/"
        },
        "id": "SFLxz__HRx8o",
        "outputId": "1df8d773-9eee-4c04-b10f-a60ed7e3db3e"
      },
      "execution_count": 16,
      "outputs": [
        {
          "output_type": "stream",
          "name": "stderr",
          "text": [
            "[NeMo W 2022-06-19 13:28:26 optimizers:55] Apex was not found. Using the lamb or fused_adam optimizer will error out.\n",
            "[NeMo W 2022-06-19 13:28:27 experimental:28] Module <class 'nemo.collections.tts.torch.tts_tokenizers.IPATokenizer'> is experimental, not ready for production and is not fully supported. Use at your own risk.\n"
          ]
        }
      ]
    },
    {
      "cell_type": "code",
      "source": [
        "#creating the json files for training and validation\n",
        "with open('/content/train_filelist_starlight.txt') as f :\n",
        "  records = f.readlines()\n",
        "\n",
        "print(\"Number of records : \",len(records))\n",
        "\n",
        "train_manifest = 'fastpitch_train.json'\n",
        "\n",
        "train_rec = []\n",
        "random.shuffle(records)\n",
        "count = 0\n",
        "\n",
        "for i in records :\n",
        "  if count > 1200 :\n",
        "    break\n",
        "  \n",
        "  i = i.split('|')\n",
        "  audio_filepath = i[0]\n",
        "  text = i[-1].strip('\\n')\n",
        "  #if '{' in text :\n",
        "    #print(text)\n",
        "    #continue\n",
        "  count = count + 1\n",
        "\n",
        "  duration = librosa.get_duration(filename=audio_filepath)\n",
        "  r = {\n",
        "       \"audio_filepath\" : audio_filepath,\n",
        "       \"text\" : text,\n",
        "       \"duration\" : round(duration,1),\n",
        "       \"text_no_preprocessing\" : text\n",
        "    }\n",
        "\n",
        "  train_rec.append(r)\n",
        "\n",
        "with open(train_manifest, \"w\") as f:\n",
        "    for s in train_rec:\n",
        "        f.write(json.dumps(s) + '\\n')\n",
        "        \n",
        "print(\"Training Data : \", len(train_rec))"
      ],
      "metadata": {
        "colab": {
          "base_uri": "https://localhost:8080/"
        },
        "id": "MdMvYBoeR2hX",
        "outputId": "6483f079-e670-4405-a082-8ac1f97de44e"
      },
      "execution_count": 17,
      "outputs": [
        {
          "output_type": "stream",
          "name": "stdout",
          "text": [
            "Number of records :  1460\n",
            "Training Data :  1201\n"
          ]
        }
      ]
    },
    {
      "cell_type": "code",
      "source": [
        "with open('/content/val_filelist_starlight.txt') as f :\n",
        "  records_val = f.readlines()\n",
        "\n",
        "print(\"Number of records : \", len(records_val))\n",
        "\n",
        "val_manifest = 'fastpitch_val.json'\n",
        "count = 0\n",
        "val_rec = []\n",
        "random.shuffle(records_val)\n",
        "\n",
        "for i in records_val:\n",
        "  if count > 50 :\n",
        "    break\n",
        "    \n",
        "  i = i.split('|')\n",
        "  audio_filepath = i[0]\n",
        "  text = i[-1].strip('\\n')\n",
        "\n",
        "  # if '{' in text :\n",
        "  #   print(text)\n",
        "  #   continue\n",
        "  count = count + 1\n",
        "  duration = librosa.get_duration(filename=audio_filepath)\n",
        "  r = {\n",
        "       \"audio_filepath\" : audio_filepath,\n",
        "       \"text\" : text,\n",
        "       \"duration\" : round(duration,1),\n",
        "       \"text_no_preprocessing\" : text\n",
        "    }\n",
        "\n",
        "  val_rec.append(r)\n",
        "\n",
        "with open(val_manifest, \"w\") as f:\n",
        "    for s in val_rec:\n",
        "        f.write(json.dumps(s) + '\\n')"
      ],
      "metadata": {
        "colab": {
          "base_uri": "https://localhost:8080/"
        },
        "id": "Q-N6jbqMSFaA",
        "outputId": "bba9faba-25a4-4f50-a37e-46abd5a736b1"
      },
      "execution_count": 18,
      "outputs": [
        {
          "output_type": "stream",
          "name": "stdout",
          "text": [
            "Number of records :  78\n"
          ]
        }
      ]
    },
    {
      "cell_type": "code",
      "source": [
        "FastPitchModel.from_pretrained(\"tts_en_fastpitch\")\n",
        "nemo_files = [p for p in Path(f\"{home_path}/.cache/torch/NeMo/\").glob(\"**/tts_en_fastpitch_align.nemo\")]\n",
        "print(f\"Copying {nemo_files[0]} to ./\")\n",
        "Path(\"./tts_en_fastpitch_align.nemo\").write_bytes(nemo_files[0].read_bytes())"
      ],
      "metadata": {
        "colab": {
          "base_uri": "https://localhost:8080/"
        },
        "id": "aTbioaFkUCJt",
        "outputId": "3d06c472-1848-4b27-9f90-2fc2239609a2"
      },
      "execution_count": 19,
      "outputs": [
        {
          "output_type": "stream",
          "name": "stdout",
          "text": [
            "[NeMo I 2022-06-19 13:28:27 cloud:66] Downloading from: https://api.ngc.nvidia.com/v2/models/nvidia/nemo/tts_en_fastpitch/versions/1.8.1/files/tts_en_fastpitch_align.nemo to /root/.cache/torch/NeMo/NeMo_1.11.0rc0/tts_en_fastpitch_align/26d7e09971f1d611e24df90c7a9d9b38/tts_en_fastpitch_align.nemo\n",
            "[NeMo I 2022-06-19 13:28:36 common:789] Instantiating model from pre-trained checkpoint\n",
            "[NeMo I 2022-06-19 13:28:39 tokenize_and_classify:87] Creating ClassifyFst grammars.\n"
          ]
        },
        {
          "output_type": "stream",
          "name": "stderr",
          "text": [
            "[NeMo W 2022-06-19 13:29:01 experimental:28] Module <class 'nemo.collections.tts.torch.g2ps.IPAG2P'> is experimental, not ready for production and is not fully supported. Use at your own risk.\n",
            "[NeMo W 2022-06-19 13:29:02 g2ps:87] apply_to_oov_word=None, This means that some of words will remain unchanged if they are not handled by any of the rules in self.parse_one_word(). This may be intended if phonemes and chars are both valid inputs, otherwise, you may see unexpected deletions in your input.\n",
            "[NeMo W 2022-06-19 13:29:03 modelPT:149] If you intend to do training or fine-tuning, please call the ModelPT.setup_training_data() method and provide a valid configuration file to setup the train data loader.\n",
            "    Train config : \n",
            "    dataset:\n",
            "      _target_: nemo.collections.tts.torch.data.TTSDataset\n",
            "      manifest_filepath: /ws/LJSpeech/nvidia_ljspeech_train_clean_ngc.json\n",
            "      sample_rate: 22050\n",
            "      sup_data_path: /raid/LJSpeech/supplementary\n",
            "      sup_data_types:\n",
            "      - align_prior_matrix\n",
            "      - pitch\n",
            "      n_fft: 1024\n",
            "      win_length: 1024\n",
            "      hop_length: 256\n",
            "      window: hann\n",
            "      n_mels: 80\n",
            "      lowfreq: 0\n",
            "      highfreq: 8000\n",
            "      max_duration: null\n",
            "      min_duration: 0.1\n",
            "      ignore_file: null\n",
            "      trim: false\n",
            "      pitch_fmin: 65.40639132514966\n",
            "      pitch_fmax: 2093.004522404789\n",
            "      pitch_norm: true\n",
            "      pitch_mean: 212.35873413085938\n",
            "      pitch_std: 68.52806091308594\n",
            "      use_beta_binomial_interpolator: true\n",
            "    dataloader_params:\n",
            "      drop_last: false\n",
            "      shuffle: true\n",
            "      batch_size: 24\n",
            "      num_workers: 0\n",
            "    \n",
            "[NeMo W 2022-06-19 13:29:03 modelPT:156] If you intend to do validation, please call the ModelPT.setup_validation_data() or ModelPT.setup_multiple_validation_data() method and provide a valid configuration file to setup the validation data loader(s). \n",
            "    Validation config : \n",
            "    dataset:\n",
            "      _target_: nemo.collections.tts.torch.data.TTSDataset\n",
            "      manifest_filepath: /ws/LJSpeech/nvidia_ljspeech_val_clean_ngc.json\n",
            "      sample_rate: 22050\n",
            "      sup_data_path: /raid/LJSpeech/supplementary\n",
            "      sup_data_types:\n",
            "      - align_prior_matrix\n",
            "      - pitch\n",
            "      n_fft: 1024\n",
            "      win_length: 1024\n",
            "      hop_length: 256\n",
            "      window: hann\n",
            "      n_mels: 80\n",
            "      lowfreq: 0\n",
            "      highfreq: 8000\n",
            "      max_duration: null\n",
            "      min_duration: null\n",
            "      ignore_file: null\n",
            "      trim: false\n",
            "      pitch_fmin: 65.40639132514966\n",
            "      pitch_fmax: 2093.004522404789\n",
            "      pitch_norm: true\n",
            "      pitch_mean: 212.35873413085938\n",
            "      pitch_std: 68.52806091308594\n",
            "      use_beta_binomial_interpolator: true\n",
            "    dataloader_params:\n",
            "      drop_last: false\n",
            "      shuffle: false\n",
            "      batch_size: 24\n",
            "      num_workers: 0\n",
            "    \n"
          ]
        },
        {
          "output_type": "stream",
          "name": "stdout",
          "text": [
            "[NeMo I 2022-06-19 13:29:03 features:200] PADDING: 1\n",
            "[NeMo I 2022-06-19 13:29:19 save_restore_connector:243] Model FastPitchModel was successfully restored from /root/.cache/torch/NeMo/NeMo_1.11.0rc0/tts_en_fastpitch_align/26d7e09971f1d611e24df90c7a9d9b38/tts_en_fastpitch_align.nemo.\n",
            "Copying /root/.cache/torch/NeMo/NeMo_1.11.0rc0/tts_en_fastpitch_align/26d7e09971f1d611e24df90c7a9d9b38/tts_en_fastpitch_align.nemo to ./\n"
          ]
        },
        {
          "output_type": "execute_result",
          "data": {
            "text/plain": [
              "187023360"
            ]
          },
          "metadata": {},
          "execution_count": 19
        }
      ]
    },
    {
      "cell_type": "code",
      "source": [
        "!wget https://raw.githubusercontent.com/nvidia/NeMo/main/examples/tts/fastpitch_finetune.py\n",
        "\n",
        "!mkdir -p conf \\\n",
        "&& cd conf \\\n",
        "&& wget https://raw.githubusercontent.com/nvidia/NeMo/main/examples/tts/conf/fastpitch_align_v1.05.yaml \\\n",
        "&& cd .."
      ],
      "metadata": {
        "colab": {
          "base_uri": "https://localhost:8080/"
        },
        "id": "JIDochY6UFq9",
        "outputId": "19bc430e-321b-44d9-c9bd-e33dcac3fc41"
      },
      "execution_count": 20,
      "outputs": [
        {
          "output_type": "stream",
          "name": "stdout",
          "text": [
            "--2022-06-19 13:29:19--  https://raw.githubusercontent.com/nvidia/NeMo/main/examples/tts/fastpitch_finetune.py\n",
            "Resolving raw.githubusercontent.com (raw.githubusercontent.com)... 185.199.110.133, 185.199.108.133, 185.199.109.133, ...\n",
            "Connecting to raw.githubusercontent.com (raw.githubusercontent.com)|185.199.110.133|:443... connected.\n",
            "HTTP request sent, awaiting response... 200 OK\n",
            "Length: 1751 (1.7K) [text/plain]\n",
            "Saving to: ‘fastpitch_finetune.py’\n",
            "\n",
            "\rfastpitch_finetune.   0%[                    ]       0  --.-KB/s               \rfastpitch_finetune. 100%[===================>]   1.71K  --.-KB/s    in 0s      \n",
            "\n",
            "2022-06-19 13:29:20 (31.0 MB/s) - ‘fastpitch_finetune.py’ saved [1751/1751]\n",
            "\n",
            "--2022-06-19 13:29:20--  https://raw.githubusercontent.com/nvidia/NeMo/main/examples/tts/conf/fastpitch_align_v1.05.yaml\n",
            "Resolving raw.githubusercontent.com (raw.githubusercontent.com)... 185.199.108.133, 185.199.109.133, 185.199.110.133, ...\n",
            "Connecting to raw.githubusercontent.com (raw.githubusercontent.com)|185.199.108.133|:443... connected.\n",
            "HTTP request sent, awaiting response... 200 OK\n",
            "Length: 6692 (6.5K) [text/plain]\n",
            "Saving to: ‘fastpitch_align_v1.05.yaml’\n",
            "\n",
            "fastpitch_align_v1. 100%[===================>]   6.54K  --.-KB/s    in 0s      \n",
            "\n",
            "2022-06-19 13:29:20 (62.3 MB/s) - ‘fastpitch_align_v1.05.yaml’ saved [6692/6692]\n",
            "\n"
          ]
        }
      ]
    },
    {
      "cell_type": "code",
      "source": [
        "# additional files\n",
        "!mkdir -p tts_dataset_files && cd tts_dataset_files \\\n",
        "&& wget https://raw.githubusercontent.com/NVIDIA/NeMo/main/scripts/tts_dataset_files/cmudict-0.7b_nv22.01 \\\n",
        "&& wget https://raw.githubusercontent.com/NVIDIA/NeMo/main/scripts/tts_dataset_files/heteronyms-030921 \\\n",
        "&& wget wget https://raw.githubusercontent.com/NVIDIA/NeMo/$BRANCH/nemo_text_processing/text_normalization/en/data/whitelist/lj_speech.tsv \\\n",
        "&& cd .."
      ],
      "metadata": {
        "colab": {
          "base_uri": "https://localhost:8080/"
        },
        "id": "wVc-snn_Uwon",
        "outputId": "a779e117-fcc2-42bd-b87d-ae713119b6f4"
      },
      "execution_count": 21,
      "outputs": [
        {
          "output_type": "stream",
          "name": "stdout",
          "text": [
            "--2022-06-19 13:29:20--  https://raw.githubusercontent.com/NVIDIA/NeMo/main/scripts/tts_dataset_files/cmudict-0.7b_nv22.01\n",
            "Resolving raw.githubusercontent.com (raw.githubusercontent.com)... 185.199.108.133, 185.199.109.133, 185.199.110.133, ...\n",
            "Connecting to raw.githubusercontent.com (raw.githubusercontent.com)|185.199.108.133|:443... connected.\n",
            "HTTP request sent, awaiting response... 200 OK\n",
            "Length: 3721964 (3.5M) [text/plain]\n",
            "Saving to: ‘cmudict-0.7b_nv22.01’\n",
            "\n",
            "cmudict-0.7b_nv22.0 100%[===================>]   3.55M  --.-KB/s    in 0.08s   \n",
            "\n",
            "2022-06-19 13:29:20 (47.1 MB/s) - ‘cmudict-0.7b_nv22.01’ saved [3721964/3721964]\n",
            "\n",
            "--2022-06-19 13:29:20--  https://raw.githubusercontent.com/NVIDIA/NeMo/main/scripts/tts_dataset_files/heteronyms-030921\n",
            "Resolving raw.githubusercontent.com (raw.githubusercontent.com)... 185.199.109.133, 185.199.110.133, 185.199.111.133, ...\n",
            "Connecting to raw.githubusercontent.com (raw.githubusercontent.com)|185.199.109.133|:443... connected.\n",
            "HTTP request sent, awaiting response... 200 OK\n",
            "Length: 3132 (3.1K) [text/plain]\n",
            "Saving to: ‘heteronyms-030921’\n",
            "\n",
            "heteronyms-030921   100%[===================>]   3.06K  --.-KB/s    in 0s      \n",
            "\n",
            "2022-06-19 13:29:20 (46.7 MB/s) - ‘heteronyms-030921’ saved [3132/3132]\n",
            "\n",
            "--2022-06-19 13:29:20--  http://wget/\n",
            "Resolving wget (wget)... failed: Name or service not known.\n",
            "wget: unable to resolve host address ‘wget’\n",
            "--2022-06-19 13:29:21--  https://raw.githubusercontent.com/NVIDIA/NeMo/main/nemo_text_processing/text_normalization/en/data/whitelist/lj_speech.tsv\n",
            "Resolving raw.githubusercontent.com (raw.githubusercontent.com)... 185.199.111.133, 185.199.109.133, 185.199.108.133, ...\n",
            "Connecting to raw.githubusercontent.com (raw.githubusercontent.com)|185.199.111.133|:443... connected.\n",
            "HTTP request sent, awaiting response... 200 OK\n",
            "Length: 263 [text/plain]\n",
            "Saving to: ‘lj_speech.tsv’\n",
            "\n",
            "lj_speech.tsv       100%[===================>]     263  --.-KB/s    in 0s      \n",
            "\n",
            "2022-06-19 13:29:21 (17.3 MB/s) - ‘lj_speech.tsv’ saved [263/263]\n",
            "\n",
            "FINISHED --2022-06-19 13:29:21--\n",
            "Total wall clock time: 0.2s\n",
            "Downloaded: 1 files, 263 in 0s (17.3 MB/s)\n"
          ]
        }
      ]
    },
    {
      "cell_type": "markdown",
      "source": [
        "## finetuning the Fastpitch model"
      ],
      "metadata": {
        "id": "EzVWRDF0lQxI"
      }
    },
    {
      "cell_type": "code",
      "source": [
        "%cd /content/\n",
        "%pwd"
      ],
      "metadata": {
        "colab": {
          "base_uri": "https://localhost:8080/",
          "height": 55
        },
        "id": "-Le4ulKNgGv4",
        "outputId": "e0146f14-ea5d-4ea8-cab0-b8a5e3030a91"
      },
      "execution_count": 22,
      "outputs": [
        {
          "output_type": "stream",
          "name": "stdout",
          "text": [
            "/content\n"
          ]
        },
        {
          "output_type": "execute_result",
          "data": {
            "text/plain": [
              "'/content'"
            ],
            "application/vnd.google.colaboratory.intrinsic+json": {
              "type": "string"
            }
          },
          "metadata": {},
          "execution_count": 22
        }
      ]
    },
    {
      "cell_type": "code",
      "source": [
        "# TODO(oktai15): remove +model.text_tokenizer.add_blank_at=true when we update FastPitch checkpoint\n",
        "! (python fastpitch_finetune.py --config-name=fastpitch_align_v1.05.yaml \\\n",
        "  train_dataset=fastpitch_train.json \\\n",
        "  validation_datasets=fastpitch_val.json \\\n",
        "  sup_data_path=fastpitch_sup_data \\\n",
        "  phoneme_dict_path=tts_dataset_files/cmudict-0.7b_nv22.01 \\\n",
        "  heteronyms_path=tts_dataset_files/heteronyms-030921 \\\n",
        "  whitelist_path=tts_dataset_files/lj_speech.tsv \\\n",
        "  exp_manager.exp_dir=training_logs \\\n",
        "  +init_from_nemo_model=tts_en_fastpitch_align.nemo \\\n",
        "  +trainer.max_steps=2000 ~trainer.max_epochs \\\n",
        "  trainer.check_val_every_n_epoch=10 \\\n",
        "  model.train_ds.dataloader_params.batch_size=16 model.validation_ds.dataloader_params.batch_size=16 \\\n",
        "  model.n_speakers=1 model.pitch_mean=121.9 model.pitch_std=23.1 \\\n",
        "  model.pitch_fmin=30 model.pitch_fmax=512 model.optim.lr=2e-4 \\\n",
        "  ~model.optim.sched model.optim.name=adam trainer.devices=1 trainer.strategy=null \\\n",
        "  +model.text_tokenizer.add_blank_at=true \\\n",
        ")"
      ],
      "metadata": {
        "colab": {
          "base_uri": "https://localhost:8080/"
        },
        "id": "qmBl8LrRO39h",
        "outputId": "5e500f38-87b5-454c-ff01-c061dc63fb3d"
      },
      "execution_count": 23,
      "outputs": [
        {
          "output_type": "stream",
          "name": "stdout",
          "text": [
            "[NeMo W 2022-06-19 13:29:26 optimizers:55] Apex was not found. Using the lamb or fused_adam optimizer will error out.\n",
            "[NeMo W 2022-06-19 13:29:27 experimental:28] Module <class 'nemo.collections.tts.torch.tts_tokenizers.IPATokenizer'> is experimental, not ready for production and is not fully supported. Use at your own risk.\n",
            "Using 16bit native Automatic Mixed Precision (AMP)\n",
            "GPU available: True, used: True\n",
            "TPU available: False, using: 0 TPU cores\n",
            "IPU available: False, using: 0 IPUs\n",
            "HPU available: False, using: 0 HPUs\n",
            "[NeMo I 2022-06-19 13:29:27 exp_manager:287] Experiments will be logged at training_logs/FastPitch/2022-06-19_13-29-27\n",
            "[NeMo I 2022-06-19 13:29:28 exp_manager:661] TensorboardLogger has been set up\n",
            "[NeMo W 2022-06-19 13:29:28 nemo_logging:349] /usr/local/lib/python3.7/dist-packages/pytorch_lightning/trainer/trainer.py:2319: LightningDeprecationWarning: `Trainer.weights_save_path` has been deprecated in v1.6 and will be removed in v1.8.\n",
            "      rank_zero_deprecation(\"`Trainer.weights_save_path` has been deprecated in v1.6 and will be removed in v1.8.\")\n",
            "    \n",
            "[NeMo I 2022-06-19 13:29:30 tokenize_and_classify:87] Creating ClassifyFst grammars.\n",
            "[NeMo W 2022-06-19 13:29:52 experimental:28] Module <class 'nemo.collections.tts.torch.g2ps.IPAG2P'> is experimental, not ready for production and is not fully supported. Use at your own risk.\n",
            "[NeMo W 2022-06-19 13:29:53 g2ps:87] apply_to_oov_word=None, This means that some of words will remain unchanged if they are not handled by any of the rules in self.parse_one_word(). This may be intended if phonemes and chars are both valid inputs, otherwise, you may see unexpected deletions in your input.\n",
            "Created a temporary directory at /tmp/tmpll_2eul0\n",
            "Writing /tmp/tmpll_2eul0/_remote_module_non_sriptable.py\n",
            "[NeMo I 2022-06-19 13:29:53 data:186] Loading dataset from fastpitch_train.json.\n",
            "1201it [00:34, 34.53it/s]\n",
            "[NeMo I 2022-06-19 13:30:28 data:221] Loaded dataset with 1201 files.\n",
            "[NeMo I 2022-06-19 13:30:28 data:223] Dataset contains 0.93 hours.\n",
            "[NeMo I 2022-06-19 13:30:28 data:321] Pruned 0 files. Final dataset contains 1201 files\n",
            "[NeMo I 2022-06-19 13:30:28 data:324] Pruned 0.00 hours. Final dataset contains 0.93 hours.\n",
            "[NeMo W 2022-06-19 13:30:28 nemo_logging:349] /usr/local/lib/python3.7/dist-packages/torch/utils/data/dataloader.py:490: UserWarning: This DataLoader will create 12 worker processes in total. Our suggested max number of worker in current system is 4, which is smaller than what this DataLoader is going to create. Please be aware that excessive worker creation might get DataLoader running slow or even freeze, lower the worker number to avoid potential slowness/freeze if necessary.\n",
            "      cpuset_checked))\n",
            "    \n",
            "[NeMo I 2022-06-19 13:30:28 data:186] Loading dataset from fastpitch_val.json.\n",
            "51it [00:01, 28.93it/s]\n",
            "[NeMo I 2022-06-19 13:30:30 data:221] Loaded dataset with 51 files.\n",
            "[NeMo I 2022-06-19 13:30:30 data:223] Dataset contains 0.05 hours.\n",
            "[NeMo I 2022-06-19 13:30:30 data:321] Pruned 0 files. Final dataset contains 51 files\n",
            "[NeMo I 2022-06-19 13:30:30 data:324] Pruned 0.00 hours. Final dataset contains 0.05 hours.\n",
            "[NeMo W 2022-06-19 13:30:30 nemo_logging:349] /usr/local/lib/python3.7/dist-packages/torch/utils/data/dataloader.py:490: UserWarning: This DataLoader will create 8 worker processes in total. Our suggested max number of worker in current system is 4, which is smaller than what this DataLoader is going to create. Please be aware that excessive worker creation might get DataLoader running slow or even freeze, lower the worker number to avoid potential slowness/freeze if necessary.\n",
            "      cpuset_checked))\n",
            "    \n",
            "[NeMo I 2022-06-19 13:30:30 features:200] PADDING: 1\n",
            "[NeMo I 2022-06-19 13:30:33 tokenize_and_classify:87] Creating ClassifyFst grammars.\n",
            "[NeMo W 2022-06-19 13:30:56 g2ps:87] apply_to_oov_word=None, This means that some of words will remain unchanged if they are not handled by any of the rules in self.parse_one_word(). This may be intended if phonemes and chars are both valid inputs, otherwise, you may see unexpected deletions in your input.\n",
            "[NeMo W 2022-06-19 13:30:56 modelPT:149] If you intend to do training or fine-tuning, please call the ModelPT.setup_training_data() method and provide a valid configuration file to setup the train data loader.\n",
            "    Train config : \n",
            "    dataset:\n",
            "      _target_: nemo.collections.tts.torch.data.TTSDataset\n",
            "      manifest_filepath: /ws/LJSpeech/nvidia_ljspeech_train_clean_ngc.json\n",
            "      sample_rate: 22050\n",
            "      sup_data_path: /raid/LJSpeech/supplementary\n",
            "      sup_data_types:\n",
            "      - align_prior_matrix\n",
            "      - pitch\n",
            "      n_fft: 1024\n",
            "      win_length: 1024\n",
            "      hop_length: 256\n",
            "      window: hann\n",
            "      n_mels: 80\n",
            "      lowfreq: 0\n",
            "      highfreq: 8000\n",
            "      max_duration: null\n",
            "      min_duration: 0.1\n",
            "      ignore_file: null\n",
            "      trim: false\n",
            "      pitch_fmin: 65.40639132514966\n",
            "      pitch_fmax: 2093.004522404789\n",
            "      pitch_norm: true\n",
            "      pitch_mean: 212.35873413085938\n",
            "      pitch_std: 68.52806091308594\n",
            "      use_beta_binomial_interpolator: true\n",
            "    dataloader_params:\n",
            "      drop_last: false\n",
            "      shuffle: true\n",
            "      batch_size: 24\n",
            "      num_workers: 0\n",
            "    \n",
            "[NeMo W 2022-06-19 13:30:56 modelPT:156] If you intend to do validation, please call the ModelPT.setup_validation_data() or ModelPT.setup_multiple_validation_data() method and provide a valid configuration file to setup the validation data loader(s). \n",
            "    Validation config : \n",
            "    dataset:\n",
            "      _target_: nemo.collections.tts.torch.data.TTSDataset\n",
            "      manifest_filepath: /ws/LJSpeech/nvidia_ljspeech_val_clean_ngc.json\n",
            "      sample_rate: 22050\n",
            "      sup_data_path: /raid/LJSpeech/supplementary\n",
            "      sup_data_types:\n",
            "      - align_prior_matrix\n",
            "      - pitch\n",
            "      n_fft: 1024\n",
            "      win_length: 1024\n",
            "      hop_length: 256\n",
            "      window: hann\n",
            "      n_mels: 80\n",
            "      lowfreq: 0\n",
            "      highfreq: 8000\n",
            "      max_duration: null\n",
            "      min_duration: null\n",
            "      ignore_file: null\n",
            "      trim: false\n",
            "      pitch_fmin: 65.40639132514966\n",
            "      pitch_fmax: 2093.004522404789\n",
            "      pitch_norm: true\n",
            "      pitch_mean: 212.35873413085938\n",
            "      pitch_std: 68.52806091308594\n",
            "      use_beta_binomial_interpolator: true\n",
            "    dataloader_params:\n",
            "      drop_last: false\n",
            "      shuffle: false\n",
            "      batch_size: 24\n",
            "      num_workers: 0\n",
            "    \n",
            "[NeMo I 2022-06-19 13:30:56 features:200] PADDING: 1\n",
            "[NeMo I 2022-06-19 13:30:57 save_restore_connector:243] Model FastPitchModel was successfully restored from /content/tts_en_fastpitch_align.nemo.\n",
            "[NeMo I 2022-06-19 13:30:57 modelPT:991] Model checkpoint restored from nemo file with path : `tts_en_fastpitch_align.nemo`\n",
            "LOCAL_RANK: 0 - CUDA_VISIBLE_DEVICES: [0]\n",
            "[NeMo I 2022-06-19 13:31:00 modelPT:579] Optimizer config = Adam (\n",
            "    Parameter Group 0\n",
            "        amsgrad: False\n",
            "        betas: [0.9, 0.999]\n",
            "        eps: 1e-08\n",
            "        lr: 0.0002\n",
            "        maximize: False\n",
            "        weight_decay: 1e-06\n",
            "    )\n",
            "[NeMo I 2022-06-19 13:31:00 lr_scheduler:698] Scheduler not initialized as no `sched` config supplied to setup_optimizer()\n",
            "\n",
            "  | Name             | Type                              | Params\n",
            "-----------------------------------------------------------------------\n",
            "0 | mel_loss         | MelLoss                           | 0     \n",
            "1 | pitch_loss       | PitchLoss                         | 0     \n",
            "2 | duration_loss    | DurationLoss                      | 0     \n",
            "3 | aligner          | AlignmentEncoder                  | 1.0 M \n",
            "4 | forward_sum_loss | ForwardSumLoss                    | 0     \n",
            "5 | bin_loss         | BinLoss                           | 0     \n",
            "6 | preprocessor     | AudioToMelSpectrogramPreprocessor | 0     \n",
            "7 | fastpitch        | FastPitchModule                   | 45.8 M\n",
            "-----------------------------------------------------------------------\n",
            "45.8 M    Trainable params\n",
            "0         Non-trainable params\n",
            "45.8 M    Total params\n",
            "91.518    Total estimated model params size (MB)\n",
            "Sanity Checking DataLoader 0:   0% 0/2 [00:00<?, ?it/s][NeMo W 2022-06-19 13:31:46 nemo_logging:349] /usr/local/lib/python3.7/dist-packages/numba/np/ufunc/parallel.py:363: NumbaWarning: \u001b[1mThe TBB threading layer requires TBB version 2019.5 or later i.e., TBB_INTERFACE_VERSION >= 11005. Found TBB_INTERFACE_VERSION = 9107. The TBB threading layer is disabled.\u001b[0m\n",
            "      warnings.warn(problem)\n",
            "    \n",
            "[NeMo W 2022-06-19 13:31:48 nemo_logging:349] /usr/local/lib/python3.7/dist-packages/pytorch_lightning/trainer/trainer.py:1937: PossibleUserWarning: The number of training batches (76) is smaller than the logging interval Trainer(log_every_n_steps=100). Set a lower value for log_every_n_steps if you want to see logs for the training epoch.\n",
            "      category=PossibleUserWarning,\n",
            "    \n",
            "Epoch 0:   0% 0/76 [00:00<?, ?it/s] [NeMo W 2022-06-19 13:31:48 nemo_logging:349] /usr/local/lib/python3.7/dist-packages/torch/utils/data/dataloader.py:490: UserWarning: This DataLoader will create 12 worker processes in total. Our suggested max number of worker in current system is 4, which is smaller than what this DataLoader is going to create. Please be aware that excessive worker creation might get DataLoader running slow or even freeze, lower the worker number to avoid potential slowness/freeze if necessary.\n",
            "      cpuset_checked))\n",
            "    \n",
            "Epoch 1:  79% 60/76 [02:17<00:36,  2.28s/it, loss=9.21, v_num=9-27]../aten/src/ATen/native/cuda/ScatterGatherKernel.cu:111: operator(): block: [0,0,0], thread: [89,0,0] Assertion `idx_dim >= 0 && idx_dim < index_size && \"index out of bounds\"` failed.\n",
            "Error executing job with overrides: ['train_dataset=fastpitch_train.json', 'validation_datasets=fastpitch_val.json', 'sup_data_path=fastpitch_sup_data', 'phoneme_dict_path=tts_dataset_files/cmudict-0.7b_nv22.01', 'heteronyms_path=tts_dataset_files/heteronyms-030921', 'whitelist_path=tts_dataset_files/lj_speech.tsv', 'exp_manager.exp_dir=training_logs', '+init_from_nemo_model=tts_en_fastpitch_align.nemo', '+trainer.max_steps=2000', '~trainer.max_epochs', 'trainer.check_val_every_n_epoch=10', 'model.train_ds.dataloader_params.batch_size=16', 'model.validation_ds.dataloader_params.batch_size=16', 'model.n_speakers=1', 'model.pitch_mean=121.9', 'model.pitch_std=23.1', 'model.pitch_fmin=30', 'model.pitch_fmax=512', 'model.optim.lr=2e-4', '~model.optim.sched', 'model.optim.name=adam', 'trainer.devices=1', 'trainer.strategy=null', '+model.text_tokenizer.add_blank_at=true']\n",
            "Traceback (most recent call last):\n",
            "  File \"/usr/local/lib/python3.7/dist-packages/pytorch_lightning/trainer/trainer.py\", line 723, in _call_and_handle_interrupt\n",
            "    return trainer_fn(*args, **kwargs)\n",
            "  File \"/usr/local/lib/python3.7/dist-packages/pytorch_lightning/trainer/trainer.py\", line 811, in _fit_impl\n",
            "    results = self._run(model, ckpt_path=self.ckpt_path)\n",
            "  File \"/usr/local/lib/python3.7/dist-packages/pytorch_lightning/trainer/trainer.py\", line 1236, in _run\n",
            "    results = self._run_stage()\n",
            "  File \"/usr/local/lib/python3.7/dist-packages/pytorch_lightning/trainer/trainer.py\", line 1323, in _run_stage\n",
            "    return self._run_train()\n",
            "  File \"/usr/local/lib/python3.7/dist-packages/pytorch_lightning/trainer/trainer.py\", line 1353, in _run_train\n",
            "    self.fit_loop.run()\n",
            "  File \"/usr/local/lib/python3.7/dist-packages/pytorch_lightning/loops/base.py\", line 204, in run\n",
            "    self.advance(*args, **kwargs)\n",
            "  File \"/usr/local/lib/python3.7/dist-packages/pytorch_lightning/loops/fit_loop.py\", line 269, in advance\n",
            "    self._outputs = self.epoch_loop.run(self._data_fetcher)\n",
            "  File \"/usr/local/lib/python3.7/dist-packages/pytorch_lightning/loops/base.py\", line 204, in run\n",
            "    self.advance(*args, **kwargs)\n",
            "  File \"/usr/local/lib/python3.7/dist-packages/pytorch_lightning/loops/epoch/training_epoch_loop.py\", line 208, in advance\n",
            "    batch_output = self.batch_loop.run(batch, batch_idx)\n",
            "  File \"/usr/local/lib/python3.7/dist-packages/pytorch_lightning/loops/base.py\", line 204, in run\n",
            "    self.advance(*args, **kwargs)\n",
            "  File \"/usr/local/lib/python3.7/dist-packages/pytorch_lightning/loops/batch/training_batch_loop.py\", line 88, in advance\n",
            "    outputs = self.optimizer_loop.run(split_batch, optimizers, batch_idx)\n",
            "  File \"/usr/local/lib/python3.7/dist-packages/pytorch_lightning/loops/base.py\", line 204, in run\n",
            "    self.advance(*args, **kwargs)\n",
            "  File \"/usr/local/lib/python3.7/dist-packages/pytorch_lightning/loops/optimization/optimizer_loop.py\", line 207, in advance\n",
            "    self.optimizer_idx,\n",
            "  File \"/usr/local/lib/python3.7/dist-packages/pytorch_lightning/loops/optimization/optimizer_loop.py\", line 256, in _run_optimization\n",
            "    self._optimizer_step(optimizer, opt_idx, batch_idx, closure)\n",
            "  File \"/usr/local/lib/python3.7/dist-packages/pytorch_lightning/loops/optimization/optimizer_loop.py\", line 378, in _optimizer_step\n",
            "    using_lbfgs=is_lbfgs,\n",
            "  File \"/usr/local/lib/python3.7/dist-packages/pytorch_lightning/trainer/trainer.py\", line 1595, in _call_lightning_module_hook\n",
            "    output = fn(*args, **kwargs)\n",
            "  File \"/usr/local/lib/python3.7/dist-packages/pytorch_lightning/core/lightning.py\", line 1646, in optimizer_step\n",
            "    optimizer.step(closure=optimizer_closure)\n",
            "  File \"/usr/local/lib/python3.7/dist-packages/pytorch_lightning/core/optimizer.py\", line 168, in step\n",
            "    step_output = self._strategy.optimizer_step(self._optimizer, self._optimizer_idx, closure, **kwargs)\n",
            "  File \"/usr/local/lib/python3.7/dist-packages/pytorch_lightning/strategies/strategy.py\", line 193, in optimizer_step\n",
            "    return self.precision_plugin.optimizer_step(model, optimizer, opt_idx, closure, **kwargs)\n",
            "  File \"/usr/local/lib/python3.7/dist-packages/pytorch_lightning/plugins/precision/native_amp.py\", line 85, in optimizer_step\n",
            "    closure_result = closure()\n",
            "  File \"/usr/local/lib/python3.7/dist-packages/pytorch_lightning/loops/optimization/optimizer_loop.py\", line 148, in __call__\n",
            "    self._result = self.closure(*args, **kwargs)\n",
            "  File \"/usr/local/lib/python3.7/dist-packages/pytorch_lightning/loops/optimization/optimizer_loop.py\", line 134, in closure\n",
            "    step_output = self._step_fn()\n",
            "  File \"/usr/local/lib/python3.7/dist-packages/pytorch_lightning/loops/optimization/optimizer_loop.py\", line 427, in _training_step\n",
            "    training_step_output = self.trainer._call_strategy_hook(\"training_step\", *step_kwargs.values())\n",
            "  File \"/usr/local/lib/python3.7/dist-packages/pytorch_lightning/trainer/trainer.py\", line 1765, in _call_strategy_hook\n",
            "    output = fn(*args, **kwargs)\n",
            "  File \"/usr/local/lib/python3.7/dist-packages/pytorch_lightning/strategies/strategy.py\", line 333, in training_step\n",
            "    return self.model.training_step(*args, **kwargs)\n",
            "  File \"/usr/local/lib/python3.7/dist-packages/nemo/utils/model_utils.py\", line 364, in wrap_training_step\n",
            "    output_dict = wrapped(*args, **kwargs)\n",
            "  File \"/usr/local/lib/python3.7/dist-packages/nemo/collections/tts/models/fastpitch.py\", line 330, in training_step\n",
            "    input_lens=text_lens,\n",
            "  File \"/usr/local/lib/python3.7/dist-packages/torch/nn/modules/module.py\", line 1110, in _call_impl\n",
            "    return forward_call(*input, **kwargs)\n",
            "  File \"/usr/local/lib/python3.7/dist-packages/nemo/core/classes/common.py\", line 963, in __call__\n",
            "    outputs = wrapped(*args, **kwargs)\n",
            "  File \"/usr/local/lib/python3.7/dist-packages/nemo/collections/tts/models/fastpitch.py\", line 292, in forward\n",
            "    input_lens=input_lens,\n",
            "  File \"/usr/local/lib/python3.7/dist-packages/torch/nn/modules/module.py\", line 1110, in _call_impl\n",
            "    return forward_call(*input, **kwargs)\n",
            "  File \"/usr/local/lib/python3.7/dist-packages/nemo/core/classes/common.py\", line 963, in __call__\n",
            "    outputs = wrapped(*args, **kwargs)\n",
            "  File \"/usr/local/lib/python3.7/dist-packages/nemo/collections/tts/modules/fastpitch.py\", line 257, in forward\n",
            "    len_regulated, dec_lens = regulate_len(attn_hard_dur, enc_out, pace)\n",
            "  File \"/usr/local/lib/python3.7/dist-packages/nemo/collections/tts/helpers/helpers.py\", line 538, in regulate_len\n",
            "    range_ = torch.arange(max_len).to(enc_out.device)[None, :, None]\n",
            "RuntimeError: CUDA error: device-side assert triggered\n",
            "CUDA kernel errors might be asynchronously reported at some other API call,so the stacktrace below might be incorrect.\n",
            "For debugging consider passing CUDA_LAUNCH_BLOCKING=1.\n",
            "\n",
            "During handling of the above exception, another exception occurred:\n",
            "\n",
            "Traceback (most recent call last):\n",
            "  File \"fastpitch_finetune.py\", line 37, in main\n",
            "    trainer.fit(model)\n",
            "  File \"/usr/local/lib/python3.7/dist-packages/pytorch_lightning/trainer/trainer.py\", line 771, in fit\n",
            "    self._fit_impl, model, train_dataloaders, val_dataloaders, datamodule, ckpt_path\n",
            "  File \"/usr/local/lib/python3.7/dist-packages/pytorch_lightning/trainer/trainer.py\", line 738, in _call_and_handle_interrupt\n",
            "    self._teardown()\n",
            "  File \"/usr/local/lib/python3.7/dist-packages/pytorch_lightning/trainer/trainer.py\", line 1300, in _teardown\n",
            "    self.strategy.teardown()\n",
            "  File \"/usr/local/lib/python3.7/dist-packages/pytorch_lightning/strategies/single_device.py\", line 93, in teardown\n",
            "    super().teardown()\n",
            "  File \"/usr/local/lib/python3.7/dist-packages/pytorch_lightning/strategies/strategy.py\", line 444, in teardown\n",
            "    optimizers_to_device(self.optimizers, torch.device(\"cpu\"))\n",
            "  File \"/usr/local/lib/python3.7/dist-packages/pytorch_lightning/utilities/optimizer.py\", line 27, in optimizers_to_device\n",
            "    optimizer_to_device(opt, device)\n",
            "  File \"/usr/local/lib/python3.7/dist-packages/pytorch_lightning/utilities/optimizer.py\", line 33, in optimizer_to_device\n",
            "    optimizer.state[p] = apply_to_collection(v, torch.Tensor, move_data_to_device, device)\n",
            "  File \"/usr/local/lib/python3.7/dist-packages/pytorch_lightning/utilities/apply_func.py\", line 108, in apply_to_collection\n",
            "    v, dtype, function, *args, wrong_dtype=wrong_dtype, include_none=include_none, **kwargs\n",
            "  File \"/usr/local/lib/python3.7/dist-packages/pytorch_lightning/utilities/apply_func.py\", line 99, in apply_to_collection\n",
            "    return function(data, *args, **kwargs)\n",
            "  File \"/usr/local/lib/python3.7/dist-packages/pytorch_lightning/utilities/apply_func.py\", line 354, in move_data_to_device\n",
            "    return apply_to_collection(batch, dtype=dtype, function=batch_to)\n",
            "  File \"/usr/local/lib/python3.7/dist-packages/pytorch_lightning/utilities/apply_func.py\", line 99, in apply_to_collection\n",
            "    return function(data, *args, **kwargs)\n",
            "  File \"/usr/local/lib/python3.7/dist-packages/pytorch_lightning/utilities/apply_func.py\", line 347, in batch_to\n",
            "    data_output = data.to(device, **kwargs)\n",
            "RuntimeError: CUDA error: device-side assert triggered\n",
            "CUDA kernel errors might be asynchronously reported at some other API call,so the stacktrace below might be incorrect.\n",
            "For debugging consider passing CUDA_LAUNCH_BLOCKING=1.\n",
            "\n",
            "Set the environment variable HYDRA_FULL_ERROR=1 for a complete stack trace.\n",
            "\u001b[0m"
          ]
        }
      ]
    },
    {
      "cell_type": "markdown",
      "source": [
        "## Preparing the data for HiFiGAN finetuning"
      ],
      "metadata": {
        "id": "_zqAPZZolV_1"
      }
    },
    {
      "cell_type": "code",
      "source": [
        ""
      ],
      "metadata": {
        "id": "ymqkwOOHlnoP"
      },
      "execution_count": null,
      "outputs": []
    },
    {
      "cell_type": "markdown",
      "source": [
        "## finetuning the HiFiGAN model"
      ],
      "metadata": {
        "id": "zWTj8FdIloC-"
      }
    },
    {
      "cell_type": "code",
      "source": [
        "!nvidia-smi"
      ],
      "metadata": {
        "id": "Wv0A6OARlrVv"
      },
      "execution_count": null,
      "outputs": []
    },
    {
      "cell_type": "markdown",
      "source": [
        "## Copy the final weights to the gdrive for future reference"
      ],
      "metadata": {
        "id": "kFlThycmlvZg"
      }
    },
    {
      "cell_type": "code",
      "source": [
        ""
      ],
      "metadata": {
        "id": "1AzFLttCmTTx"
      },
      "execution_count": null,
      "outputs": []
    },
    {
      "cell_type": "markdown",
      "source": [
        "## Load the checkpoints and do the inference"
      ],
      "metadata": {
        "id": "tgV3Rtp_mUPh"
      }
    },
    {
      "cell_type": "code",
      "source": [
        ""
      ],
      "metadata": {
        "id": "yQ5qgAXHnbBV"
      },
      "execution_count": null,
      "outputs": []
    }
  ]
}